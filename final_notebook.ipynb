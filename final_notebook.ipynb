{
 "cells": [
  {
   "cell_type": "markdown",
   "id": "0c90dd53",
   "metadata": {},
   "source": [
    "<h1>Goal: build a model that can predict house prices</h1>"
   ]
  },
  {
   "cell_type": "markdown",
   "id": "e53c463a",
   "metadata": {},
   "source": [
    "- the price of the house can very by many different dimensions\n",
    "- it is so difficult that you usually have to get an inspector to give a rating\n",
    "- this model should make it easier for our customer to get a reference price"
   ]
  },
  {
   "cell_type": "markdown",
   "id": "774bcdcd",
   "metadata": {},
   "source": [
    "<b>Initial hypothesis:</b>\n",
    "- that basic house descriptors can be used to measure the price of a home"
   ]
  },
  {
   "cell_type": "markdown",
   "id": "77036bbd",
   "metadata": {},
   "source": [
    "## Imports"
   ]
  },
  {
   "cell_type": "code",
   "execution_count": 1,
   "id": "cf0f4786",
   "metadata": {},
   "outputs": [],
   "source": [
    "import warnings\n",
    "warnings.filterwarnings(\"ignore\")\n",
    "\n",
    "import pandas as pd\n",
    "import matplotlib.pyplot as plt\n",
    "import seaborn as sns\n",
    "import numpy as np\n",
    "import wrangle\n",
    "import prepare\n",
    "import acquire\n",
    "import env\n",
    "import sklearn.preprocessing\n",
    "from sklearn.model_selection import train_test_split\n",
    "from sklearn.metrics import mean_squared_error\n",
    "from sklearn.linear_model import LinearRegression, LassoLars, TweedieRegressor\n",
    "from sklearn.preprocessing import PolynomialFeatures\n",
    "from scipy import stats\n",
    "from sklearn.preprocessing import MinMaxScaler"
   ]
  },
  {
   "cell_type": "markdown",
   "id": "84e598ad",
   "metadata": {},
   "source": [
    "## Acquire"
   ]
  },
  {
   "cell_type": "markdown",
   "id": "ec0e6a27",
   "metadata": {},
   "source": [
    "- data from https://www.kaggle.com/datasets/kaggle/kaggle-survey-2017\n",
    "- initially contained 52442 rows and and 17 columns before cleaning\n",
    "- each row represents a house listing on Zillow\n",
    "- each column represents a feature of the property"
   ]
  },
  {
   "cell_type": "markdown",
   "id": "07fd8a4e",
   "metadata": {},
   "source": [
    "From the scope of what is wanted I have adjusted my SQL query to recieve 52442 rows. So now that we have the information then what? Now we dropp what we do not need. Since there are many differing features to choose from it would be easier to finds what has the most impact. I am going to choose:\n",
    "- bedroomcnt\n",
    "- bathroomcnt\n",
    "- calculatedfinishedsquarefeet\n",
    "- taxvaluedollarcnt\n",
    "- yearbuilt\n",
    "- fips"
   ]
  },
  {
   "cell_type": "code",
   "execution_count": 2,
   "id": "42fcc5fd",
   "metadata": {},
   "outputs": [
    {
     "data": {
      "text/html": [
       "<div>\n",
       "<style scoped>\n",
       "    .dataframe tbody tr th:only-of-type {\n",
       "        vertical-align: middle;\n",
       "    }\n",
       "\n",
       "    .dataframe tbody tr th {\n",
       "        vertical-align: top;\n",
       "    }\n",
       "\n",
       "    .dataframe thead th {\n",
       "        text-align: right;\n",
       "    }\n",
       "</style>\n",
       "<table border=\"1\" class=\"dataframe\">\n",
       "  <thead>\n",
       "    <tr style=\"text-align: right;\">\n",
       "      <th></th>\n",
       "      <th>bathroomcnt</th>\n",
       "      <th>bedroomcnt</th>\n",
       "      <th>calculatedfinishedsquarefeet</th>\n",
       "      <th>fips</th>\n",
       "      <th>yearbuilt</th>\n",
       "      <th>taxvaluedollarcnt</th>\n",
       "    </tr>\n",
       "  </thead>\n",
       "  <tbody>\n",
       "    <tr>\n",
       "      <th>0</th>\n",
       "      <td>3.5</td>\n",
       "      <td>4.0</td>\n",
       "      <td>3100.0</td>\n",
       "      <td>6059.0</td>\n",
       "      <td>1998.0</td>\n",
       "      <td>1023282.0</td>\n",
       "    </tr>\n",
       "    <tr>\n",
       "      <th>1</th>\n",
       "      <td>1.0</td>\n",
       "      <td>2.0</td>\n",
       "      <td>1465.0</td>\n",
       "      <td>6111.0</td>\n",
       "      <td>1967.0</td>\n",
       "      <td>464000.0</td>\n",
       "    </tr>\n",
       "    <tr>\n",
       "      <th>2</th>\n",
       "      <td>2.0</td>\n",
       "      <td>3.0</td>\n",
       "      <td>1243.0</td>\n",
       "      <td>6059.0</td>\n",
       "      <td>1962.0</td>\n",
       "      <td>564778.0</td>\n",
       "    </tr>\n",
       "  </tbody>\n",
       "</table>\n",
       "</div>"
      ],
      "text/plain": [
       "   bathroomcnt  bedroomcnt  calculatedfinishedsquarefeet    fips  yearbuilt  \\\n",
       "0          3.5         4.0                        3100.0  6059.0     1998.0   \n",
       "1          1.0         2.0                        1465.0  6111.0     1967.0   \n",
       "2          2.0         3.0                        1243.0  6059.0     1962.0   \n",
       "\n",
       "   taxvaluedollarcnt  \n",
       "0          1023282.0  \n",
       "1           464000.0  \n",
       "2           564778.0  "
      ]
     },
     "execution_count": 2,
     "metadata": {},
     "output_type": "execute_result"
    }
   ],
   "source": [
    "df=acquire.zillow_data()\n",
    "df.head(3)"
   ]
  },
  {
   "cell_type": "markdown",
   "id": "1b81533e",
   "metadata": {},
   "source": [
    "# Prepare"
   ]
  },
  {
   "cell_type": "markdown",
   "id": "019278b2",
   "metadata": {},
   "source": [
    "Now taking in the data we transform it into a train test split to feed into my machine learning models"
   ]
  },
  {
   "cell_type": "markdown",
   "id": "a307fa18",
   "metadata": {},
   "source": [
    "> I have dropped the null values I have found and have decided to keep the project scope wide. In that I am keeping the outliers.\n"
   ]
  },
  {
   "cell_type": "code",
   "execution_count": 3,
   "id": "799956fb",
   "metadata": {},
   "outputs": [
    {
     "data": {
      "text/html": [
       "<div>\n",
       "<style scoped>\n",
       "    .dataframe tbody tr th:only-of-type {\n",
       "        vertical-align: middle;\n",
       "    }\n",
       "\n",
       "    .dataframe tbody tr th {\n",
       "        vertical-align: top;\n",
       "    }\n",
       "\n",
       "    .dataframe thead th {\n",
       "        text-align: right;\n",
       "    }\n",
       "</style>\n",
       "<table border=\"1\" class=\"dataframe\">\n",
       "  <thead>\n",
       "    <tr style=\"text-align: right;\">\n",
       "      <th></th>\n",
       "      <th>bathroomcnt</th>\n",
       "      <th>bedroomcnt</th>\n",
       "      <th>calculatedfinishedsquarefeet</th>\n",
       "      <th>fips</th>\n",
       "      <th>yearbuilt</th>\n",
       "      <th>taxvaluedollarcnt</th>\n",
       "    </tr>\n",
       "  </thead>\n",
       "  <tbody>\n",
       "    <tr>\n",
       "      <th>0</th>\n",
       "      <td>3.5</td>\n",
       "      <td>4.0</td>\n",
       "      <td>3100.0</td>\n",
       "      <td>6059.0</td>\n",
       "      <td>1998.0</td>\n",
       "      <td>1023282.0</td>\n",
       "    </tr>\n",
       "    <tr>\n",
       "      <th>1</th>\n",
       "      <td>1.0</td>\n",
       "      <td>2.0</td>\n",
       "      <td>1465.0</td>\n",
       "      <td>6111.0</td>\n",
       "      <td>1967.0</td>\n",
       "      <td>464000.0</td>\n",
       "    </tr>\n",
       "    <tr>\n",
       "      <th>2</th>\n",
       "      <td>2.0</td>\n",
       "      <td>3.0</td>\n",
       "      <td>1243.0</td>\n",
       "      <td>6059.0</td>\n",
       "      <td>1962.0</td>\n",
       "      <td>564778.0</td>\n",
       "    </tr>\n",
       "  </tbody>\n",
       "</table>\n",
       "</div>"
      ],
      "text/plain": [
       "   bathroomcnt  bedroomcnt  calculatedfinishedsquarefeet    fips  yearbuilt  \\\n",
       "0          3.5         4.0                        3100.0  6059.0     1998.0   \n",
       "1          1.0         2.0                        1465.0  6111.0     1967.0   \n",
       "2          2.0         3.0                        1243.0  6059.0     1962.0   \n",
       "\n",
       "   taxvaluedollarcnt  \n",
       "0          1023282.0  \n",
       "1           464000.0  \n",
       "2           564778.0  "
      ]
     },
     "execution_count": 3,
     "metadata": {},
     "output_type": "execute_result"
    }
   ],
   "source": [
    "df = prepare.wrangled_zillow(df)\n",
    "df.head(3)"
   ]
  },
  {
   "cell_type": "markdown",
   "id": "94220234",
   "metadata": {},
   "source": [
    "# Train, Test, Validate"
   ]
  },
  {
   "cell_type": "markdown",
   "id": "e0a28a8f",
   "metadata": {},
   "source": [
    "From here we can scale, which will be needed in this format to model"
   ]
  },
  {
   "cell_type": "code",
   "execution_count": 4,
   "id": "3785d38a",
   "metadata": {},
   "outputs": [],
   "source": [
    "train, validate, test = prepare.traintestsplit(df)"
   ]
  },
  {
   "cell_type": "markdown",
   "id": "5909a009",
   "metadata": {},
   "source": [
    "I have gone with keeping 80% of the information  so  that my model has the most to train on"
   ]
  },
  {
   "cell_type": "markdown",
   "id": "6b74ac8c",
   "metadata": {},
   "source": [
    "## Explore"
   ]
  },
  {
   "cell_type": "markdown",
   "id": "377cffbb",
   "metadata": {},
   "source": [
    "## best graphs"
   ]
  },
  {
   "cell_type": "code",
   "execution_count": 5,
   "id": "15699d5c",
   "metadata": {},
   "outputs": [],
   "source": [
    "#we have this here to compare to the p-values given\n",
    "α = 0.05"
   ]
  },
  {
   "cell_type": "markdown",
   "id": "9163c252",
   "metadata": {},
   "source": [
    "<p><b>Null_Hypothesis: </b>\n",
    "That the number of bedrooms has no relationship to the house price</p>\n",
    "<b>Alternative hypothesis: </b>\n",
    "That the number of bedrooms has a relationship to the house price"
   ]
  },
  {
   "cell_type": "code",
   "execution_count": 6,
   "id": "2e121204",
   "metadata": {},
   "outputs": [
    {
     "data": {
      "image/png": "[encoded data removed]",
      "text/plain": [
       "<Figure size 360x360 with 1 Axes>"
      ]
     },
     "metadata": {
      "needs_background": "light"
     },
     "output_type": "display_data"
    }
   ],
   "source": [
    "sns.lmplot(x=\"bedroomcnt\", y=\"taxvaluedollarcnt\", data=train, line_kws={'color': 'red'})\n",
    "plt.show()"
   ]
  },
  {
   "cell_type": "markdown",
   "id": "fec81a20",
   "metadata": {},
   "source": [
    "Roughly a small linear relationship between bedroom count and \"price\""
   ]
  },
  {
   "cell_type": "code",
   "execution_count": 7,
   "id": "47fc4a19",
   "metadata": {},
   "outputs": [
    {
     "data": {
      "text/plain": [
       "(0.26998459281241166, 0.0)"
      ]
     },
     "execution_count": 7,
     "metadata": {},
     "output_type": "execute_result"
    }
   ],
   "source": [
    "corr, p = stats.pearsonr(train.bedroomcnt, train.taxvaluedollarcnt)\n",
    "corr, p"
   ]
  },
  {
   "cell_type": "code",
   "execution_count": 8,
   "id": "c55c26a5",
   "metadata": {},
   "outputs": [
    {
     "name": "stdout",
     "output_type": "stream",
     "text": [
      "We reject the null hypothesis\n"
     ]
    }
   ],
   "source": [
    "if α > p:\n",
    "    print(\"We reject the null hypothesis\")"
   ]
  },
  {
   "cell_type": "markdown",
   "id": "ec3c6431",
   "metadata": {},
   "source": [
    "What the statistical test tells us here is that there is in fact a relationship between the amount of bedrooms and the price of the house. It also tells us that while being meaningful there maybe stronger drivers to measure against"
   ]
  },
  {
   "cell_type": "markdown",
   "id": "b21b72af",
   "metadata": {},
   "source": [
    "<hr>"
   ]
  },
  {
   "cell_type": "markdown",
   "id": "2bf84ae8",
   "metadata": {},
   "source": [
    "<p><b>Null_Hypothesis: </b>\n",
    "That the number of bathrooms has no relationship to the house price</p>\n",
    "<b>Alternative hypothesis: </b>\n",
    "That the number of bathrooms has a relationship to the house price"
   ]
  },
  {
   "cell_type": "code",
   "execution_count": 9,
   "id": "b7259857",
   "metadata": {},
   "outputs": [
    {
     "data": {
      "image/png": "[encoded data removed]",
      "text/plain": [
       "<Figure size 360x360 with 1 Axes>"
      ]
     },
     "metadata": {
      "needs_background": "light"
     },
     "output_type": "display_data"
    }
   ],
   "source": [
    "sns.lmplot(x=\"bathroomcnt\", y=\"taxvaluedollarcnt\", data=train, line_kws={'color': 'red'})\n",
    "plt.show()\n",
    "#steeper slope here can imply higher causality towards \"price\""
   ]
  },
  {
   "cell_type": "code",
   "execution_count": 10,
   "id": "64626fc5",
   "metadata": {},
   "outputs": [
    {
     "data": {
      "text/plain": [
       "(0.5005506051404705, 0.0)"
      ]
     },
     "execution_count": 10,
     "metadata": {},
     "output_type": "execute_result"
    }
   ],
   "source": [
    "corr, p = stats.pearsonr(train.bathroomcnt, train.taxvaluedollarcnt)\n",
    "corr, p"
   ]
  },
  {
   "cell_type": "code",
   "execution_count": 11,
   "id": "1dc49f58",
   "metadata": {},
   "outputs": [
    {
     "name": "stdout",
     "output_type": "stream",
     "text": [
      "We reject the null hypothesis\n"
     ]
    }
   ],
   "source": [
    "if α > p:\n",
    "    print(\"We reject the null hypothesis\")"
   ]
  },
  {
   "cell_type": "markdown",
   "id": "8f77178d",
   "metadata": {},
   "source": [
    "What the statistical data above shows us is that there is a positive relationship between number of bathrooms and price. More over that the significance is quite high"
   ]
  },
  {
   "cell_type": "markdown",
   "id": "b1ff5994",
   "metadata": {},
   "source": [
    "<hr>"
   ]
  },
  {
   "cell_type": "markdown",
   "id": "accba78d",
   "metadata": {},
   "source": [
    "<p><b>Null_Hypothesis: </b>\n",
    "That the amount of square feet has no relationship to the house price</p>\n",
    "<b>Alternative hypothesis: </b>\n",
    "That the amount of square feet has a relationship to the house price"
   ]
  },
  {
   "cell_type": "code",
   "execution_count": 12,
   "id": "646aed16",
   "metadata": {},
   "outputs": [
    {
     "data": {
      "image/png": "[encoded data removed]",
      "text/plain": [
       "<Figure size 360x360 with 1 Axes>"
      ]
     },
     "metadata": {
      "needs_background": "light"
     },
     "output_type": "display_data"
    }
   ],
   "source": [
    "sns.lmplot(x=\"calculatedfinishedsquarefeet\", y=\"taxvaluedollarcnt\", data=train, line_kws={'color': 'red'})\n",
    "plt.show()\n",
    "#most 45 degree ish line so far\n",
    "#tell about relationship as well as hypotheses and stats test with correlation test"
   ]
  },
  {
   "cell_type": "code",
   "execution_count": 13,
   "id": "02ca3f37",
   "metadata": {},
   "outputs": [
    {
     "data": {
      "text/plain": [
       "(0.5721633427826447, 0.0)"
      ]
     },
     "execution_count": 13,
     "metadata": {},
     "output_type": "execute_result"
    }
   ],
   "source": [
    "corr, p = stats.pearsonr(train.calculatedfinishedsquarefeet, train.taxvaluedollarcnt)\n",
    "corr, p"
   ]
  },
  {
   "cell_type": "code",
   "execution_count": 14,
   "id": "a50cb332",
   "metadata": {},
   "outputs": [
    {
     "name": "stdout",
     "output_type": "stream",
     "text": [
      "We reject the null hypothesis\n"
     ]
    }
   ],
   "source": [
    "if α > p:\n",
    "    print(\"We reject the null hypothesis\")"
   ]
  },
  {
   "cell_type": "markdown",
   "id": "63f12f24",
   "metadata": {},
   "source": [
    "What the statistical data above shows us is that there is a positive relationship between how much square feet there are and price. More over that the significance is quite high"
   ]
  },
  {
   "cell_type": "markdown",
   "id": "b2fd4cc3",
   "metadata": {},
   "source": [
    "<hr>"
   ]
  },
  {
   "cell_type": "markdown",
   "id": "5f5f10ad",
   "metadata": {},
   "source": [
    "<p><b>Null_Hypothesis: </b>\n",
    "That the area has no relationship to the house price</p>\n",
    "<b>Alternative hypothesis: </b>\n",
    "That the area has a relationship to the house price"
   ]
  },
  {
   "cell_type": "code",
   "execution_count": 15,
   "id": "aba7d6de",
   "metadata": {},
   "outputs": [
    {
     "data": {
      "image/png": "[encoded data removed]",
      "text/plain": [
       "<Figure size 432x288 with 1 Axes>"
      ]
     },
     "metadata": {
      "needs_background": "light"
     },
     "output_type": "display_data"
    }
   ],
   "source": [
    "#For this one we have swapped from lmplot to a bar plot because it yeilds cleaner answers\n",
    "sns.barplot(x=\"fips\", y=\"taxvaluedollarcnt\", data=train)\n",
    "plt.show()\n",
    "#we explore off of train\n",
    "#really hammer home"
   ]
  },
  {
   "cell_type": "code",
   "execution_count": 16,
   "id": "cd227296",
   "metadata": {},
   "outputs": [
    {
     "data": {
      "text/plain": [
       "(5.328882585666712, 5.171424318304606e-08)"
      ]
     },
     "execution_count": 16,
     "metadata": {},
     "output_type": "execute_result"
    }
   ],
   "source": [
    "t, p = stats.ttest_ind(train[train['fips'] == 6059.0].taxvaluedollarcnt,\n",
    "                       train[train['fips']== 6111.0].taxvaluedollarcnt, \n",
    "                       equal_var=False)\n",
    "t, p / 2\n",
    "#correlation here are two series\n",
    "#running two t tests here\n",
    "#compare series to series"
   ]
  },
  {
   "cell_type": "code",
   "execution_count": 17,
   "id": "837e66a1",
   "metadata": {},
   "outputs": [
    {
     "data": {
      "text/plain": [
       "(11.844959063238885, 5.05423419246211e-32)"
      ]
     },
     "execution_count": 17,
     "metadata": {},
     "output_type": "execute_result"
    }
   ],
   "source": [
    "t, p = stats.ttest_ind(train[train['fips'] == 6111.0].taxvaluedollarcnt,\n",
    "                       train[train['fips'] == 6037.0].taxvaluedollarcnt, \n",
    "                       equal_var=False)\n",
    "t, p / 2"
   ]
  },
  {
   "cell_type": "code",
   "execution_count": 18,
   "id": "f96d7179",
   "metadata": {},
   "outputs": [
    {
     "name": "stdout",
     "output_type": "stream",
     "text": [
      "We reject the null hypothesis\n"
     ]
    }
   ],
   "source": [
    "if α > p:\n",
    "    print(\"We reject the null hypothesis\")"
   ]
  },
  {
   "cell_type": "markdown",
   "id": "45470e38",
   "metadata": {},
   "source": [
    "<b>What the above statistical test tells us is that there are differences in prices of houses between counties.\n",
    "    \n",
    "Between Orange County (6059) Los Angelos (6111) there is some difference\n",
    "    \n",
    "But between Los Angelos (6111) and Ventura County (6059) there is an even greater difference </b>"
   ]
  },
  {
   "cell_type": "markdown",
   "id": "a89e976a",
   "metadata": {},
   "source": [
    "The relationship present here implies that the county of 6059 has a higher on average cost"
   ]
  },
  {
   "cell_type": "markdown",
   "id": "8d020838",
   "metadata": {},
   "source": [
    "<hr>"
   ]
  },
  {
   "cell_type": "markdown",
   "id": "017131c1",
   "metadata": {},
   "source": [
    "<p><b>Null_Hypothesis: </b>\n",
    "That the year it was built has no relationship to the house price</p>\n",
    "<b>Alternative hypothesis: </b>\n",
    "That the year it was built has a relationship to the house price"
   ]
  },
  {
   "cell_type": "code",
   "execution_count": 19,
   "id": "5e96c478",
   "metadata": {},
   "outputs": [
    {
     "data": {
      "image/png": "[encoded data removed]",
      "text/plain": [
       "<Figure size 360x360 with 1 Axes>"
      ]
     },
     "metadata": {
      "needs_background": "light"
     },
     "output_type": "display_data"
    }
   ],
   "source": [
    "sns.lmplot(x=\"yearbuilt\", y=\"taxvaluedollarcnt\", data=train, line_kws={'color': 'red'})\n",
    "plt.show()\n",
    "#this takeaway shows us that year  may not be the most poperful prediction\n",
    "#the realtionship between "
   ]
  },
  {
   "cell_type": "markdown",
   "id": "1753dcff",
   "metadata": {},
   "source": [
    "Takeaways:\n",
    "- calculated square feet is so far the lead in realtionship to \"price"
   ]
  },
  {
   "cell_type": "code",
   "execution_count": 20,
   "id": "608b24a0",
   "metadata": {},
   "outputs": [
    {
     "data": {
      "text/plain": [
       "(0.2479012725902783, 0.0)"
      ]
     },
     "execution_count": 20,
     "metadata": {},
     "output_type": "execute_result"
    }
   ],
   "source": [
    "corr, p = stats.pearsonr(train.yearbuilt, train.taxvaluedollarcnt)\n",
    "corr, p"
   ]
  },
  {
   "cell_type": "code",
   "execution_count": 21,
   "id": "16140611",
   "metadata": {},
   "outputs": [
    {
     "name": "stdout",
     "output_type": "stream",
     "text": [
      "We reject the null hypothesis\n"
     ]
    }
   ],
   "source": [
    "if α > p:\n",
    "    print(\"We reject the null hypothesis\")"
   ]
  },
  {
   "cell_type": "markdown",
   "id": "27821e3a",
   "metadata": {},
   "source": [
    "What the statistical data above shows us is that there is a positive relationship between the year it was built and price. More over that the significance is not so strong"
   ]
  },
  {
   "cell_type": "markdown",
   "id": "b417d149",
   "metadata": {},
   "source": [
    "<hr>"
   ]
  },
  {
   "cell_type": "markdown",
   "id": "fab297bb",
   "metadata": {},
   "source": [
    "## Working with scaled data"
   ]
  },
  {
   "cell_type": "markdown",
   "id": "92804584",
   "metadata": {},
   "source": [
    "> I need a baseline RMSE to compare my accuracy:\n",
    "> - take the median or mean value\n",
    "> - use the with more accuracy\n",
    "> - and compare the RMSE"
   ]
  },
  {
   "cell_type": "markdown",
   "id": "d43d0f3e",
   "metadata": {},
   "source": [
    "# Modeling"
   ]
  },
  {
   "cell_type": "markdown",
   "id": "5694a071",
   "metadata": {},
   "source": [
    "This may take some time, maybe more time then I know of.\n",
    "\n",
    "My confidence is not the highest coming into this but I will surely build out some models"
   ]
  },
  {
   "cell_type": "code",
   "execution_count": 34,
   "id": "88e76400",
   "metadata": {},
   "outputs": [
    {
     "ename": "NameError",
     "evalue": "name 'scaler' is not defined",
     "output_type": "error",
     "traceback": [
      "\u001b[0;31m---------------------------------------------------------------------------\u001b[0m",
      "\u001b[0;31mNameError\u001b[0m                                 Traceback (most recent call last)",
      "\u001b[0;32m/var/folders/cs/9mn89l_n6p3c9sq01q5f54kh0000gn/T/ipykernel_46051/362389949.py\u001b[0m in \u001b[0;36m<module>\u001b[0;34m\u001b[0m\n\u001b[0;32m----> 1\u001b[0;31m \u001b[0mx_train_scaled\u001b[0m \u001b[0;34m=\u001b[0m \u001b[0mscaler\u001b[0m\u001b[0;34m.\u001b[0m\u001b[0mtransform\u001b[0m\u001b[0;34m(\u001b[0m\u001b[0mtrain\u001b[0m\u001b[0;34m)\u001b[0m\u001b[0;34m\u001b[0m\u001b[0;34m\u001b[0m\u001b[0m\n\u001b[0m\u001b[1;32m      2\u001b[0m \u001b[0mx_validate_scaled\u001b[0m \u001b[0;34m=\u001b[0m \u001b[0mscaler\u001b[0m\u001b[0;34m.\u001b[0m\u001b[0mtransform\u001b[0m\u001b[0;34m(\u001b[0m\u001b[0mvalidate\u001b[0m\u001b[0;34m)\u001b[0m\u001b[0;34m\u001b[0m\u001b[0;34m\u001b[0m\u001b[0m\n\u001b[1;32m      3\u001b[0m \u001b[0mx_test_scaled\u001b[0m \u001b[0;34m=\u001b[0m \u001b[0mscaler\u001b[0m\u001b[0;34m.\u001b[0m\u001b[0mtransform\u001b[0m\u001b[0;34m(\u001b[0m\u001b[0mtest\u001b[0m\u001b[0;34m)\u001b[0m\u001b[0;34m\u001b[0m\u001b[0;34m\u001b[0m\u001b[0m\n",
      "\u001b[0;31mNameError\u001b[0m: name 'scaler' is not defined"
     ]
    }
   ],
   "source": [
    "x_train_scaled = scaler.transform(train)\n",
    "x_validate_scaled = scaler.transform(validate)\n",
    "x_test_scaled = scaler.transform(test)"
   ]
  },
  {
   "cell_type": "code",
   "execution_count": 28,
   "id": "289c2ee6",
   "metadata": {},
   "outputs": [],
   "source": [
    "x_train_and_validate, x_test = train_test_split(train)\n",
    "x_train, x_validate = train_test_split(x_train_and_validate)"
   ]
  },
  {
   "cell_type": "code",
   "execution_count": 24,
   "id": "4db283c7",
   "metadata": {},
   "outputs": [
    {
     "name": "stdout",
     "output_type": "stream",
     "text": [
      "RMSE using Mean\n",
      "Train/In-Sample:  355302.21 \n",
      "Validate/Out-of-Sample:  351801.88\n",
      "RMSE using Median\n",
      "Train/In-Sample:  364345.33 \n",
      "Validate/Out-of-Sample:  361109.96\n"
     ]
    }
   ],
   "source": [
    "# We need y_train and y_validate to be dataframes to append the new columns with predicted values. \n",
    "y_train = pd.DataFrame(train.taxvaluedollarcnt)\n",
    "y_validate = pd.DataFrame(validate.taxvaluedollarcnt)\n",
    "\n",
    "# 1. Predict price_pred_mean\n",
    "price_pred_mean = y_train['taxvaluedollarcnt'].mean()\n",
    "y_train['price_pred_mean'] = price_pred_mean\n",
    "y_validate['price_pred_mean'] = price_pred_mean\n",
    "\n",
    "# 2. compute price_pred_median\n",
    "price_pred_median = y_train['taxvaluedollarcnt'].median()\n",
    "y_train['price_pred_median'] = price_pred_median\n",
    "y_validate['price_pred_median'] = price_pred_median\n",
    "\n",
    "# 3. RMSE of price_pred_mean\n",
    "rmse_train = mean_squared_error(y_train.taxvaluedollarcnt, y_train.price_pred_mean)**(1/2)\n",
    "rmse_validate = mean_squared_error(y_validate.taxvaluedollarcnt, y_validate.price_pred_mean)**(1/2)\n",
    "\n",
    "print(\"RMSE using Mean\\nTrain/In-Sample: \", round(rmse_train, 2), \n",
    "      \"\\nValidate/Out-of-Sample: \", round(rmse_validate, 2))\n",
    "\n",
    "# 4. RMSE of G3_pred_median\n",
    "rmse_train = mean_squared_error(y_train.taxvaluedollarcnt, y_train.price_pred_median)**(1/2)\n",
    "rmse_validate = mean_squared_error(y_validate.taxvaluedollarcnt, y_validate.price_pred_median)**(1/2)\n",
    "\n",
    "print(\"RMSE using Median\\nTrain/In-Sample: \", round(rmse_train, 2), \n",
    "      \"\\nValidate/Out-of-Sample: \", round(rmse_validate, 2))"
   ]
  },
  {
   "cell_type": "code",
   "execution_count": 42,
   "id": "1214c9f6",
   "metadata": {},
   "outputs": [],
   "source": [
    "#what am I doing here?\n",
    "# I am testing out how to work with scaled data\n",
    "X_train = train[['calculatedfinishedsquarefeet']]\n",
    "y_train = train['taxvaluedollarcnt']\n",
    "\n",
    "X_validate = validate[['calculatedfinishedsquarefeet']]\n",
    "y_validate = validate['taxvaluedollarcnt']\n",
    "\n",
    "X_test = test[['calculatedfinishedsquarefeet']]\n",
    "y_test = test['taxvaluedollarcnt']"
   ]
  },
  {
   "cell_type": "code",
   "execution_count": 44,
   "id": "698c6f87",
   "metadata": {},
   "outputs": [],
   "source": [
    "# x_train.shape,\n",
    "y_train = pd.DataFrame(y_train)\n",
    "y_train="
   ]
  },
  {
   "cell_type": "code",
   "execution_count": 39,
   "id": "d998bfb7",
   "metadata": {},
   "outputs": [
    {
     "ename": "AttributeError",
     "evalue": "'Series' object has no attribute 'taxvaluedollarcnt'",
     "output_type": "error",
     "traceback": [
      "\u001b[0;31m---------------------------------------------------------------------------\u001b[0m",
      "\u001b[0;31mAttributeError\u001b[0m                            Traceback (most recent call last)",
      "\u001b[0;32m/var/folders/cs/9mn89l_n6p3c9sq01q5f54kh0000gn/T/ipykernel_46051/3160420428.py\u001b[0m in \u001b[0;36m<module>\u001b[0;34m\u001b[0m\n\u001b[1;32m      4\u001b[0m \u001b[0;31m# fit the model to our training data. We must specify the column in y_train,\u001b[0m\u001b[0;34m\u001b[0m\u001b[0;34m\u001b[0m\u001b[0m\n\u001b[1;32m      5\u001b[0m \u001b[0;31m# since we have converted it to a dataframe from a series!\u001b[0m\u001b[0;34m\u001b[0m\u001b[0;34m\u001b[0m\u001b[0m\n\u001b[0;32m----> 6\u001b[0;31m \u001b[0mlm\u001b[0m\u001b[0;34m.\u001b[0m\u001b[0mfit\u001b[0m\u001b[0;34m(\u001b[0m\u001b[0mx_train\u001b[0m\u001b[0;34m,\u001b[0m \u001b[0my_train\u001b[0m\u001b[0;34m.\u001b[0m\u001b[0mtaxvaluedollarcnt\u001b[0m\u001b[0;34m)\u001b[0m\u001b[0;34m\u001b[0m\u001b[0;34m\u001b[0m\u001b[0m\n\u001b[0m\u001b[1;32m      7\u001b[0m \u001b[0;34m\u001b[0m\u001b[0m\n\u001b[1;32m      8\u001b[0m \u001b[0;31m# predict train\u001b[0m\u001b[0;34m\u001b[0m\u001b[0;34m\u001b[0m\u001b[0m\n",
      "\u001b[0;32m/usr/local/anaconda3/lib/python3.9/site-packages/pandas/core/generic.py\u001b[0m in \u001b[0;36m__getattr__\u001b[0;34m(self, name)\u001b[0m\n\u001b[1;32m   5485\u001b[0m         ):\n\u001b[1;32m   5486\u001b[0m             \u001b[0;32mreturn\u001b[0m \u001b[0mself\u001b[0m\u001b[0;34m[\u001b[0m\u001b[0mname\u001b[0m\u001b[0;34m]\u001b[0m\u001b[0;34m\u001b[0m\u001b[0;34m\u001b[0m\u001b[0m\n\u001b[0;32m-> 5487\u001b[0;31m         \u001b[0;32mreturn\u001b[0m \u001b[0mobject\u001b[0m\u001b[0;34m.\u001b[0m\u001b[0m__getattribute__\u001b[0m\u001b[0;34m(\u001b[0m\u001b[0mself\u001b[0m\u001b[0;34m,\u001b[0m \u001b[0mname\u001b[0m\u001b[0;34m)\u001b[0m\u001b[0;34m\u001b[0m\u001b[0;34m\u001b[0m\u001b[0m\n\u001b[0m\u001b[1;32m   5488\u001b[0m \u001b[0;34m\u001b[0m\u001b[0m\n\u001b[1;32m   5489\u001b[0m     \u001b[0;32mdef\u001b[0m \u001b[0m__setattr__\u001b[0m\u001b[0;34m(\u001b[0m\u001b[0mself\u001b[0m\u001b[0;34m,\u001b[0m \u001b[0mname\u001b[0m\u001b[0;34m:\u001b[0m \u001b[0mstr\u001b[0m\u001b[0;34m,\u001b[0m \u001b[0mvalue\u001b[0m\u001b[0;34m)\u001b[0m \u001b[0;34m->\u001b[0m \u001b[0;32mNone\u001b[0m\u001b[0;34m:\u001b[0m\u001b[0;34m\u001b[0m\u001b[0;34m\u001b[0m\u001b[0m\n",
      "\u001b[0;31mAttributeError\u001b[0m: 'Series' object has no attribute 'taxvaluedollarcnt'"
     ]
    }
   ],
   "source": [
    "# create the model object\n",
    "lm = LinearRegression(normalize=True)\n",
    "\n",
    "# fit the model to our training data. We must specify the column in y_train, \n",
    "# since we have converted it to a dataframe from a series! \n",
    "lm.fit(x_train, y_train.taxvaluedollarcnt)\n",
    "\n",
    "# predict train\n",
    "y_train['price_pred_lm'] = lm.predict(x_train)\n",
    "\n",
    "# evaluate: rmse\n",
    "rmse_train = mean_squared_error(y_train.taxvaluedollarcnt, y_train.price_pred_lm)**(1/2)\n",
    "\n",
    "# predict validate\n",
    "y_validate['price_pred_lm'] = lm.predict(x_validate)\n",
    "\n",
    "# evaluate: rmse\n",
    "rmse_validate = mean_squared_error(y_validate.taxvaluedollarcnt, y_validate.price_pred_lm)**(1/2)\n",
    "\n",
    "print(\"RMSE for OLS using LinearRegression\\nTraining/In-Sample: \", rmse_train, \n",
    "      \"\\nValidation/Out-of-Sample: \", rmse_validate)"
   ]
  },
  {
   "cell_type": "code",
   "execution_count": null,
   "id": "13e7e11a",
   "metadata": {},
   "outputs": [],
   "source": [
    "scaler, train_scaled, validate_scaled, test_scaled = prepare.splitmoreways(train, validate, test, return_scaler=True)"
   ]
  },
  {
   "cell_type": "code",
   "execution_count": null,
   "id": "07d83ba8",
   "metadata": {},
   "outputs": [],
   "source": [
    "train_scaled"
   ]
  },
  {
   "cell_type": "markdown",
   "id": "a33b4778",
   "metadata": {},
   "source": [
    "So now I have all of my features scaled apart from year and taxvaluedollar.\n",
    "\n",
    "Now with all of my features scaled to a MinMaxScaler I can now run models on it.\n",
    "\n",
    "I am going to want to split my features from target variable"
   ]
  },
  {
   "cell_type": "code",
   "execution_count": null,
   "id": "a0a05c93",
   "metadata": {},
   "outputs": [],
   "source": [
    "# We need y_train and y_validate to be dataframes to append the new columns with predicted values. \n",
    "y_train = pd.DataFrame(train.taxvaluedollarcnt)\n",
    "y_validate = pd.DataFrame(validate.taxvaluedollarcnt)\n",
    "\n",
    "# 1. Predict price_pred_mean\n",
    "price_pred_mean = y_train['taxvaluedollarcnt'].mean()\n",
    "y_train['price_pred_mean'] = price_pred_mean\n",
    "y_validate['price_pred_mean'] = price_pred_mean\n",
    "\n",
    "# 2. compute price_pred_median\n",
    "price_pred_median = y_train['taxvaluedollarcnt'].median()\n",
    "y_train['price_pred_median'] = price_pred_median\n",
    "y_validate['price_pred_median'] = price_pred_median\n",
    "\n",
    "# 3. RMSE of price_pred_mean\n",
    "rmse_train = mean_squared_error(y_train.taxvaluedollarcnt, y_train.price_pred_mean)**(1/2)\n",
    "rmse_validate = mean_squared_error(y_validate.taxvaluedollarcnt, y_validate.price_pred_mean)**(1/2)\n",
    "\n",
    "print(\"RMSE using Mean\\nTrain/In-Sample: \", round(rmse_train, 2), \n",
    "      \"\\nValidate/Out-of-Sample: \", round(rmse_validate, 2))\n",
    "\n",
    "# 4. RMSE of price_pred_median\n",
    "rmse_train = mean_squared_error(y_train.taxvaluedollarcnt, y_train.price_pred_median)**(1/2)\n",
    "rmse_validate = mean_squared_error(y_validate.taxvaluedollarcnt, y_validate.price_pred_median)**(1/2)\n",
    "\n",
    "print(\"RMSE using Median\\nTrain/In-Sample: \", round(rmse_train, 2), \n",
    "      \"\\nValidate/Out-of-Sample: \", round(rmse_validate, 2),\n",
    "     \"\\nOrigincal baseline:\", round(baseline, 2))"
   ]
  },
  {
   "cell_type": "code",
   "execution_count": null,
   "id": "12aeda67",
   "metadata": {},
   "outputs": [],
   "source": [
    "from sklearn.linear_model import LinearRegression"
   ]
  },
  {
   "cell_type": "code",
   "execution_count": null,
   "id": "b669bdcd",
   "metadata": {},
   "outputs": [],
   "source": [
    "#predicting y from trained data\n",
    "#predict rules\n",
    "model = LinearRegression().fit(train_scaled, train.taxvaluedollarcnt)\n",
    "predictions = model.predict(train_scaled)"
   ]
  },
  {
   "cell_type": "code",
   "execution_count": 27,
   "id": "30b2a6cc",
   "metadata": {},
   "outputs": [
    {
     "ename": "ValueError",
     "evalue": "Found input variables with inconsistent numbers of samples: [15977, 28405]",
     "output_type": "error",
     "traceback": [
      "\u001b[0;31m---------------------------------------------------------------------------\u001b[0m",
      "\u001b[0;31mValueError\u001b[0m                                Traceback (most recent call last)",
      "\u001b[0;32m/var/folders/cs/9mn89l_n6p3c9sq01q5f54kh0000gn/T/ipykernel_46051/1551836085.py\u001b[0m in \u001b[0;36m<module>\u001b[0;34m\u001b[0m\n\u001b[1;32m      6\u001b[0m \u001b[0;31m# fit the model to our training data. We must specify the column in y_train,\u001b[0m\u001b[0;34m\u001b[0m\u001b[0;34m\u001b[0m\u001b[0m\n\u001b[1;32m      7\u001b[0m \u001b[0;31m# since we have converted it to a dataframe from a series!\u001b[0m\u001b[0;34m\u001b[0m\u001b[0;34m\u001b[0m\u001b[0m\n\u001b[0;32m----> 8\u001b[0;31m \u001b[0mlm\u001b[0m\u001b[0;34m.\u001b[0m\u001b[0mfit\u001b[0m\u001b[0;34m(\u001b[0m\u001b[0mx_train\u001b[0m\u001b[0;34m,\u001b[0m \u001b[0my_train\u001b[0m\u001b[0;34m.\u001b[0m\u001b[0mtaxvaluedollarcnt\u001b[0m\u001b[0;34m)\u001b[0m\u001b[0;34m\u001b[0m\u001b[0;34m\u001b[0m\u001b[0m\n\u001b[0m\u001b[1;32m      9\u001b[0m \u001b[0;34m\u001b[0m\u001b[0m\n\u001b[1;32m     10\u001b[0m \u001b[0;31m# predict train\u001b[0m\u001b[0;34m\u001b[0m\u001b[0;34m\u001b[0m\u001b[0m\n",
      "\u001b[0;32m/usr/local/anaconda3/lib/python3.9/site-packages/sklearn/linear_model/_base.py\u001b[0m in \u001b[0;36mfit\u001b[0;34m(self, X, y, sample_weight)\u001b[0m\n\u001b[1;32m    516\u001b[0m         \u001b[0maccept_sparse\u001b[0m \u001b[0;34m=\u001b[0m \u001b[0;32mFalse\u001b[0m \u001b[0;32mif\u001b[0m \u001b[0mself\u001b[0m\u001b[0;34m.\u001b[0m\u001b[0mpositive\u001b[0m \u001b[0;32melse\u001b[0m \u001b[0;34m[\u001b[0m\u001b[0;34m'csr'\u001b[0m\u001b[0;34m,\u001b[0m \u001b[0;34m'csc'\u001b[0m\u001b[0;34m,\u001b[0m \u001b[0;34m'coo'\u001b[0m\u001b[0;34m]\u001b[0m\u001b[0;34m\u001b[0m\u001b[0;34m\u001b[0m\u001b[0m\n\u001b[1;32m    517\u001b[0m \u001b[0;34m\u001b[0m\u001b[0m\n\u001b[0;32m--> 518\u001b[0;31m         X, y = self._validate_data(X, y, accept_sparse=accept_sparse,\n\u001b[0m\u001b[1;32m    519\u001b[0m                                    y_numeric=True, multi_output=True)\n\u001b[1;32m    520\u001b[0m \u001b[0;34m\u001b[0m\u001b[0m\n",
      "\u001b[0;32m/usr/local/anaconda3/lib/python3.9/site-packages/sklearn/base.py\u001b[0m in \u001b[0;36m_validate_data\u001b[0;34m(self, X, y, reset, validate_separately, **check_params)\u001b[0m\n\u001b[1;32m    431\u001b[0m                 \u001b[0my\u001b[0m \u001b[0;34m=\u001b[0m \u001b[0mcheck_array\u001b[0m\u001b[0;34m(\u001b[0m\u001b[0my\u001b[0m\u001b[0;34m,\u001b[0m \u001b[0;34m**\u001b[0m\u001b[0mcheck_y_params\u001b[0m\u001b[0;34m)\u001b[0m\u001b[0;34m\u001b[0m\u001b[0;34m\u001b[0m\u001b[0m\n\u001b[1;32m    432\u001b[0m             \u001b[0;32melse\u001b[0m\u001b[0;34m:\u001b[0m\u001b[0;34m\u001b[0m\u001b[0;34m\u001b[0m\u001b[0m\n\u001b[0;32m--> 433\u001b[0;31m                 \u001b[0mX\u001b[0m\u001b[0;34m,\u001b[0m \u001b[0my\u001b[0m \u001b[0;34m=\u001b[0m \u001b[0mcheck_X_y\u001b[0m\u001b[0;34m(\u001b[0m\u001b[0mX\u001b[0m\u001b[0;34m,\u001b[0m \u001b[0my\u001b[0m\u001b[0;34m,\u001b[0m \u001b[0;34m**\u001b[0m\u001b[0mcheck_params\u001b[0m\u001b[0;34m)\u001b[0m\u001b[0;34m\u001b[0m\u001b[0;34m\u001b[0m\u001b[0m\n\u001b[0m\u001b[1;32m    434\u001b[0m             \u001b[0mout\u001b[0m \u001b[0;34m=\u001b[0m \u001b[0mX\u001b[0m\u001b[0;34m,\u001b[0m \u001b[0my\u001b[0m\u001b[0;34m\u001b[0m\u001b[0;34m\u001b[0m\u001b[0m\n\u001b[1;32m    435\u001b[0m \u001b[0;34m\u001b[0m\u001b[0m\n",
      "\u001b[0;32m/usr/local/anaconda3/lib/python3.9/site-packages/sklearn/utils/validation.py\u001b[0m in \u001b[0;36minner_f\u001b[0;34m(*args, **kwargs)\u001b[0m\n\u001b[1;32m     61\u001b[0m             \u001b[0mextra_args\u001b[0m \u001b[0;34m=\u001b[0m \u001b[0mlen\u001b[0m\u001b[0;34m(\u001b[0m\u001b[0margs\u001b[0m\u001b[0;34m)\u001b[0m \u001b[0;34m-\u001b[0m \u001b[0mlen\u001b[0m\u001b[0;34m(\u001b[0m\u001b[0mall_args\u001b[0m\u001b[0;34m)\u001b[0m\u001b[0;34m\u001b[0m\u001b[0;34m\u001b[0m\u001b[0m\n\u001b[1;32m     62\u001b[0m             \u001b[0;32mif\u001b[0m \u001b[0mextra_args\u001b[0m \u001b[0;34m<=\u001b[0m \u001b[0;36m0\u001b[0m\u001b[0;34m:\u001b[0m\u001b[0;34m\u001b[0m\u001b[0;34m\u001b[0m\u001b[0m\n\u001b[0;32m---> 63\u001b[0;31m                 \u001b[0;32mreturn\u001b[0m \u001b[0mf\u001b[0m\u001b[0;34m(\u001b[0m\u001b[0;34m*\u001b[0m\u001b[0margs\u001b[0m\u001b[0;34m,\u001b[0m \u001b[0;34m**\u001b[0m\u001b[0mkwargs\u001b[0m\u001b[0;34m)\u001b[0m\u001b[0;34m\u001b[0m\u001b[0;34m\u001b[0m\u001b[0m\n\u001b[0m\u001b[1;32m     64\u001b[0m \u001b[0;34m\u001b[0m\u001b[0m\n\u001b[1;32m     65\u001b[0m             \u001b[0;31m# extra_args > 0\u001b[0m\u001b[0;34m\u001b[0m\u001b[0;34m\u001b[0m\u001b[0m\n",
      "\u001b[0;32m/usr/local/anaconda3/lib/python3.9/site-packages/sklearn/utils/validation.py\u001b[0m in \u001b[0;36mcheck_X_y\u001b[0;34m(X, y, accept_sparse, accept_large_sparse, dtype, order, copy, force_all_finite, ensure_2d, allow_nd, multi_output, ensure_min_samples, ensure_min_features, y_numeric, estimator)\u001b[0m\n\u001b[1;32m    886\u001b[0m         \u001b[0my\u001b[0m \u001b[0;34m=\u001b[0m \u001b[0my\u001b[0m\u001b[0;34m.\u001b[0m\u001b[0mastype\u001b[0m\u001b[0;34m(\u001b[0m\u001b[0mnp\u001b[0m\u001b[0;34m.\u001b[0m\u001b[0mfloat64\u001b[0m\u001b[0;34m)\u001b[0m\u001b[0;34m\u001b[0m\u001b[0;34m\u001b[0m\u001b[0m\n\u001b[1;32m    887\u001b[0m \u001b[0;34m\u001b[0m\u001b[0m\n\u001b[0;32m--> 888\u001b[0;31m     \u001b[0mcheck_consistent_length\u001b[0m\u001b[0;34m(\u001b[0m\u001b[0mX\u001b[0m\u001b[0;34m,\u001b[0m \u001b[0my\u001b[0m\u001b[0;34m)\u001b[0m\u001b[0;34m\u001b[0m\u001b[0;34m\u001b[0m\u001b[0m\n\u001b[0m\u001b[1;32m    889\u001b[0m \u001b[0;34m\u001b[0m\u001b[0m\n\u001b[1;32m    890\u001b[0m     \u001b[0;32mreturn\u001b[0m \u001b[0mX\u001b[0m\u001b[0;34m,\u001b[0m \u001b[0my\u001b[0m\u001b[0;34m\u001b[0m\u001b[0;34m\u001b[0m\u001b[0m\n",
      "\u001b[0;32m/usr/local/anaconda3/lib/python3.9/site-packages/sklearn/utils/validation.py\u001b[0m in \u001b[0;36mcheck_consistent_length\u001b[0;34m(*arrays)\u001b[0m\n\u001b[1;32m    317\u001b[0m     \u001b[0muniques\u001b[0m \u001b[0;34m=\u001b[0m \u001b[0mnp\u001b[0m\u001b[0;34m.\u001b[0m\u001b[0munique\u001b[0m\u001b[0;34m(\u001b[0m\u001b[0mlengths\u001b[0m\u001b[0;34m)\u001b[0m\u001b[0;34m\u001b[0m\u001b[0;34m\u001b[0m\u001b[0m\n\u001b[1;32m    318\u001b[0m     \u001b[0;32mif\u001b[0m \u001b[0mlen\u001b[0m\u001b[0;34m(\u001b[0m\u001b[0muniques\u001b[0m\u001b[0;34m)\u001b[0m \u001b[0;34m>\u001b[0m \u001b[0;36m1\u001b[0m\u001b[0;34m:\u001b[0m\u001b[0;34m\u001b[0m\u001b[0;34m\u001b[0m\u001b[0m\n\u001b[0;32m--> 319\u001b[0;31m         raise ValueError(\"Found input variables with inconsistent numbers of\"\n\u001b[0m\u001b[1;32m    320\u001b[0m                          \" samples: %r\" % [int(l) for l in lengths])\n\u001b[1;32m    321\u001b[0m \u001b[0;34m\u001b[0m\u001b[0m\n",
      "\u001b[0;31mValueError\u001b[0m: Found input variables with inconsistent numbers of samples: [15977, 28405]"
     ]
    }
   ],
   "source": [
    "#THIS ONE HERE IT IS THE KEY\n",
    "\n",
    "# create the model object\n",
    "lm = LinearRegression(normalize=True)\n",
    "\n",
    "# fit the model to our training data. We must specify the column in y_train, \n",
    "# since we have converted it to a dataframe from a series! \n",
    "lm.fit(x_train, y_train.taxvaluedollarcnt)\n",
    "\n",
    "# predict train\n",
    "y_train['G3_pred_lm'] = lm.predict(x_train)\n",
    "\n",
    "# evaluate: rmse\n",
    "rmse_train = mean_squared_error(y_train.taxvaluedollarcnt, y_train.G3_pred_lm)**(1/2)\n",
    "\n",
    "# predict validate\n",
    "y_validate['G3_pred_lm'] = lm.predict(x_validate)\n",
    "\n",
    "# evaluate: rmse\n",
    "rmse_validate = mean_squared_error(y_validate.taxvaluedollarcnt, y_validate.G3_pred_lm)**(1/2)\n",
    "\n",
    "# predict test\n",
    "y_test['G3_pred_lm'] = lm.predict(x_test)\n",
    "\n",
    "rmse_test = mean_squared_error(y_test.taxvaluedollarcnt, y_test.G3_pred_lm)**(1/2)\n",
    "\n",
    "print(\"RMSE for OLS using LinearRegression\\nTraining/In-Sample: \", rmse_train, \n",
    "      \"\\nValidation/Out-of-Sample: \", rmse_validate,\n",
    "     \"\\nRoomatoid arthritis:\", rmse_test)\n"
   ]
  },
  {
   "cell_type": "code",
   "execution_count": null,
   "id": "b67148a6",
   "metadata": {},
   "outputs": [],
   "source": [
    "#need error reading such as RMSE"
   ]
  },
  {
   "cell_type": "markdown",
   "id": "39f15d90",
   "metadata": {},
   "source": [
    "From here it would be best practice"
   ]
  },
  {
   "cell_type": "markdown",
   "id": "00790f6c",
   "metadata": {},
   "source": [
    "Pick best model, run all models then choose 1 from there, the chosen one gets the test data set"
   ]
  },
  {
   "cell_type": "markdown",
   "id": "554fc36b",
   "metadata": {},
   "source": [
    "# Evaluate"
   ]
  },
  {
   "cell_type": "markdown",
   "id": "05d26054",
   "metadata": {},
   "source": [
    "Of the three machine learning models we have used Linear Regression and Lasso Lars are about the same"
   ]
  },
  {
   "cell_type": "markdown",
   "id": "546d998f",
   "metadata": {},
   "source": [
    "I would suggest we use the linear regression model to guide the project forward"
   ]
  },
  {
   "cell_type": "markdown",
   "id": "a4dfb47e",
   "metadata": {},
   "source": [
    "### now can run it against the test data set to determine final accuracy"
   ]
  }
 ],
 "metadata": {
  "kernelspec": {
   "display_name": "Python 3 (ipykernel)",
   "language": "python",
   "name": "python3"
  },
  "language_info": {
   "codemirror_mode": {
    "name": "ipython",
    "version": 3
   },
   "file_extension": ".py",
   "mimetype": "text/x-python",
   "name": "python",
   "nbconvert_exporter": "python",
   "pygments_lexer": "ipython3",
   "version": "3.9.7"
  }
 },
 "nbformat": 4,
 "nbformat_minor": 5
}
