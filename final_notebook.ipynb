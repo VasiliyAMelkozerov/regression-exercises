{
 "cells": [
  {
   "cell_type": "markdown",
   "id": "0c90dd53",
   "metadata": {},
   "source": [
    "<h1>Goal: build a model that can predict house prices</h1>"
   ]
  },
  {
   "cell_type": "markdown",
   "id": "e53c463a",
   "metadata": {},
   "source": [
    "- the price of the house can very by many different dimensions\n",
    "- it is so difficult that you usually have to get an inspector to give a rating\n",
    "- this model should make it easier for our customer to get a reference price"
   ]
  },
  {
   "cell_type": "markdown",
   "id": "774bcdcd",
   "metadata": {},
   "source": [
    "<b>Initial hypothesis:</b>\n",
    "- that basic house descriptors can be used to measure the price of a home"
   ]
  },
  {
   "cell_type": "markdown",
   "id": "77036bbd",
   "metadata": {},
   "source": [
    "## Imports"
   ]
  },
  {
   "cell_type": "code",
   "execution_count": 1,
   "id": "cf0f4786",
   "metadata": {},
   "outputs": [],
   "source": [
    "import warnings\n",
    "warnings.filterwarnings(\"ignore\")\n",
    "\n",
    "import pandas as pd\n",
    "import matplotlib.pyplot as plt\n",
    "import seaborn as sns\n",
    "import numpy as np\n",
    "import wrangle\n",
    "import prepare\n",
    "import acquire\n",
    "import env\n",
    "import sklearn.preprocessing\n",
    "from sklearn.model_selection import train_test_split\n",
    "from sklearn.metrics import mean_squared_error\n",
    "from sklearn.linear_model import LinearRegression, LassoLars, TweedieRegressor\n",
    "from sklearn.preprocessing import PolynomialFeatures\n",
    "from scipy import stats\n",
    "from sklearn.preprocessing import MinMaxScaler\n",
    "from scipy import stats\n",
    "import sklearn.preprocessing"
   ]
  },
  {
   "cell_type": "markdown",
   "id": "84e598ad",
   "metadata": {},
   "source": [
    "## Acquire"
   ]
  },
  {
   "cell_type": "markdown",
   "id": "ec0e6a27",
   "metadata": {},
   "source": [
    "- data from https://www.kaggle.com/datasets/kaggle/kaggle-survey-2017\n",
    "- initially contained 52442 rows and and 17 columns before cleaning\n",
    "- each row represents a house listing on Zillow\n",
    "- each column represents a feature of the property"
   ]
  },
  {
   "cell_type": "markdown",
   "id": "07fd8a4e",
   "metadata": {},
   "source": [
    "From the scope of what is wanted I have adjusted my SQL query to recieve 52442 rows. So now that we have the information then what? Now we dropp what we do not need. Since there are many differing features to choose from it would be easier to finds what has the most impact. I am going to choose:\n",
    "- bedroomcnt\n",
    "- bathroomcnt\n",
    "- calculatedfinishedsquarefeet\n",
    "- taxvaluedollarcnt\n",
    "- yearbuilt\n",
    "- fips"
   ]
  },
  {
   "cell_type": "code",
   "execution_count": 2,
   "id": "d862274c",
   "metadata": {},
   "outputs": [
    {
     "data": {
      "text/html": [
       "<div>\n",
       "<style scoped>\n",
       "    .dataframe tbody tr th:only-of-type {\n",
       "        vertical-align: middle;\n",
       "    }\n",
       "\n",
       "    .dataframe tbody tr th {\n",
       "        vertical-align: top;\n",
       "    }\n",
       "\n",
       "    .dataframe thead th {\n",
       "        text-align: right;\n",
       "    }\n",
       "</style>\n",
       "<table border=\"1\" class=\"dataframe\">\n",
       "  <thead>\n",
       "    <tr style=\"text-align: right;\">\n",
       "      <th></th>\n",
       "      <th>bathroomcnt</th>\n",
       "      <th>bedroomcnt</th>\n",
       "      <th>calculatedfinishedsquarefeet</th>\n",
       "      <th>fips</th>\n",
       "      <th>yearbuilt</th>\n",
       "      <th>taxvaluedollarcnt</th>\n",
       "    </tr>\n",
       "  </thead>\n",
       "  <tbody>\n",
       "    <tr>\n",
       "      <th>0</th>\n",
       "      <td>3.5</td>\n",
       "      <td>4.0</td>\n",
       "      <td>3100.0</td>\n",
       "      <td>6059.0</td>\n",
       "      <td>1998.0</td>\n",
       "      <td>1023282.0</td>\n",
       "    </tr>\n",
       "    <tr>\n",
       "      <th>1</th>\n",
       "      <td>1.0</td>\n",
       "      <td>2.0</td>\n",
       "      <td>1465.0</td>\n",
       "      <td>6111.0</td>\n",
       "      <td>1967.0</td>\n",
       "      <td>464000.0</td>\n",
       "    </tr>\n",
       "    <tr>\n",
       "      <th>2</th>\n",
       "      <td>2.0</td>\n",
       "      <td>3.0</td>\n",
       "      <td>1243.0</td>\n",
       "      <td>6059.0</td>\n",
       "      <td>1962.0</td>\n",
       "      <td>564778.0</td>\n",
       "    </tr>\n",
       "  </tbody>\n",
       "</table>\n",
       "</div>"
      ],
      "text/plain": [
       "   bathroomcnt  bedroomcnt  calculatedfinishedsquarefeet    fips  yearbuilt  \\\n",
       "0          3.5         4.0                        3100.0  6059.0     1998.0   \n",
       "1          1.0         2.0                        1465.0  6111.0     1967.0   \n",
       "2          2.0         3.0                        1243.0  6059.0     1962.0   \n",
       "\n",
       "   taxvaluedollarcnt  \n",
       "0          1023282.0  \n",
       "1           464000.0  \n",
       "2           564778.0  "
      ]
     },
     "execution_count": 2,
     "metadata": {},
     "output_type": "execute_result"
    }
   ],
   "source": [
    "df=acquire.zillow_data()\n",
    "df.head(3)"
   ]
  },
  {
   "cell_type": "markdown",
   "id": "1b81533e",
   "metadata": {},
   "source": [
    "# Prepare"
   ]
  },
  {
   "cell_type": "markdown",
   "id": "019278b2",
   "metadata": {},
   "source": [
    "Now taking in the data we transform it into a train test split to feed into my machine learning models"
   ]
  },
  {
   "cell_type": "markdown",
   "id": "363f6607",
   "metadata": {},
   "source": [
    "- Dropped nulls\n",
    "- Keep outliers\n",
    "- dropped extra columns"
   ]
  },
  {
   "cell_type": "code",
   "execution_count": 3,
   "id": "fc7c62b7",
   "metadata": {},
   "outputs": [
    {
     "data": {
      "text/html": [
       "<div>\n",
       "<style scoped>\n",
       "    .dataframe tbody tr th:only-of-type {\n",
       "        vertical-align: middle;\n",
       "    }\n",
       "\n",
       "    .dataframe tbody tr th {\n",
       "        vertical-align: top;\n",
       "    }\n",
       "\n",
       "    .dataframe thead th {\n",
       "        text-align: right;\n",
       "    }\n",
       "</style>\n",
       "<table border=\"1\" class=\"dataframe\">\n",
       "  <thead>\n",
       "    <tr style=\"text-align: right;\">\n",
       "      <th></th>\n",
       "      <th>bathroomcnt</th>\n",
       "      <th>bedroomcnt</th>\n",
       "      <th>calculatedfinishedsquarefeet</th>\n",
       "      <th>fips</th>\n",
       "      <th>yearbuilt</th>\n",
       "      <th>taxvaluedollarcnt</th>\n",
       "    </tr>\n",
       "  </thead>\n",
       "  <tbody>\n",
       "    <tr>\n",
       "      <th>0</th>\n",
       "      <td>3.5</td>\n",
       "      <td>4.0</td>\n",
       "      <td>3100.0</td>\n",
       "      <td>6059.0</td>\n",
       "      <td>1998.0</td>\n",
       "      <td>1023282.0</td>\n",
       "    </tr>\n",
       "    <tr>\n",
       "      <th>1</th>\n",
       "      <td>1.0</td>\n",
       "      <td>2.0</td>\n",
       "      <td>1465.0</td>\n",
       "      <td>6111.0</td>\n",
       "      <td>1967.0</td>\n",
       "      <td>464000.0</td>\n",
       "    </tr>\n",
       "    <tr>\n",
       "      <th>2</th>\n",
       "      <td>2.0</td>\n",
       "      <td>3.0</td>\n",
       "      <td>1243.0</td>\n",
       "      <td>6059.0</td>\n",
       "      <td>1962.0</td>\n",
       "      <td>564778.0</td>\n",
       "    </tr>\n",
       "  </tbody>\n",
       "</table>\n",
       "</div>"
      ],
      "text/plain": [
       "   bathroomcnt  bedroomcnt  calculatedfinishedsquarefeet    fips  yearbuilt  \\\n",
       "0          3.5         4.0                        3100.0  6059.0     1998.0   \n",
       "1          1.0         2.0                        1465.0  6111.0     1967.0   \n",
       "2          2.0         3.0                        1243.0  6059.0     1962.0   \n",
       "\n",
       "   taxvaluedollarcnt  \n",
       "0          1023282.0  \n",
       "1           464000.0  \n",
       "2           564778.0  "
      ]
     },
     "execution_count": 3,
     "metadata": {},
     "output_type": "execute_result"
    }
   ],
   "source": [
    "df = prepare.wrangled_zillow(df)\n",
    "df.head(3)"
   ]
  },
  {
   "cell_type": "code",
   "execution_count": 4,
   "id": "fb80ac79",
   "metadata": {
    "scrolled": true
   },
   "outputs": [
    {
     "data": {
      "text/html": [
       "<div>\n",
       "<style scoped>\n",
       "    .dataframe tbody tr th:only-of-type {\n",
       "        vertical-align: middle;\n",
       "    }\n",
       "\n",
       "    .dataframe tbody tr th {\n",
       "        vertical-align: top;\n",
       "    }\n",
       "\n",
       "    .dataframe thead th {\n",
       "        text-align: right;\n",
       "    }\n",
       "</style>\n",
       "<table border=\"1\" class=\"dataframe\">\n",
       "  <thead>\n",
       "    <tr style=\"text-align: right;\">\n",
       "      <th></th>\n",
       "      <th>count</th>\n",
       "      <th>mean</th>\n",
       "      <th>std</th>\n",
       "      <th>min</th>\n",
       "      <th>25%</th>\n",
       "      <th>50%</th>\n",
       "      <th>75%</th>\n",
       "      <th>max</th>\n",
       "    </tr>\n",
       "  </thead>\n",
       "  <tbody>\n",
       "    <tr>\n",
       "      <th>bathroomcnt</th>\n",
       "      <td>50724.0</td>\n",
       "      <td>2.234051</td>\n",
       "      <td>0.897408</td>\n",
       "      <td>1.0</td>\n",
       "      <td>2.0</td>\n",
       "      <td>2.0</td>\n",
       "      <td>3.0</td>\n",
       "      <td>6.0</td>\n",
       "    </tr>\n",
       "    <tr>\n",
       "      <th>bedroomcnt</th>\n",
       "      <td>50724.0</td>\n",
       "      <td>3.272987</td>\n",
       "      <td>0.889970</td>\n",
       "      <td>1.0</td>\n",
       "      <td>3.0</td>\n",
       "      <td>3.0</td>\n",
       "      <td>4.0</td>\n",
       "      <td>6.0</td>\n",
       "    </tr>\n",
       "    <tr>\n",
       "      <th>calculatedfinishedsquarefeet</th>\n",
       "      <td>50724.0</td>\n",
       "      <td>1844.269103</td>\n",
       "      <td>824.676285</td>\n",
       "      <td>152.0</td>\n",
       "      <td>1258.0</td>\n",
       "      <td>1635.0</td>\n",
       "      <td>2238.0</td>\n",
       "      <td>8615.0</td>\n",
       "    </tr>\n",
       "    <tr>\n",
       "      <th>fips</th>\n",
       "      <td>50724.0</td>\n",
       "      <td>6049.176800</td>\n",
       "      <td>21.093083</td>\n",
       "      <td>6037.0</td>\n",
       "      <td>6037.0</td>\n",
       "      <td>6037.0</td>\n",
       "      <td>6059.0</td>\n",
       "      <td>6111.0</td>\n",
       "    </tr>\n",
       "    <tr>\n",
       "      <th>yearbuilt</th>\n",
       "      <td>50724.0</td>\n",
       "      <td>1963.087020</td>\n",
       "      <td>22.824787</td>\n",
       "      <td>1878.0</td>\n",
       "      <td>1950.0</td>\n",
       "      <td>1960.0</td>\n",
       "      <td>1978.0</td>\n",
       "      <td>2016.0</td>\n",
       "    </tr>\n",
       "    <tr>\n",
       "      <th>taxvaluedollarcnt</th>\n",
       "      <td>50724.0</td>\n",
       "      <td>444192.690955</td>\n",
       "      <td>353853.540931</td>\n",
       "      <td>1000.0</td>\n",
       "      <td>188567.0</td>\n",
       "      <td>363754.5</td>\n",
       "      <td>588816.5</td>\n",
       "      <td>1997251.0</td>\n",
       "    </tr>\n",
       "  </tbody>\n",
       "</table>\n",
       "</div>"
      ],
      "text/plain": [
       "                                count           mean            std     min  \\\n",
       "bathroomcnt                   50724.0       2.234051       0.897408     1.0   \n",
       "bedroomcnt                    50724.0       3.272987       0.889970     1.0   \n",
       "calculatedfinishedsquarefeet  50724.0    1844.269103     824.676285   152.0   \n",
       "fips                          50724.0    6049.176800      21.093083  6037.0   \n",
       "yearbuilt                     50724.0    1963.087020      22.824787  1878.0   \n",
       "taxvaluedollarcnt             50724.0  444192.690955  353853.540931  1000.0   \n",
       "\n",
       "                                   25%       50%       75%        max  \n",
       "bathroomcnt                        2.0       2.0       3.0        6.0  \n",
       "bedroomcnt                         3.0       3.0       4.0        6.0  \n",
       "calculatedfinishedsquarefeet    1258.0    1635.0    2238.0     8615.0  \n",
       "fips                            6037.0    6037.0    6059.0     6111.0  \n",
       "yearbuilt                       1950.0    1960.0    1978.0     2016.0  \n",
       "taxvaluedollarcnt             188567.0  363754.5  588816.5  1997251.0  "
      ]
     },
     "execution_count": 4,
     "metadata": {},
     "output_type": "execute_result"
    }
   ],
   "source": [
    "df.describe().T"
   ]
  },
  {
   "cell_type": "code",
   "execution_count": 5,
   "id": "0702ddd7",
   "metadata": {},
   "outputs": [],
   "source": [
    "train, validate, test = prepare.traintestsplit(df)"
   ]
  },
  {
   "cell_type": "markdown",
   "id": "6b74ac8c",
   "metadata": {},
   "source": [
    "## Explore"
   ]
  },
  {
   "cell_type": "code",
   "execution_count": 6,
   "id": "15699d5c",
   "metadata": {},
   "outputs": [],
   "source": [
    "α = 0.05\n",
    "#we have this here to compare to the p-values given"
   ]
  },
  {
   "cell_type": "markdown",
   "id": "9163c252",
   "metadata": {},
   "source": [
    "<p><b>Null_Hypothesis: </b>\n",
    "That the number of bedrooms has no relationship to the house price</p>\n",
    "<b>Alternative hypothesis: </b>\n",
    "That the number of bedrooms has a relationship to the house price"
   ]
  },
  {
   "cell_type": "code",
   "execution_count": 7,
   "id": "2e121204",
   "metadata": {},
   "outputs": [
    {
     "data": {
      "image/png": "[encoded data removed]",
      "text/plain": [
       "<Figure size 360x360 with 1 Axes>"
      ]
     },
     "metadata": {
      "needs_background": "light"
     },
     "output_type": "display_data"
    }
   ],
   "source": [
    "sns.lmplot(x=\"bedroomcnt\", y=\"taxvaluedollarcnt\", data=train, line_kws={'color': 'red'})\n",
    "plt.show()"
   ]
  },
  {
   "cell_type": "markdown",
   "id": "fec81a20",
   "metadata": {},
   "source": [
    "Roughly a small linear relationship between bedroom count and \"price\""
   ]
  },
  {
   "cell_type": "code",
   "execution_count": 8,
   "id": "47fc4a19",
   "metadata": {},
   "outputs": [
    {
     "data": {
      "text/plain": [
       "(0.26998459281241166, 0.0)"
      ]
     },
     "execution_count": 8,
     "metadata": {},
     "output_type": "execute_result"
    }
   ],
   "source": [
    "corr, p = stats.pearsonr(train.bedroomcnt, train.taxvaluedollarcnt)\n",
    "corr, p"
   ]
  },
  {
   "cell_type": "code",
   "execution_count": 9,
   "id": "c55c26a5",
   "metadata": {
    "scrolled": true
   },
   "outputs": [
    {
     "name": "stdout",
     "output_type": "stream",
     "text": [
      "We reject the null hypothesis\n"
     ]
    }
   ],
   "source": [
    "if α > p:\n",
    "    print(\"We reject the null hypothesis\")"
   ]
  },
  {
   "cell_type": "markdown",
   "id": "ec3c6431",
   "metadata": {},
   "source": [
    "What the statistical test tells us here is that there is in fact a relationship between the amount of bedrooms and the price of the house. It also tells us that while being meaningful there maybe stronger drivers to measure against"
   ]
  },
  {
   "cell_type": "markdown",
   "id": "b21b72af",
   "metadata": {},
   "source": [
    "<hr>"
   ]
  },
  {
   "cell_type": "markdown",
   "id": "2bf84ae8",
   "metadata": {},
   "source": [
    "<p><b>Null_Hypothesis: </b>\n",
    "That the number of bathrooms has no relationship to the house price</p>\n",
    "<b>Alternative hypothesis: </b>\n",
    "That the number of bathrooms has a relationship to the house price"
   ]
  },
  {
   "cell_type": "code",
   "execution_count": 10,
   "id": "b7259857",
   "metadata": {
    "scrolled": true
   },
   "outputs": [
    {
     "data": {
      "image/png": "[encoded data removed]",
      "text/plain": [
       "<Figure size 360x360 with 1 Axes>"
      ]
     },
     "metadata": {
      "needs_background": "light"
     },
     "output_type": "display_data"
    }
   ],
   "source": [
    "sns.lmplot(x=\"bathroomcnt\", y=\"taxvaluedollarcnt\", data=train, line_kws={'color': 'red'})\n",
    "plt.show()\n",
    "#steeper slope here can imply higher causality towards \"price\""
   ]
  },
  {
   "cell_type": "code",
   "execution_count": 11,
   "id": "64626fc5",
   "metadata": {
    "scrolled": true
   },
   "outputs": [
    {
     "data": {
      "text/plain": [
       "(0.5005506051404705, 0.0)"
      ]
     },
     "execution_count": 11,
     "metadata": {},
     "output_type": "execute_result"
    }
   ],
   "source": [
    "corr, p = stats.pearsonr(train.bathroomcnt, train.taxvaluedollarcnt)\n",
    "corr, p"
   ]
  },
  {
   "cell_type": "code",
   "execution_count": 12,
   "id": "5c6c6b4a",
   "metadata": {},
   "outputs": [
    {
     "name": "stdout",
     "output_type": "stream",
     "text": [
      "We reject the null hypothesis\n"
     ]
    }
   ],
   "source": [
    "if α > p:\n",
    "    print(\"We reject the null hypothesis\")"
   ]
  },
  {
   "cell_type": "markdown",
   "id": "8f77178d",
   "metadata": {},
   "source": [
    "What the statistical data above shows us is that there is a positive relationship between number of bathrooms and price. More over that the significance is quite high"
   ]
  },
  {
   "cell_type": "markdown",
   "id": "b1ff5994",
   "metadata": {},
   "source": [
    "<hr>"
   ]
  },
  {
   "cell_type": "markdown",
   "id": "accba78d",
   "metadata": {},
   "source": [
    "<p><b>Null_Hypothesis: </b>\n",
    "That the amount of square feet has no relationship to the house price</p>\n",
    "<b>Alternative hypothesis: </b>\n",
    "That the amount of square feet has a relationship to the house price"
   ]
  },
  {
   "cell_type": "code",
   "execution_count": 13,
   "id": "646aed16",
   "metadata": {
    "scrolled": true
   },
   "outputs": [
    {
     "data": {
      "image/png": "[encoded data removed]",
      "text/plain": [
       "<Figure size 360x360 with 1 Axes>"
      ]
     },
     "metadata": {
      "needs_background": "light"
     },
     "output_type": "display_data"
    }
   ],
   "source": [
    "sns.lmplot(x=\"calculatedfinishedsquarefeet\", y=\"taxvaluedollarcnt\", data=train, line_kws={'color': 'red'})\n",
    "plt.show()\n",
    "#most 45 degree ish line so far\n",
    "#tell about relationship as well as hypotheses and stats test with correlation test"
   ]
  },
  {
   "cell_type": "code",
   "execution_count": 14,
   "id": "02ca3f37",
   "metadata": {},
   "outputs": [
    {
     "data": {
      "text/plain": [
       "(0.5721633427826447, 0.0)"
      ]
     },
     "execution_count": 14,
     "metadata": {},
     "output_type": "execute_result"
    }
   ],
   "source": [
    "corr, p = stats.pearsonr(train.calculatedfinishedsquarefeet, train.taxvaluedollarcnt)\n",
    "corr, p"
   ]
  },
  {
   "cell_type": "code",
   "execution_count": 15,
   "id": "048e99e6",
   "metadata": {},
   "outputs": [
    {
     "name": "stdout",
     "output_type": "stream",
     "text": [
      "We reject the null hypothesis\n"
     ]
    }
   ],
   "source": [
    "if α > p:\n",
    "    print(\"We reject the null hypothesis\")"
   ]
  },
  {
   "cell_type": "markdown",
   "id": "63f12f24",
   "metadata": {},
   "source": [
    "What the statistical data above shows us is that there is a positive relationship between how much square feet there are and price. More over that the significance is quite high"
   ]
  },
  {
   "cell_type": "markdown",
   "id": "b2fd4cc3",
   "metadata": {},
   "source": [
    "<hr>"
   ]
  },
  {
   "cell_type": "markdown",
   "id": "5f5f10ad",
   "metadata": {},
   "source": [
    "<p><b>Null_Hypothesis: </b>\n",
    "That the area has no relationship to the house price</p>\n",
    "<b>Alternative hypothesis: </b>\n",
    "That the area has a relationship to the house price"
   ]
  },
  {
   "cell_type": "code",
   "execution_count": 16,
   "id": "aba7d6de",
   "metadata": {},
   "outputs": [
    {
     "data": {
      "image/png": "[encoded data removed]",
      "text/plain": [
       "<Figure size 432x288 with 1 Axes>"
      ]
     },
     "metadata": {
      "needs_background": "light"
     },
     "output_type": "display_data"
    }
   ],
   "source": [
    "#For this one we have swapped from lmplot to a bar plot because it yeilds cleaner answers\n",
    "sns.barplot(x=\"fips\", y=\"taxvaluedollarcnt\", data=train)\n",
    "plt.show()\n",
    "#we explore off of train\n",
    "#really hammer home"
   ]
  },
  {
   "cell_type": "code",
   "execution_count": 17,
   "id": "cd227296",
   "metadata": {},
   "outputs": [
    {
     "data": {
      "text/plain": [
       "(5.328882585666712, 5.171424318304606e-08)"
      ]
     },
     "execution_count": 17,
     "metadata": {},
     "output_type": "execute_result"
    }
   ],
   "source": [
    "t, p = stats.ttest_ind(train[train['fips'] == 6059.0].taxvaluedollarcnt,\n",
    "                       train[train['fips']== 6111.0].taxvaluedollarcnt, \n",
    "                       equal_var=False)\n",
    "t, p / 2\n",
    "#correlation here are two series\n",
    "#running two t tests here\n",
    "#compare series to series"
   ]
  },
  {
   "cell_type": "code",
   "execution_count": 18,
   "id": "837e66a1",
   "metadata": {},
   "outputs": [
    {
     "data": {
      "text/plain": [
       "(11.844959063238885, 5.05423419246211e-32)"
      ]
     },
     "execution_count": 18,
     "metadata": {},
     "output_type": "execute_result"
    }
   ],
   "source": [
    "t, p = stats.ttest_ind(train[train['fips'] == 6111.0].taxvaluedollarcnt,\n",
    "                       train[train['fips'] == 6037.0].taxvaluedollarcnt, \n",
    "                       equal_var=False)\n",
    "t, p / 2"
   ]
  },
  {
   "cell_type": "code",
   "execution_count": 19,
   "id": "61668de3",
   "metadata": {},
   "outputs": [
    {
     "name": "stdout",
     "output_type": "stream",
     "text": [
      "We reject the null hypothesis\n"
     ]
    }
   ],
   "source": [
    "if α > p:\n",
    "    print(\"We reject the null hypothesis\")"
   ]
  },
  {
   "cell_type": "markdown",
   "id": "45470e38",
   "metadata": {},
   "source": [
    "<b>What the above statistical test tells us is that there are differences in prices of houses between counties.\n",
    "    \n",
    "Between Orange County (6059) Los Angelos (6111) there is some difference\n",
    "    \n",
    "But between Los Angelos (6111) and Ventura County (6059) there is an even greater difference </b>"
   ]
  },
  {
   "cell_type": "markdown",
   "id": "a89e976a",
   "metadata": {},
   "source": [
    "The relationship present here implies that the county of 6059 has a higher on average cost"
   ]
  },
  {
   "cell_type": "markdown",
   "id": "0f09531f",
   "metadata": {},
   "source": [
    "<hr>"
   ]
  },
  {
   "cell_type": "markdown",
   "id": "017131c1",
   "metadata": {},
   "source": [
    "<p><b>Null_Hypothesis: </b>\n",
    "That the year it was built has no relationship to the house price</p>\n",
    "<b>Alternative hypothesis: </b>\n",
    "That the year it was built has a relationship to the house price"
   ]
  },
  {
   "cell_type": "code",
   "execution_count": 20,
   "id": "5e96c478",
   "metadata": {},
   "outputs": [
    {
     "data": {
      "image/png": "[encoded data removed]",
      "text/plain": [
       "<Figure size 360x360 with 1 Axes>"
      ]
     },
     "metadata": {
      "needs_background": "light"
     },
     "output_type": "display_data"
    }
   ],
   "source": [
    "sns.lmplot(x=\"yearbuilt\", y=\"taxvaluedollarcnt\", data=train, line_kws={'color': 'red'})\n",
    "plt.show()\n",
    "#this takeaway shows us that year  may not be the most poperful prediction\n",
    "#the realtionship between "
   ]
  },
  {
   "cell_type": "markdown",
   "id": "1753dcff",
   "metadata": {},
   "source": [
    "Takeaways:\n",
    "- calculated square feet is so far the lead in realtionship to \"price"
   ]
  },
  {
   "cell_type": "code",
   "execution_count": 21,
   "id": "608b24a0",
   "metadata": {},
   "outputs": [
    {
     "data": {
      "text/plain": [
       "(0.2479012725902783, 0.0)"
      ]
     },
     "execution_count": 21,
     "metadata": {},
     "output_type": "execute_result"
    }
   ],
   "source": [
    "corr, p = stats.pearsonr(train.yearbuilt, train.taxvaluedollarcnt)\n",
    "corr, p"
   ]
  },
  {
   "cell_type": "code",
   "execution_count": 22,
   "id": "1177aa01",
   "metadata": {},
   "outputs": [
    {
     "name": "stdout",
     "output_type": "stream",
     "text": [
      "We reject the null hypothesis\n"
     ]
    }
   ],
   "source": [
    "if α > p:\n",
    "    print(\"We reject the null hypothesis\")"
   ]
  },
  {
   "cell_type": "markdown",
   "id": "27821e3a",
   "metadata": {},
   "source": [
    "What the statistical data above shows us is that there is a positive relationship between the year it was built and price. More over that the significance is not so strong"
   ]
  },
  {
   "cell_type": "markdown",
   "id": "bc65f67f",
   "metadata": {},
   "source": [
    "## Exploration Summary\n",
    "- all of the starting features do drive home prices\n",
    "- some more then other"
   ]
  },
  {
   "cell_type": "markdown",
   "id": "b417d149",
   "metadata": {},
   "source": [
    "<hr>"
   ]
  },
  {
   "cell_type": "markdown",
   "id": "d43d0f3e",
   "metadata": {},
   "source": [
    "## Modeling Prep"
   ]
  },
  {
   "cell_type": "markdown",
   "id": "5694a071",
   "metadata": {},
   "source": [
    "This may take some time, maybe more time then I know of.\n",
    "\n",
    "My confidence is not the highest coming into this but I will surely build out some models"
   ]
  },
  {
   "cell_type": "code",
   "execution_count": 23,
   "id": "13e7e11a",
   "metadata": {},
   "outputs": [],
   "source": [
    "scaler, train_scaled, validate_scaled, test_scaled = prepare.splitmoreways(train, validate, test, return_scaler=True)"
   ]
  },
  {
   "cell_type": "code",
   "execution_count": 30,
   "id": "59b36540",
   "metadata": {},
   "outputs": [],
   "source": [
    "X_train = train_scaled[['calculatedfinishedsquarefeet']]\n",
    "y_train = pd.DataFrame(train_scaled['taxvaluedollarcnt'])\n",
    "\n",
    "X_validate = validate_scaled[['calculatedfinishedsquarefeet']]\n",
    "y_validate = validate_scaled['taxvaluedollarcnt']\n",
    "\n",
    "X_test = test_scaled[['calculatedfinishedsquarefeet']]\n",
    "y_test = test_scaled['taxvaluedollarcnt']"
   ]
  },
  {
   "cell_type": "markdown",
   "id": "a33b4778",
   "metadata": {},
   "source": [
    "Now with all of my features scaled to a MinMaxScaler I can run models on it.\n",
    "\n",
    "I am going to want to split my features from target variable"
   ]
  },
  {
   "cell_type": "code",
   "execution_count": 31,
   "id": "30b2a6cc",
   "metadata": {},
   "outputs": [
    {
     "name": "stdout",
     "output_type": "stream",
     "text": [
      "RMSE for OLS using LinearRegression\n",
      "Training/In-Sample:  291397.4447750423 \n",
      "Validation/Out-of-Sample:  288308.6220619157 \n",
      "Test Sample:  286865.4594977343\n"
     ]
    }
   ],
   "source": [
    "# create the model object\n",
    "lm = LinearRegression(normalize=True)\n",
    "\n",
    "# fit the model to our training data. We must specify the column in y_train, \n",
    "# since we have converted it to a dataframe from a series! \n",
    "lm.fit(X_train, y_train)\n",
    "\n",
    "# predict train\n",
    "train_predictions = lm.predict(X_train)\n",
    "\n",
    "# evaluate: rmse\n",
    "rmse_train = mean_squared_error(y_train.taxvaluedollarcnt, train_predictions)**(1/2)\n",
    "\n",
    "# predict validate\n",
    "validate_predictions = lm.predict(X_validate)\n",
    "\n",
    "# evaluate: rmse\n",
    "rmse_validate = mean_squared_error(y_validate, validate_predictions)**(1/2)\n",
    "\n",
    "# predict test\n",
    "test_predictions = lm.predict(X_test)\n",
    "\n",
    "rmse_test = mean_squared_error(y_test, test_predictions)**(1/2)\n",
    "\n",
    "print(\"RMSE for OLS using LinearRegression\\nTraining/In-Sample: \", rmse_train, \n",
    "      \"\\nValidation/Out-of-Sample: \", rmse_validate,\n",
    "     \"\\nTest Sample: \", rmse_test)"
   ]
  },
  {
   "cell_type": "markdown",
   "id": "d16a1223",
   "metadata": {},
   "source": [
    "> RMSE using Mean\n",
    "> - Train/In-Sample:  355302.21 \n",
    "> - Validate/Out-of-Sample:  351801.88"
   ]
  },
  {
   "cell_type": "markdown",
   "id": "554fc36b",
   "metadata": {},
   "source": [
    "## Takeaways"
   ]
  },
  {
   "cell_type": "markdown",
   "id": "05d26054",
   "metadata": {},
   "source": [
    "Of the three machine learning models we have used Linear Regression and Lasso Lars are about the same"
   ]
  },
  {
   "cell_type": "markdown",
   "id": "546d998f",
   "metadata": {},
   "source": [
    "I would suggest we use the linear regression model to guide the project forward"
   ]
  },
  {
   "cell_type": "markdown",
   "id": "c13c494e",
   "metadata": {},
   "source": [
    "Having a customer profile may be best to help narrow the error gap"
   ]
  },
  {
   "cell_type": "markdown",
   "id": "406c90d1",
   "metadata": {},
   "source": [
    "### Recommendation:\n",
    "- change the inputs to have a much tighter recommendation\n",
    "- make adjustments based off of the customer"
   ]
  },
  {
   "cell_type": "markdown",
   "id": "e696cce8",
   "metadata": {},
   "source": [
    "### If given more time:\n",
    "- take in all features \n",
    "- measure a difference of the results at different IQR's"
   ]
  }
 ],
 "metadata": {
  "kernelspec": {
   "display_name": "Python 3 (ipykernel)",
   "language": "python",
   "name": "python3"
  },
  "language_info": {
   "codemirror_mode": {
    "name": "ipython",
    "version": 3
   },
   "file_extension": ".py",
   "mimetype": "text/x-python",
   "name": "python",
   "nbconvert_exporter": "python",
   "pygments_lexer": "ipython3",
   "version": "3.9.7"
  }
 },
 "nbformat": 4,
 "nbformat_minor": 5
}
