{
 "cells": [
  {
   "cell_type": "code",
   "execution_count": 1,
   "id": "8e404e3f",
   "metadata": {},
   "outputs": [],
   "source": [
    "import warnings\n",
    "warnings.filterwarnings(\"ignore\")\n",
    "\n",
    "import pandas as pd\n",
    "import matplotlib.pyplot as plt\n",
    "import seaborn as sns\n",
    "import numpy as np\n",
    "import wrangle\n",
    "import env"
   ]
  },
  {
   "cell_type": "markdown",
   "id": "1d38d223",
   "metadata": {},
   "source": [
    "# Zillow"
   ]
  },
  {
   "cell_type": "markdown",
   "id": "c3373bb0",
   "metadata": {},
   "source": [
    "## Acquire"
   ]
  },
  {
   "cell_type": "code",
   "execution_count": null,
   "id": "4e09357f",
   "metadata": {},
   "outputs": [],
   "source": [
    "#this is a good case for transforming to csv to save time later\n",
    "df = wrangle.get_zillow_data()\n",
    "df.head()"
   ]
  },
  {
   "cell_type": "code",
   "execution_count": null,
   "id": "5e0563ee",
   "metadata": {},
   "outputs": [],
   "source": [
    "df.shape\n",
    "#this tells us that we are no longer playing in the kiddie pool"
   ]
  },
  {
   "cell_type": "code",
   "execution_count": null,
   "id": "751496e0",
   "metadata": {},
   "outputs": [],
   "source": [
    "df.describe().T"
   ]
  },
  {
   "cell_type": "code",
   "execution_count": null,
   "id": "e961ea32",
   "metadata": {},
   "outputs": [],
   "source": [
    "df.info()"
   ]
  },
  {
   "cell_type": "markdown",
   "id": "3c1c6032",
   "metadata": {},
   "source": [
    "<b>Acquire and Summarize Takeaways</b>\n",
    "- There are many rows where bedroomcnt is 0\n",
    "- Also bathroomcnt is 0 making it pretty odd that a residence does not have a bathroom\n",
    "- - I wonder why and how that is\n",
    "- All of the data types are rendered as floats, may need to adjust that when I can\n",
    "- There are no non-nulls"
   ]
  },
  {
   "cell_type": "markdown",
   "id": "39a9f125",
   "metadata": {},
   "source": [
    "## Prepare"
   ]
  },
  {
   "cell_type": "code",
   "execution_count": null,
   "id": "0adb1283",
   "metadata": {},
   "outputs": [],
   "source": [
    "#we have gotten rid of the propertylandusetypeid because we do not need it anymore\n",
    "#it was for pulling SFR\n",
    "#i can shift this into the wrangle file\n",
    "df = df.drop('propertylandusetypeid', axis=1)\n",
    "df.head(2)"
   ]
  },
  {
   "cell_type": "code",
   "execution_count": null,
   "id": "3a2fdcc6",
   "metadata": {},
   "outputs": [],
   "source": [
    "nulls = df.isnull().sum()\n",
    "nulls\n",
    "#what is perculiar here is that yearbuilt and calculatedfinishedsquarefeet have many null values"
   ]
  },
  {
   "cell_type": "code",
   "execution_count": null,
   "id": "26ff0ce5",
   "metadata": {},
   "outputs": [],
   "source": [
    "nulls.sum() / df.shape[0]\n",
    "#the nulls make up around 1% which in the grand scheme of things\n",
    "#doesn't matter so I can drop them"
   ]
  },
  {
   "cell_type": "code",
   "execution_count": null,
   "id": "af715cb7",
   "metadata": {},
   "outputs": [],
   "source": [
    "df.shape"
   ]
  },
  {
   "cell_type": "code",
   "execution_count": null,
   "id": "e2502ca2",
   "metadata": {},
   "outputs": [],
   "source": [
    "df = df.dropna()\n",
    "df.shape\n",
    "#we compare from how much we origincally started with to now one where we drop the nulls"
   ]
  },
  {
   "cell_type": "code",
   "execution_count": null,
   "id": "91c2a685",
   "metadata": {},
   "outputs": [],
   "source": [
    "#there are no nulls in fips\n",
    "df.isnull().any()"
   ]
  },
  {
   "cell_type": "code",
   "execution_count": null,
   "id": "1c977b8f",
   "metadata": {},
   "outputs": [],
   "source": [
    "df.columns[df.isnull().any()]"
   ]
  },
  {
   "cell_type": "code",
   "execution_count": null,
   "id": "b211e8ce",
   "metadata": {},
   "outputs": [],
   "source": [
    "df.head(50)"
   ]
  },
  {
   "cell_type": "markdown",
   "id": "3038eb05",
   "metadata": {},
   "source": [
    "Now we are looking at taking off some more of the excess material I want to look into if there are rows where the bedroomcnt is 0 and bathroomcnt 0"
   ]
  },
  {
   "cell_type": "code",
   "execution_count": null,
   "id": "df27f5ef",
   "metadata": {},
   "outputs": [],
   "source": [
    "df[(df.bedroomcnt == 0) & (df.bathroomcnt > 0)]"
   ]
  },
  {
   "cell_type": "markdown",
   "id": "55841b59",
   "metadata": {},
   "source": [
    "The takeaway being that while there are rows that have no bedrooms and some bathrooms. The result is too small compared to the total volume. TLDR: very small number don't matter"
   ]
  },
  {
   "cell_type": "code",
   "execution_count": null,
   "id": "0adb2c68",
   "metadata": {},
   "outputs": [],
   "source": [
    "1099 / df.shape[0]\n",
    "#less then 0 percent, it don't matter"
   ]
  },
  {
   "cell_type": "code",
   "execution_count": null,
   "id": "1ec4306b",
   "metadata": {},
   "outputs": [],
   "source": [
    "nobednobath = df[(df.bedroomcnt == 0) & (df.bathroomcnt == 0)]\n",
    "nobednobath"
   ]
  },
  {
   "cell_type": "code",
   "execution_count": null,
   "id": "ba1b5b6b",
   "metadata": {},
   "outputs": [],
   "source": [
    "nobednobath.shape"
   ]
  },
  {
   "cell_type": "code",
   "execution_count": null,
   "id": "4b48f0dd",
   "metadata": {},
   "outputs": [],
   "source": [
    "nobednobath.shape[0] / df.shape[0]\n",
    "#less then 1 percent the nobednobathare getting dropped"
   ]
  },
  {
   "cell_type": "code",
   "execution_count": null,
   "id": "4013e5c1",
   "metadata": {},
   "outputs": [],
   "source": [
    "missing = df[(df.bedroomcnt == 0) | (df.bathroomcnt == 0) | (df.calculatedfinishedsquarefeet <= 70)]\n",
    "missing.shape"
   ]
  },
  {
   "cell_type": "code",
   "execution_count": null,
   "id": "17f4b9c2",
   "metadata": {},
   "outputs": [],
   "source": [
    "missing.shape[0] / df.shape[0]\n",
    "#less then 1% of my data is 0 bed 0 bath and <= 70"
   ]
  },
  {
   "cell_type": "markdown",
   "id": "9c25929f",
   "metadata": {},
   "source": [
    "I think that maybe I am wrong with the way that my code is formatted"
   ]
  },
  {
   "cell_type": "code",
   "execution_count": null,
   "id": "94c6dfde",
   "metadata": {},
   "outputs": [],
   "source": [
    "df = df[(df.bedroomcnt != 0) & (df.bathroomcnt != 0) & (df.calculatedfinishedsquarefeet >= 70)]\n",
    "df.shape"
   ]
  },
  {
   "cell_type": "code",
   "execution_count": null,
   "id": "fa5973a6",
   "metadata": {},
   "outputs": [],
   "source": [
    "#this tells me that there are now no rows with calculatedfinishedsquarefeet = 0\n",
    "df[df.calculatedfinishedsquarefeet == 0]"
   ]
  },
  {
   "cell_type": "code",
   "execution_count": null,
   "id": "2f93d9bb",
   "metadata": {},
   "outputs": [],
   "source": [
    "df.head(70)"
   ]
  },
  {
   "cell_type": "code",
   "execution_count": null,
   "id": "99bffe90",
   "metadata": {},
   "outputs": [],
   "source": [
    "df.describe().T"
   ]
  },
  {
   "cell_type": "code",
   "execution_count": null,
   "id": "9fd3b5ba",
   "metadata": {},
   "outputs": [],
   "source": [
    "df.info()"
   ]
  },
  {
   "cell_type": "code",
   "execution_count": null,
   "id": "7295de66",
   "metadata": {},
   "outputs": [],
   "source": [
    "plt.boxplot(df)"
   ]
  },
  {
   "cell_type": "code",
   "execution_count": null,
   "id": "ea3477ef",
   "metadata": {},
   "outputs": [],
   "source": [
    "df.head(20)"
   ]
  },
  {
   "cell_type": "code",
   "execution_count": null,
   "id": "eb22f7d3",
   "metadata": {},
   "outputs": [],
   "source": [
    "df.fips.hist()"
   ]
  },
  {
   "cell_type": "code",
   "execution_count": null,
   "id": "637aea3c",
   "metadata": {},
   "outputs": [],
   "source": [
    "df.bedroomcnt.hist(bins=20)"
   ]
  },
  {
   "cell_type": "markdown",
   "id": "9a4e6cd2",
   "metadata": {},
   "source": [
    "I can do a value counts for each column as well as histogram for each to get to know my data a bit easier"
   ]
  },
  {
   "cell_type": "code",
   "execution_count": null,
   "id": "9f38dff2",
   "metadata": {},
   "outputs": [],
   "source": [
    "#bringing this down so i don't have to scroll all the way back up\n",
    "df.columns"
   ]
  },
  {
   "cell_type": "code",
   "execution_count": null,
   "id": "1558b965",
   "metadata": {},
   "outputs": [],
   "source": [
    "#since there are no half rooms it would be safe to transform this column from float to integer\n",
    "df.bedroomcnt.value_counts()\n",
    "#we have an outlier that has 25 rooms really anything about \n",
    "#11 rooms can be chopped off and have our database better for it\n",
    "#the total amount of rows dropped from listing off"
   ]
  },
  {
   "cell_type": "code",
   "execution_count": null,
   "id": "0b483d38",
   "metadata": {},
   "outputs": [],
   "source": [
    "#integers makes sense here because  a bathroom needs a sink, toilet, and shower\n",
    "df.bathroomcnt.value_counts()"
   ]
  },
  {
   "cell_type": "code",
   "execution_count": null,
   "id": "d63fc2fe",
   "metadata": {},
   "outputs": [],
   "source": [
    "#value counts here is kinda useless\n",
    "df.calculatedfinishedsquarefeet.hist()"
   ]
  },
  {
   "cell_type": "markdown",
   "id": "4ac3d69a",
   "metadata": {},
   "source": [
    "this tells us that there is a heavy emphasis in one particular area the outliers are unlegible"
   ]
  },
  {
   "cell_type": "code",
   "execution_count": null,
   "id": "87cc7593",
   "metadata": {},
   "outputs": [],
   "source": [
    "#this tells us that the range of the years is 153\n",
    "df.yearbuilt.value_counts()"
   ]
  },
  {
   "cell_type": "code",
   "execution_count": null,
   "id": "55ba91a0",
   "metadata": {},
   "outputs": [],
   "source": [
    "df.taxamount.value_counts()"
   ]
  },
  {
   "cell_type": "code",
   "execution_count": null,
   "id": "fc8fc202",
   "metadata": {},
   "outputs": [],
   "source": [
    "df.taxamount.hist()"
   ]
  },
  {
   "cell_type": "code",
   "execution_count": null,
   "id": "d5f0cc1c",
   "metadata": {},
   "outputs": [],
   "source": [
    "df.fips.value_counts()"
   ]
  },
  {
   "cell_type": "code",
   "execution_count": null,
   "id": "6d8c6532",
   "metadata": {},
   "outputs": [],
   "source": [
    "#it would take a gargantuan amount of battery life and processing power to get a pairplot of a 2 million \n",
    "#point being its not worth doing a pairplot here\n",
    "# sns.pairplot(df)"
   ]
  },
  {
   "cell_type": "code",
   "execution_count": null,
   "id": "f8f6a5bf",
   "metadata": {},
   "outputs": [],
   "source": []
  }
 ],
 "metadata": {
  "kernelspec": {
   "display_name": "Python 3 (ipykernel)",
   "language": "python",
   "name": "python3"
  },
  "language_info": {
   "codemirror_mode": {
    "name": "ipython",
    "version": 3
   },
   "file_extension": ".py",
   "mimetype": "text/x-python",
   "name": "python",
   "nbconvert_exporter": "python",
   "pygments_lexer": "ipython3",
   "version": "3.9.7"
  }
 },
 "nbformat": 4,
 "nbformat_minor": 5
}
