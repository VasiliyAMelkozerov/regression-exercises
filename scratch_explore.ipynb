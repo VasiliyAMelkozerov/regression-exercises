{
 "cells": [
  {
   "cell_type": "markdown",
   "id": "754dbdb3",
   "metadata": {},
   "source": [
    "# Acquire"
   ]
  },
  {
   "cell_type": "code",
   "execution_count": 1,
   "id": "43baf187",
   "metadata": {},
   "outputs": [],
   "source": [
    "import warnings\n",
    "warnings.filterwarnings(\"ignore\")\n",
    "\n",
    "import pandas as pd\n",
    "import matplotlib.pyplot as plt\n",
    "import seaborn as sns\n",
    "import numpy as np\n",
    "import wrangle\n",
    "import prepare\n",
    "import acquire\n",
    "import env\n",
    "from sklearn.model_selection import train_test_split"
   ]
  },
  {
   "cell_type": "code",
   "execution_count": 2,
   "id": "235cb135",
   "metadata": {},
   "outputs": [
    {
     "data": {
      "text/html": [
       "<div>\n",
       "<style scoped>\n",
       "    .dataframe tbody tr th:only-of-type {\n",
       "        vertical-align: middle;\n",
       "    }\n",
       "\n",
       "    .dataframe tbody tr th {\n",
       "        vertical-align: top;\n",
       "    }\n",
       "\n",
       "    .dataframe thead th {\n",
       "        text-align: right;\n",
       "    }\n",
       "</style>\n",
       "<table border=\"1\" class=\"dataframe\">\n",
       "  <thead>\n",
       "    <tr style=\"text-align: right;\">\n",
       "      <th></th>\n",
       "      <th>0</th>\n",
       "      <th>1</th>\n",
       "      <th>2</th>\n",
       "      <th>3</th>\n",
       "      <th>4</th>\n",
       "    </tr>\n",
       "  </thead>\n",
       "  <tbody>\n",
       "    <tr>\n",
       "      <th>bathroomcnt</th>\n",
       "      <td>3.5</td>\n",
       "      <td>1.0</td>\n",
       "      <td>2.0</td>\n",
       "      <td>3.0</td>\n",
       "      <td>3.0</td>\n",
       "    </tr>\n",
       "    <tr>\n",
       "      <th>bedroomcnt</th>\n",
       "      <td>4.0</td>\n",
       "      <td>2.0</td>\n",
       "      <td>3.0</td>\n",
       "      <td>4.0</td>\n",
       "      <td>4.0</td>\n",
       "    </tr>\n",
       "    <tr>\n",
       "      <th>calculatedfinishedsquarefeet</th>\n",
       "      <td>3100.0</td>\n",
       "      <td>1465.0</td>\n",
       "      <td>1243.0</td>\n",
       "      <td>2376.0</td>\n",
       "      <td>2962.0</td>\n",
       "    </tr>\n",
       "    <tr>\n",
       "      <th>fips</th>\n",
       "      <td>6059.0</td>\n",
       "      <td>6111.0</td>\n",
       "      <td>6059.0</td>\n",
       "      <td>6037.0</td>\n",
       "      <td>6037.0</td>\n",
       "    </tr>\n",
       "    <tr>\n",
       "      <th>yearbuilt</th>\n",
       "      <td>1998.0</td>\n",
       "      <td>1967.0</td>\n",
       "      <td>1962.0</td>\n",
       "      <td>1970.0</td>\n",
       "      <td>1950.0</td>\n",
       "    </tr>\n",
       "    <tr>\n",
       "      <th>taxvaluedollarcnt</th>\n",
       "      <td>1023282.0</td>\n",
       "      <td>464000.0</td>\n",
       "      <td>564778.0</td>\n",
       "      <td>145143.0</td>\n",
       "      <td>773303.0</td>\n",
       "    </tr>\n",
       "  </tbody>\n",
       "</table>\n",
       "</div>"
      ],
      "text/plain": [
       "                                      0         1         2         3  \\\n",
       "bathroomcnt                         3.5       1.0       2.0       3.0   \n",
       "bedroomcnt                          4.0       2.0       3.0       4.0   \n",
       "calculatedfinishedsquarefeet     3100.0    1465.0    1243.0    2376.0   \n",
       "fips                             6059.0    6111.0    6059.0    6037.0   \n",
       "yearbuilt                        1998.0    1967.0    1962.0    1970.0   \n",
       "taxvaluedollarcnt             1023282.0  464000.0  564778.0  145143.0   \n",
       "\n",
       "                                     4  \n",
       "bathroomcnt                        3.0  \n",
       "bedroomcnt                         4.0  \n",
       "calculatedfinishedsquarefeet    2962.0  \n",
       "fips                            6037.0  \n",
       "yearbuilt                       1950.0  \n",
       "taxvaluedollarcnt             773303.0  "
      ]
     },
     "execution_count": 2,
     "metadata": {},
     "output_type": "execute_result"
    }
   ],
   "source": [
    "df=acquire.zillow_data()\n",
    "df.head(5).T"
   ]
  },
  {
   "cell_type": "code",
   "execution_count": 3,
   "id": "5fa8ef66",
   "metadata": {},
   "outputs": [
    {
     "data": {
      "text/plain": [
       "Index(['bathroomcnt', 'bedroomcnt', 'calculatedfinishedsquarefeet', 'fips',\n",
       "       'yearbuilt', 'taxvaluedollarcnt'],\n",
       "      dtype='object')"
      ]
     },
     "execution_count": 3,
     "metadata": {},
     "output_type": "execute_result"
    }
   ],
   "source": [
    "df.columns"
   ]
  },
  {
   "cell_type": "markdown",
   "id": "4435fd71",
   "metadata": {},
   "source": [
    "From the scope of what is wanted I have adjusted my SQL query to recieve 52442 rows. So now that we have the information then what? Now we dropp what we do not need. Since there are many differing features to choose from it would be easier to finds what has the most impact. I am going to choose:\n",
    "- bedroomcnt\n",
    "- bathroomcnt\n",
    "- calculatedfinishedsquarefeet\n",
    "- taxvaluedollarcnt\n",
    "- yearbuilt\n",
    "- fips\n",
    ">The rest can be dropped off for further investigation for the time being these are enough leads to get me going"
   ]
  },
  {
   "cell_type": "markdown",
   "id": "a5888554",
   "metadata": {},
   "source": [
    "# Prepare"
   ]
  },
  {
   "cell_type": "code",
   "execution_count": 4,
   "id": "404a3206",
   "metadata": {},
   "outputs": [],
   "source": [
    "# df = df.drop(columns=[\"parcelid\",\n",
    "#                  \"id\",\n",
    "#                  \"airconditioningtypeid\",\n",
    "#                  \"architecturalstyletypeid\",\n",
    "#                  \"basementsqft\",\n",
    "#                 \"buildingclasstypeid\",\n",
    "#                 \"buildingqualitytypeid\",\n",
    "#                 \"calculatedbathnbr\",\n",
    "#                 \"decktypeid\",\n",
    "#                 \"finishedfloor1squarefeet\",\n",
    "#                 'finishedsquarefeet12', \n",
    "#                  'finishedsquarefeet13', \n",
    "#                  'finishedsquarefeet15',\n",
    "#                'finishedsquarefeet50', \n",
    "#                  'finishedsquarefeet6', \n",
    "#                   'fireplacecnt',\n",
    "#                    'fullbathcnt', \n",
    "#                  'garagecarcnt',\n",
    "#                  'garagetotalsqft',\n",
    "#                  'hashottuborspa',\n",
    "#                    'heatingorsystemtypeid', \n",
    "#                  'latitude', \n",
    "#                  'longitude', \n",
    "#                  'lotsizesquarefeet',\n",
    "#                    'poolcnt', \n",
    "#                  'poolsizesum', \n",
    "#                  'pooltypeid10', \n",
    "#                  'pooltypeid2', \n",
    "#                  'pooltypeid7',\n",
    "#                    'propertycountylandusecode',\n",
    "#                  'propertylandusetypeid',\n",
    "#                    'propertyzoningdesc',\n",
    "#                  'rawcensustractandblock',\n",
    "#                  'regionidcity',\n",
    "#                    'regionidcounty', \n",
    "#                  'regionidneighborhood',\n",
    "#                  'regionidzip',\n",
    "#                  'roomcnt',\n",
    "#                    'storytypeid', \n",
    "#                  'threequarterbathnbr',\n",
    "#                  'typeconstructiontypeid',\n",
    "#                    'unitcnt', \n",
    "#                  'yardbuildingsqft17',\n",
    "#                  'yardbuildingsqft26',\n",
    "#                    'numberofstories', \n",
    "#                  'fireplaceflag',\n",
    "#                  'structuretaxvaluedollarcnt',\n",
    "#                  'assessmentyear', \n",
    "#                  'landtaxvaluedollarcnt',\n",
    "#                    'taxamount', \n",
    "#                  'taxdelinquencyflag', \n",
    "#                  'taxdelinquencyyear',\n",
    "#                    'censustractandblock', \n",
    "#                  'id', \n",
    "#                  'logerror', \n",
    "#                  'transactiondate'])"
   ]
  },
  {
   "cell_type": "code",
   "execution_count": 5,
   "id": "f9f8864f",
   "metadata": {},
   "outputs": [
    {
     "data": {
      "text/html": [
       "<div>\n",
       "<style scoped>\n",
       "    .dataframe tbody tr th:only-of-type {\n",
       "        vertical-align: middle;\n",
       "    }\n",
       "\n",
       "    .dataframe tbody tr th {\n",
       "        vertical-align: top;\n",
       "    }\n",
       "\n",
       "    .dataframe thead th {\n",
       "        text-align: right;\n",
       "    }\n",
       "</style>\n",
       "<table border=\"1\" class=\"dataframe\">\n",
       "  <thead>\n",
       "    <tr style=\"text-align: right;\">\n",
       "      <th></th>\n",
       "      <th>bathroomcnt</th>\n",
       "      <th>bedroomcnt</th>\n",
       "      <th>calculatedfinishedsquarefeet</th>\n",
       "      <th>fips</th>\n",
       "      <th>yearbuilt</th>\n",
       "      <th>taxvaluedollarcnt</th>\n",
       "    </tr>\n",
       "  </thead>\n",
       "  <tbody>\n",
       "    <tr>\n",
       "      <th>0</th>\n",
       "      <td>3.5</td>\n",
       "      <td>4.0</td>\n",
       "      <td>3100.0</td>\n",
       "      <td>6059.0</td>\n",
       "      <td>1998.0</td>\n",
       "      <td>1023282.0</td>\n",
       "    </tr>\n",
       "    <tr>\n",
       "      <th>1</th>\n",
       "      <td>1.0</td>\n",
       "      <td>2.0</td>\n",
       "      <td>1465.0</td>\n",
       "      <td>6111.0</td>\n",
       "      <td>1967.0</td>\n",
       "      <td>464000.0</td>\n",
       "    </tr>\n",
       "    <tr>\n",
       "      <th>2</th>\n",
       "      <td>2.0</td>\n",
       "      <td>3.0</td>\n",
       "      <td>1243.0</td>\n",
       "      <td>6059.0</td>\n",
       "      <td>1962.0</td>\n",
       "      <td>564778.0</td>\n",
       "    </tr>\n",
       "    <tr>\n",
       "      <th>3</th>\n",
       "      <td>3.0</td>\n",
       "      <td>4.0</td>\n",
       "      <td>2376.0</td>\n",
       "      <td>6037.0</td>\n",
       "      <td>1970.0</td>\n",
       "      <td>145143.0</td>\n",
       "    </tr>\n",
       "    <tr>\n",
       "      <th>4</th>\n",
       "      <td>3.0</td>\n",
       "      <td>4.0</td>\n",
       "      <td>2962.0</td>\n",
       "      <td>6037.0</td>\n",
       "      <td>1950.0</td>\n",
       "      <td>773303.0</td>\n",
       "    </tr>\n",
       "  </tbody>\n",
       "</table>\n",
       "</div>"
      ],
      "text/plain": [
       "   bathroomcnt  bedroomcnt  calculatedfinishedsquarefeet    fips  yearbuilt  \\\n",
       "0          3.5         4.0                        3100.0  6059.0     1998.0   \n",
       "1          1.0         2.0                        1465.0  6111.0     1967.0   \n",
       "2          2.0         3.0                        1243.0  6059.0     1962.0   \n",
       "3          3.0         4.0                        2376.0  6037.0     1970.0   \n",
       "4          3.0         4.0                        2962.0  6037.0     1950.0   \n",
       "\n",
       "   taxvaluedollarcnt  \n",
       "0          1023282.0  \n",
       "1           464000.0  \n",
       "2           564778.0  \n",
       "3           145143.0  \n",
       "4           773303.0  "
      ]
     },
     "execution_count": 5,
     "metadata": {},
     "output_type": "execute_result"
    }
   ],
   "source": [
    "df.head(5)"
   ]
  },
  {
   "cell_type": "code",
   "execution_count": 6,
   "id": "f3ee11e5",
   "metadata": {},
   "outputs": [
    {
     "data": {
      "text/plain": [
       "bathroomcnt                     0\n",
       "bedroomcnt                      0\n",
       "calculatedfinishedsquarefeet    0\n",
       "fips                            0\n",
       "yearbuilt                       0\n",
       "taxvaluedollarcnt               0\n",
       "dtype: int64"
      ]
     },
     "execution_count": 6,
     "metadata": {},
     "output_type": "execute_result"
    }
   ],
   "source": [
    "df.isnull().sum()"
   ]
  },
  {
   "cell_type": "markdown",
   "id": "4686dacc",
   "metadata": {},
   "source": [
    "There are a decent amount \n",
    "OR I can kick it under the fridge like an ice cube\n",
    "\n",
    "If not will impute with median year built"
   ]
  },
  {
   "cell_type": "markdown",
   "id": "21c44101",
   "metadata": {},
   "source": [
    "# Prepare"
   ]
  },
  {
   "cell_type": "markdown",
   "id": "906d7190",
   "metadata": {},
   "source": [
    "What next? the information has already been train"
   ]
  },
  {
   "cell_type": "code",
   "execution_count": 7,
   "id": "0a780065",
   "metadata": {},
   "outputs": [
    {
     "data": {
      "text/html": [
       "<div>\n",
       "<style scoped>\n",
       "    .dataframe tbody tr th:only-of-type {\n",
       "        vertical-align: middle;\n",
       "    }\n",
       "\n",
       "    .dataframe tbody tr th {\n",
       "        vertical-align: top;\n",
       "    }\n",
       "\n",
       "    .dataframe thead th {\n",
       "        text-align: right;\n",
       "    }\n",
       "</style>\n",
       "<table border=\"1\" class=\"dataframe\">\n",
       "  <thead>\n",
       "    <tr style=\"text-align: right;\">\n",
       "      <th></th>\n",
       "      <th>bathroomcnt</th>\n",
       "      <th>bedroomcnt</th>\n",
       "      <th>calculatedfinishedsquarefeet</th>\n",
       "      <th>fips</th>\n",
       "      <th>yearbuilt</th>\n",
       "      <th>taxvaluedollarcnt</th>\n",
       "    </tr>\n",
       "  </thead>\n",
       "  <tbody>\n",
       "    <tr>\n",
       "      <th>0</th>\n",
       "      <td>3.5</td>\n",
       "      <td>4.0</td>\n",
       "      <td>3100.0</td>\n",
       "      <td>6059.0</td>\n",
       "      <td>1998.0</td>\n",
       "      <td>1023282.0</td>\n",
       "    </tr>\n",
       "    <tr>\n",
       "      <th>1</th>\n",
       "      <td>1.0</td>\n",
       "      <td>2.0</td>\n",
       "      <td>1465.0</td>\n",
       "      <td>6111.0</td>\n",
       "      <td>1967.0</td>\n",
       "      <td>464000.0</td>\n",
       "    </tr>\n",
       "    <tr>\n",
       "      <th>2</th>\n",
       "      <td>2.0</td>\n",
       "      <td>3.0</td>\n",
       "      <td>1243.0</td>\n",
       "      <td>6059.0</td>\n",
       "      <td>1962.0</td>\n",
       "      <td>564778.0</td>\n",
       "    </tr>\n",
       "    <tr>\n",
       "      <th>3</th>\n",
       "      <td>3.0</td>\n",
       "      <td>4.0</td>\n",
       "      <td>2376.0</td>\n",
       "      <td>6037.0</td>\n",
       "      <td>1970.0</td>\n",
       "      <td>145143.0</td>\n",
       "    </tr>\n",
       "    <tr>\n",
       "      <th>4</th>\n",
       "      <td>3.0</td>\n",
       "      <td>4.0</td>\n",
       "      <td>2962.0</td>\n",
       "      <td>6037.0</td>\n",
       "      <td>1950.0</td>\n",
       "      <td>773303.0</td>\n",
       "    </tr>\n",
       "  </tbody>\n",
       "</table>\n",
       "</div>"
      ],
      "text/plain": [
       "   bathroomcnt  bedroomcnt  calculatedfinishedsquarefeet    fips  yearbuilt  \\\n",
       "0          3.5         4.0                        3100.0  6059.0     1998.0   \n",
       "1          1.0         2.0                        1465.0  6111.0     1967.0   \n",
       "2          2.0         3.0                        1243.0  6059.0     1962.0   \n",
       "3          3.0         4.0                        2376.0  6037.0     1970.0   \n",
       "4          3.0         4.0                        2962.0  6037.0     1950.0   \n",
       "\n",
       "   taxvaluedollarcnt  \n",
       "0          1023282.0  \n",
       "1           464000.0  \n",
       "2           564778.0  \n",
       "3           145143.0  \n",
       "4           773303.0  "
      ]
     },
     "execution_count": 7,
     "metadata": {},
     "output_type": "execute_result"
    }
   ],
   "source": [
    "df = prepare.wrangled_zillow(df)\n",
    "df.head(5)"
   ]
  },
  {
   "cell_type": "code",
   "execution_count": 8,
   "id": "5debf4ad",
   "metadata": {},
   "outputs": [
    {
     "name": "stdout",
     "output_type": "stream",
     "text": [
      "<class 'pandas.core.frame.DataFrame'>\n",
      "Int64Index: 50724 entries, 0 to 50723\n",
      "Data columns (total 6 columns):\n",
      " #   Column                        Non-Null Count  Dtype  \n",
      "---  ------                        --------------  -----  \n",
      " 0   bathroomcnt                   50724 non-null  float64\n",
      " 1   bedroomcnt                    50724 non-null  float64\n",
      " 2   calculatedfinishedsquarefeet  50724 non-null  float64\n",
      " 3   fips                          50724 non-null  float64\n",
      " 4   yearbuilt                     50724 non-null  float64\n",
      " 5   taxvaluedollarcnt             50724 non-null  float64\n",
      "dtypes: float64(6)\n",
      "memory usage: 2.7 MB\n"
     ]
    }
   ],
   "source": [
    "df.info()"
   ]
  },
  {
   "cell_type": "code",
   "execution_count": 9,
   "id": "bc00d9d7",
   "metadata": {},
   "outputs": [
    {
     "data": {
      "text/html": [
       "<div>\n",
       "<style scoped>\n",
       "    .dataframe tbody tr th:only-of-type {\n",
       "        vertical-align: middle;\n",
       "    }\n",
       "\n",
       "    .dataframe tbody tr th {\n",
       "        vertical-align: top;\n",
       "    }\n",
       "\n",
       "    .dataframe thead th {\n",
       "        text-align: right;\n",
       "    }\n",
       "</style>\n",
       "<table border=\"1\" class=\"dataframe\">\n",
       "  <thead>\n",
       "    <tr style=\"text-align: right;\">\n",
       "      <th></th>\n",
       "      <th>count</th>\n",
       "      <th>mean</th>\n",
       "      <th>std</th>\n",
       "      <th>min</th>\n",
       "      <th>25%</th>\n",
       "      <th>50%</th>\n",
       "      <th>75%</th>\n",
       "      <th>max</th>\n",
       "    </tr>\n",
       "  </thead>\n",
       "  <tbody>\n",
       "    <tr>\n",
       "      <th>bathroomcnt</th>\n",
       "      <td>50724.0</td>\n",
       "      <td>2.234051</td>\n",
       "      <td>0.897408</td>\n",
       "      <td>1.0</td>\n",
       "      <td>2.0</td>\n",
       "      <td>2.0</td>\n",
       "      <td>3.0</td>\n",
       "      <td>6.0</td>\n",
       "    </tr>\n",
       "    <tr>\n",
       "      <th>bedroomcnt</th>\n",
       "      <td>50724.0</td>\n",
       "      <td>3.272987</td>\n",
       "      <td>0.889970</td>\n",
       "      <td>1.0</td>\n",
       "      <td>3.0</td>\n",
       "      <td>3.0</td>\n",
       "      <td>4.0</td>\n",
       "      <td>6.0</td>\n",
       "    </tr>\n",
       "    <tr>\n",
       "      <th>calculatedfinishedsquarefeet</th>\n",
       "      <td>50724.0</td>\n",
       "      <td>1844.269103</td>\n",
       "      <td>824.676285</td>\n",
       "      <td>152.0</td>\n",
       "      <td>1258.0</td>\n",
       "      <td>1635.0</td>\n",
       "      <td>2238.0</td>\n",
       "      <td>8615.0</td>\n",
       "    </tr>\n",
       "    <tr>\n",
       "      <th>fips</th>\n",
       "      <td>50724.0</td>\n",
       "      <td>6049.176800</td>\n",
       "      <td>21.093083</td>\n",
       "      <td>6037.0</td>\n",
       "      <td>6037.0</td>\n",
       "      <td>6037.0</td>\n",
       "      <td>6059.0</td>\n",
       "      <td>6111.0</td>\n",
       "    </tr>\n",
       "    <tr>\n",
       "      <th>yearbuilt</th>\n",
       "      <td>50724.0</td>\n",
       "      <td>1963.087020</td>\n",
       "      <td>22.824787</td>\n",
       "      <td>1878.0</td>\n",
       "      <td>1950.0</td>\n",
       "      <td>1960.0</td>\n",
       "      <td>1978.0</td>\n",
       "      <td>2016.0</td>\n",
       "    </tr>\n",
       "    <tr>\n",
       "      <th>taxvaluedollarcnt</th>\n",
       "      <td>50724.0</td>\n",
       "      <td>444192.690955</td>\n",
       "      <td>353853.540931</td>\n",
       "      <td>1000.0</td>\n",
       "      <td>188567.0</td>\n",
       "      <td>363754.5</td>\n",
       "      <td>588816.5</td>\n",
       "      <td>1997251.0</td>\n",
       "    </tr>\n",
       "  </tbody>\n",
       "</table>\n",
       "</div>"
      ],
      "text/plain": [
       "                                count           mean            std     min  \\\n",
       "bathroomcnt                   50724.0       2.234051       0.897408     1.0   \n",
       "bedroomcnt                    50724.0       3.272987       0.889970     1.0   \n",
       "calculatedfinishedsquarefeet  50724.0    1844.269103     824.676285   152.0   \n",
       "fips                          50724.0    6049.176800      21.093083  6037.0   \n",
       "yearbuilt                     50724.0    1963.087020      22.824787  1878.0   \n",
       "taxvaluedollarcnt             50724.0  444192.690955  353853.540931  1000.0   \n",
       "\n",
       "                                   25%       50%       75%        max  \n",
       "bathroomcnt                        2.0       2.0       3.0        6.0  \n",
       "bedroomcnt                         3.0       3.0       4.0        6.0  \n",
       "calculatedfinishedsquarefeet    1258.0    1635.0    2238.0     8615.0  \n",
       "fips                            6037.0    6037.0    6059.0     6111.0  \n",
       "yearbuilt                       1950.0    1960.0    1978.0     2016.0  \n",
       "taxvaluedollarcnt             188567.0  363754.5  588816.5  1997251.0  "
      ]
     },
     "execution_count": 9,
     "metadata": {},
     "output_type": "execute_result"
    }
   ],
   "source": [
    "df.describe().T"
   ]
  },
  {
   "cell_type": "markdown",
   "id": "c45cb89a",
   "metadata": {},
   "source": [
    "## Explore\n",
    "### we explore off of trian data set"
   ]
  },
  {
   "cell_type": "markdown",
   "id": "502dcb0f",
   "metadata": {},
   "source": [
    "#### Graphing"
   ]
  },
  {
   "cell_type": "code",
   "execution_count": 10,
   "id": "632ffa65",
   "metadata": {},
   "outputs": [
    {
     "data": {
      "image/png": "[encoded data removed]",
      "text/plain": [
       "<Figure size 360x360 with 1 Axes>"
      ]
     },
     "metadata": {
      "needs_background": "light"
     },
     "output_type": "display_data"
    }
   ],
   "source": [
    "sns.relplot(x=\"bedroomcnt\", y=\"taxvaluedollarcnt\", data=df)\n",
    "plt.show()\n",
    "#wow i made A graph :D"
   ]
  },
  {
   "cell_type": "code",
   "execution_count": 11,
   "id": "c573e193",
   "metadata": {},
   "outputs": [
    {
     "data": {
      "image/png": "[encoded data removed]",
      "text/plain": [
       "<Figure size 360x360 with 1 Axes>"
      ]
     },
     "metadata": {
      "needs_background": "light"
     },
     "output_type": "display_data"
    }
   ],
   "source": [
    "sns.relplot(x=\"bathroomcnt\", y=\"taxvaluedollarcnt\", data=df)\n",
    "plt.show()"
   ]
  },
  {
   "cell_type": "code",
   "execution_count": 12,
   "id": "58164397",
   "metadata": {},
   "outputs": [
    {
     "data": {
      "image/png": "[encoded data removed]",
      "text/plain": [
       "<Figure size 360x360 with 1 Axes>"
      ]
     },
     "metadata": {
      "needs_background": "light"
     },
     "output_type": "display_data"
    }
   ],
   "source": [
    "sns.relplot(x=\"calculatedfinishedsquarefeet\", y=\"taxvaluedollarcnt\", data=df)\n",
    "plt.show()"
   ]
  },
  {
   "cell_type": "code",
   "execution_count": 13,
   "id": "e1ea341c",
   "metadata": {},
   "outputs": [
    {
     "data": {
      "image/png": "[encoded data removed]",
      "text/plain": [
       "<Figure size 360x360 with 1 Axes>"
      ]
     },
     "metadata": {
      "needs_background": "light"
     },
     "output_type": "display_data"
    }
   ],
   "source": [
    "sns.relplot(x=\"fips\", y=\"taxvaluedollarcnt\", data=df)\n",
    "plt.show()"
   ]
  },
  {
   "cell_type": "code",
   "execution_count": 14,
   "id": "294c0dd3",
   "metadata": {},
   "outputs": [
    {
     "data": {
      "image/png": "[encoded data removed]",
      "text/plain": [
       "<Figure size 360x360 with 1 Axes>"
      ]
     },
     "metadata": {
      "needs_background": "light"
     },
     "output_type": "display_data"
    }
   ],
   "source": [
    "sns.relplot(x=\"yearbuilt\", y=\"taxvaluedollarcnt\", data=df)\n",
    "plt.show()"
   ]
  },
  {
   "cell_type": "markdown",
   "id": "1513c827",
   "metadata": {},
   "source": [
    "<b>\n",
    "    Current takeaway being that \"calculatedfinishedsquarefeet\" has the most signal\n",
    "</b>"
   ]
  },
  {
   "cell_type": "markdown",
   "id": "136c94c1",
   "metadata": {},
   "source": [
    "<hr>"
   ]
  },
  {
   "cell_type": "markdown",
   "id": "c168cf04",
   "metadata": {},
   "source": [
    "<p><b>Hypothesis:</b>\n",
    "That the number of bedrooms has a positive relationship to the house price</p>"
   ]
  },
  {
   "cell_type": "code",
   "execution_count": 15,
   "id": "64e5d616",
   "metadata": {},
   "outputs": [
    {
     "data": {
      "image/png": "[encoded data removed]",
      "text/plain": [
       "<Figure size 360x360 with 1 Axes>"
      ]
     },
     "metadata": {
      "needs_background": "light"
     },
     "output_type": "display_data"
    }
   ],
   "source": [
    "sns.lmplot(x=\"bedroomcnt\", y=\"taxvaluedollarcnt\", data=df, line_kws={'color': 'red'})\n",
    "plt.show()"
   ]
  },
  {
   "cell_type": "markdown",
   "id": "ca0ba916",
   "metadata": {},
   "source": [
    "Roughly a small linear relationship between bedroom count and \"price\""
   ]
  },
  {
   "cell_type": "code",
   "execution_count": 16,
   "id": "881a74f6",
   "metadata": {},
   "outputs": [
    {
     "data": {
      "text/html": [
       "<div>\n",
       "<style scoped>\n",
       "    .dataframe tbody tr th:only-of-type {\n",
       "        vertical-align: middle;\n",
       "    }\n",
       "\n",
       "    .dataframe tbody tr th {\n",
       "        vertical-align: top;\n",
       "    }\n",
       "\n",
       "    .dataframe thead th {\n",
       "        text-align: right;\n",
       "    }\n",
       "</style>\n",
       "<table border=\"1\" class=\"dataframe\">\n",
       "  <thead>\n",
       "    <tr style=\"text-align: right;\">\n",
       "      <th></th>\n",
       "      <th>bathroomcnt</th>\n",
       "      <th>bedroomcnt</th>\n",
       "      <th>calculatedfinishedsquarefeet</th>\n",
       "      <th>fips</th>\n",
       "      <th>yearbuilt</th>\n",
       "      <th>taxvaluedollarcnt</th>\n",
       "    </tr>\n",
       "  </thead>\n",
       "  <tbody>\n",
       "    <tr>\n",
       "      <th>0</th>\n",
       "      <td>3.5</td>\n",
       "      <td>4.0</td>\n",
       "      <td>3100.0</td>\n",
       "      <td>6059.0</td>\n",
       "      <td>1998.0</td>\n",
       "      <td>1023282.0</td>\n",
       "    </tr>\n",
       "    <tr>\n",
       "      <th>1</th>\n",
       "      <td>1.0</td>\n",
       "      <td>2.0</td>\n",
       "      <td>1465.0</td>\n",
       "      <td>6111.0</td>\n",
       "      <td>1967.0</td>\n",
       "      <td>464000.0</td>\n",
       "    </tr>\n",
       "    <tr>\n",
       "      <th>2</th>\n",
       "      <td>2.0</td>\n",
       "      <td>3.0</td>\n",
       "      <td>1243.0</td>\n",
       "      <td>6059.0</td>\n",
       "      <td>1962.0</td>\n",
       "      <td>564778.0</td>\n",
       "    </tr>\n",
       "    <tr>\n",
       "      <th>3</th>\n",
       "      <td>3.0</td>\n",
       "      <td>4.0</td>\n",
       "      <td>2376.0</td>\n",
       "      <td>6037.0</td>\n",
       "      <td>1970.0</td>\n",
       "      <td>145143.0</td>\n",
       "    </tr>\n",
       "    <tr>\n",
       "      <th>4</th>\n",
       "      <td>3.0</td>\n",
       "      <td>4.0</td>\n",
       "      <td>2962.0</td>\n",
       "      <td>6037.0</td>\n",
       "      <td>1950.0</td>\n",
       "      <td>773303.0</td>\n",
       "    </tr>\n",
       "  </tbody>\n",
       "</table>\n",
       "</div>"
      ],
      "text/plain": [
       "   bathroomcnt  bedroomcnt  calculatedfinishedsquarefeet    fips  yearbuilt  \\\n",
       "0          3.5         4.0                        3100.0  6059.0     1998.0   \n",
       "1          1.0         2.0                        1465.0  6111.0     1967.0   \n",
       "2          2.0         3.0                        1243.0  6059.0     1962.0   \n",
       "3          3.0         4.0                        2376.0  6037.0     1970.0   \n",
       "4          3.0         4.0                        2962.0  6037.0     1950.0   \n",
       "\n",
       "   taxvaluedollarcnt  \n",
       "0          1023282.0  \n",
       "1           464000.0  \n",
       "2           564778.0  \n",
       "3           145143.0  \n",
       "4           773303.0  "
      ]
     },
     "execution_count": 16,
     "metadata": {},
     "output_type": "execute_result"
    }
   ],
   "source": [
    "df.head()"
   ]
  },
  {
   "cell_type": "markdown",
   "id": "11fb3f48",
   "metadata": {},
   "source": [
    "<p><b>Hypothesis:</b>\n",
    "The amount of bathrooms has a positive relationship to the house price</p>"
   ]
  },
  {
   "cell_type": "code",
   "execution_count": 17,
   "id": "17d26cc7",
   "metadata": {},
   "outputs": [
    {
     "data": {
      "image/png": "[encoded data removed]",
      "text/plain": [
       "<Figure size 360x360 with 1 Axes>"
      ]
     },
     "metadata": {
      "needs_background": "light"
     },
     "output_type": "display_data"
    }
   ],
   "source": [
    "sns.lmplot(x=\"bathroomcnt\", y=\"taxvaluedollarcnt\", data=df, line_kws={'color': 'red'})\n",
    "plt.show()\n",
    "#steeper slope here can imply higher causality towards \"price\""
   ]
  },
  {
   "cell_type": "markdown",
   "id": "73f52a8f",
   "metadata": {},
   "source": [
    "<p><b>Hypothesis:</b>\n",
    "The calculatedfinishedsquarefeet has a positive relationship to the house price</p>"
   ]
  },
  {
   "cell_type": "code",
   "execution_count": 18,
   "id": "978b3470",
   "metadata": {},
   "outputs": [
    {
     "data": {
      "image/png": "[encoded data removed]",
      "text/plain": [
       "<Figure size 360x360 with 1 Axes>"
      ]
     },
     "metadata": {
      "needs_background": "light"
     },
     "output_type": "display_data"
    }
   ],
   "source": [
    "sns.lmplot(x=\"calculatedfinishedsquarefeet\", y=\"taxvaluedollarcnt\", data=df, line_kws={'color': 'red'})\n",
    "plt.show()\n",
    "#most 45 degree ish line so far\n",
    "#tell about relationship as well as hypotheses and stats test with correlation test"
   ]
  },
  {
   "cell_type": "markdown",
   "id": "b5d5ab5c",
   "metadata": {},
   "source": [
    "<p><b>Hypothesis:</b>\n",
    "The county code has a positive relationship to the house price</p>"
   ]
  },
  {
   "cell_type": "code",
   "execution_count": 19,
   "id": "754618d6",
   "metadata": {},
   "outputs": [
    {
     "data": {
      "image/png": "[encoded data removed]",
      "text/plain": [
       "<Figure size 432x288 with 1 Axes>"
      ]
     },
     "metadata": {
      "needs_background": "light"
     },
     "output_type": "display_data"
    }
   ],
   "source": [
    "#For this one we have swapped from lmplot to a bar plot because it yeilds cleaner answers\n",
    "sns.barplot(x=\"fips\", y=\"taxvaluedollarcnt\", data=df)\n",
    "plt.show()\n",
    "#we explore off of train\n",
    "#really hammer home"
   ]
  },
  {
   "cell_type": "markdown",
   "id": "027dcb21",
   "metadata": {},
   "source": [
    "The relationship present here implies that the county of 6059 has a higher on average cost"
   ]
  },
  {
   "cell_type": "markdown",
   "id": "4580ccc4",
   "metadata": {},
   "source": [
    "<p><b>Hypothesis:</b>\n",
    "The year built has a positive relationship to the house price</p>"
   ]
  },
  {
   "cell_type": "code",
   "execution_count": 20,
   "id": "32d714ae",
   "metadata": {},
   "outputs": [
    {
     "data": {
      "image/png": "[encoded data removed]",
      "text/plain": [
       "<Figure size 360x360 with 1 Axes>"
      ]
     },
     "metadata": {
      "needs_background": "light"
     },
     "output_type": "display_data"
    }
   ],
   "source": [
    "sns.lmplot(x=\"yearbuilt\", y=\"taxvaluedollarcnt\", data=df, line_kws={'color': 'red'})\n",
    "plt.show()\n",
    "#this takeaway shows us that year  may not be the most poperful prediction\n",
    "#the realtionship between "
   ]
  },
  {
   "cell_type": "markdown",
   "id": "5dd9f82e",
   "metadata": {},
   "source": [
    "Takeaways:\n",
    "- calculated square feet is so far the lead in realtionship to \"price"
   ]
  },
  {
   "cell_type": "markdown",
   "id": "67d4d002",
   "metadata": {},
   "source": [
    "<hr>"
   ]
  },
  {
   "cell_type": "markdown",
   "id": "89157c38",
   "metadata": {},
   "source": [
    "# Train, Test, Validate"
   ]
  },
  {
   "cell_type": "markdown",
   "id": "c3b9107e",
   "metadata": {},
   "source": [
    "From here we can scale, which will be needed in this format to model"
   ]
  },
  {
   "cell_type": "code",
   "execution_count": 21,
   "id": "2ca9e84e",
   "metadata": {},
   "outputs": [],
   "source": [
    "def traintestsplit(df):\n",
    "    #this function gives us train validate test variabels to model with\n",
    "    train_validate, test = train_test_split(df, test_size=.2, random_state=123, stratify=df.fips)\n",
    "    #80% of value\n",
    "    #I choose to stratify here to get an even mix of counties to not miss trends and clearly see if the taxvaluedollarcount is in fact evenly set on  counties\n",
    "    #TL:DR keeping counties even in sample\n",
    "    train, validate = train_test_split(train_validate, test_size=.3, random_state=123, stratify=train_validate.fips)\n",
    "    # 30% of 80% for validate and test\n",
    "    return train, validate, test"
   ]
  },
  {
   "cell_type": "code",
   "execution_count": 22,
   "id": "6f6f5cf3",
   "metadata": {},
   "outputs": [
    {
     "data": {
      "text/plain": [
       "(       bathroomcnt  bedroomcnt  calculatedfinishedsquarefeet    fips  \\\n",
       " 26274          2.0         4.0                        1770.0  6059.0   \n",
       " 32524          1.0         2.0                        1326.0  6037.0   \n",
       " 19029          2.0         3.0                        2540.0  6037.0   \n",
       " 39945          3.0         3.0                        2222.0  6037.0   \n",
       " 24739          2.0         3.0                        1605.0  6037.0   \n",
       " ...            ...         ...                           ...     ...   \n",
       " 41307          2.5         4.0                        2489.0  6059.0   \n",
       " 14084          1.0         3.0                        1224.0  6037.0   \n",
       " 20947          3.0         5.0                        2447.0  6037.0   \n",
       " 4859           3.0         3.0                        1463.0  6037.0   \n",
       " 31937          2.5         4.0                        2479.0  6059.0   \n",
       " \n",
       "        yearbuilt  taxvaluedollarcnt  \n",
       " 26274     1962.0           435025.0  \n",
       " 32524     1951.0           292396.0  \n",
       " 19029     1924.0           177234.0  \n",
       " 39945     1949.0           254176.0  \n",
       " 24739     1950.0           293620.0  \n",
       " ...          ...                ...  \n",
       " 41307     1965.0           107810.0  \n",
       " 14084     1946.0           202149.0  \n",
       " 20947     1970.0           323707.0  \n",
       " 4859      1988.0           327843.0  \n",
       " 31937     1990.0           616993.0  \n",
       " \n",
       " [28405 rows x 6 columns],\n",
       "        bathroomcnt  bedroomcnt  calculatedfinishedsquarefeet    fips  \\\n",
       " 39322          2.0         4.0                        1585.0  6059.0   \n",
       " 22723          2.0         4.0                        2556.0  6037.0   \n",
       " 279            2.0         4.0                        1815.0  6037.0   \n",
       " 15798          2.0         3.0                        1565.0  6037.0   \n",
       " 37822          3.0         4.0                        3326.0  6059.0   \n",
       " ...            ...         ...                           ...     ...   \n",
       " 7226           2.0         3.0                        1192.0  6037.0   \n",
       " 11857          2.5         4.0                        1471.0  6059.0   \n",
       " 40447          1.0         2.0                         776.0  6037.0   \n",
       " 29314          3.0         5.0                        3130.0  6111.0   \n",
       " 28236          2.0         3.0                        2021.0  6037.0   \n",
       " \n",
       "        yearbuilt  taxvaluedollarcnt  \n",
       " 39322     1955.0           246281.0  \n",
       " 22723     2014.0           282699.0  \n",
       " 279       1955.0           280235.0  \n",
       " 15798     2002.0           214000.0  \n",
       " 37822     1993.0           753520.0  \n",
       " ...          ...                ...  \n",
       " 7226      1954.0            67428.0  \n",
       " 11857     1954.0            53236.0  \n",
       " 40447     1959.0           165413.0  \n",
       " 29314     1978.0           724324.0  \n",
       " 28236     1961.0            99360.0  \n",
       " \n",
       " [12174 rows x 6 columns],\n",
       "        bathroomcnt  bedroomcnt  calculatedfinishedsquarefeet    fips  \\\n",
       " 3967           3.0         4.0                        2230.0  6037.0   \n",
       " 32361          1.0         3.0                         935.0  6037.0   \n",
       " 14938          3.0         4.0                        2672.0  6059.0   \n",
       " 9557           2.0         4.0                        1920.0  6037.0   \n",
       " 6691           1.0         3.0                         936.0  6037.0   \n",
       " ...            ...         ...                           ...     ...   \n",
       " 45971          2.0         3.0                        1261.0  6037.0   \n",
       " 23684          3.0         5.0                        1552.0  6037.0   \n",
       " 25367          3.0         2.0                        2310.0  6037.0   \n",
       " 43771          1.0         2.0                        1012.0  6037.0   \n",
       " 38763          1.0         3.0                        1030.0  6037.0   \n",
       " \n",
       "        yearbuilt  taxvaluedollarcnt  \n",
       " 3967      1989.0           411828.0  \n",
       " 32361     1905.0            16722.0  \n",
       " 14938     1958.0           233022.0  \n",
       " 9557      1944.0           865466.0  \n",
       " 6691      1924.0           465988.0  \n",
       " ...          ...                ...  \n",
       " 45971     1952.0            91700.0  \n",
       " 23684     1954.0           421585.0  \n",
       " 25367     1958.0          1034780.0  \n",
       " 43771     1949.0           479587.0  \n",
       " 38763     1953.0           201136.0  \n",
       " \n",
       " [10145 rows x 6 columns])"
      ]
     },
     "execution_count": 22,
     "metadata": {},
     "output_type": "execute_result"
    }
   ],
   "source": [
    "train, validate, test = traintestsplit(df)\n",
    "train, validate, test"
   ]
  },
  {
   "cell_type": "code",
   "execution_count": 23,
   "id": "20330e2c",
   "metadata": {},
   "outputs": [],
   "source": [
    "from scipy import stats\n",
    "import sklearn.preprocessing"
   ]
  },
  {
   "cell_type": "markdown",
   "id": "aafd5383",
   "metadata": {},
   "source": [
    "# Scalers"
   ]
  },
  {
   "cell_type": "code",
   "execution_count": 24,
   "id": "812eb6c6",
   "metadata": {},
   "outputs": [
    {
     "data": {
      "text/html": [
       "<div>\n",
       "<style scoped>\n",
       "    .dataframe tbody tr th:only-of-type {\n",
       "        vertical-align: middle;\n",
       "    }\n",
       "\n",
       "    .dataframe tbody tr th {\n",
       "        vertical-align: top;\n",
       "    }\n",
       "\n",
       "    .dataframe thead th {\n",
       "        text-align: right;\n",
       "    }\n",
       "</style>\n",
       "<table border=\"1\" class=\"dataframe\">\n",
       "  <thead>\n",
       "    <tr style=\"text-align: right;\">\n",
       "      <th></th>\n",
       "      <th>bathroomcnt</th>\n",
       "      <th>bedroomcnt</th>\n",
       "      <th>calculatedfinishedsquarefeet</th>\n",
       "      <th>fips</th>\n",
       "      <th>yearbuilt</th>\n",
       "      <th>taxvaluedollarcnt</th>\n",
       "    </tr>\n",
       "  </thead>\n",
       "  <tbody>\n",
       "    <tr>\n",
       "      <th>26274</th>\n",
       "      <td>2.0</td>\n",
       "      <td>4.0</td>\n",
       "      <td>1770.0</td>\n",
       "      <td>6059.0</td>\n",
       "      <td>1962.0</td>\n",
       "      <td>435025.0</td>\n",
       "    </tr>\n",
       "    <tr>\n",
       "      <th>32524</th>\n",
       "      <td>1.0</td>\n",
       "      <td>2.0</td>\n",
       "      <td>1326.0</td>\n",
       "      <td>6037.0</td>\n",
       "      <td>1951.0</td>\n",
       "      <td>292396.0</td>\n",
       "    </tr>\n",
       "    <tr>\n",
       "      <th>19029</th>\n",
       "      <td>2.0</td>\n",
       "      <td>3.0</td>\n",
       "      <td>2540.0</td>\n",
       "      <td>6037.0</td>\n",
       "      <td>1924.0</td>\n",
       "      <td>177234.0</td>\n",
       "    </tr>\n",
       "    <tr>\n",
       "      <th>39945</th>\n",
       "      <td>3.0</td>\n",
       "      <td>3.0</td>\n",
       "      <td>2222.0</td>\n",
       "      <td>6037.0</td>\n",
       "      <td>1949.0</td>\n",
       "      <td>254176.0</td>\n",
       "    </tr>\n",
       "    <tr>\n",
       "      <th>24739</th>\n",
       "      <td>2.0</td>\n",
       "      <td>3.0</td>\n",
       "      <td>1605.0</td>\n",
       "      <td>6037.0</td>\n",
       "      <td>1950.0</td>\n",
       "      <td>293620.0</td>\n",
       "    </tr>\n",
       "  </tbody>\n",
       "</table>\n",
       "</div>"
      ],
      "text/plain": [
       "       bathroomcnt  bedroomcnt  calculatedfinishedsquarefeet    fips  \\\n",
       "26274          2.0         4.0                        1770.0  6059.0   \n",
       "32524          1.0         2.0                        1326.0  6037.0   \n",
       "19029          2.0         3.0                        2540.0  6037.0   \n",
       "39945          3.0         3.0                        2222.0  6037.0   \n",
       "24739          2.0         3.0                        1605.0  6037.0   \n",
       "\n",
       "       yearbuilt  taxvaluedollarcnt  \n",
       "26274     1962.0           435025.0  \n",
       "32524     1951.0           292396.0  \n",
       "19029     1924.0           177234.0  \n",
       "39945     1949.0           254176.0  \n",
       "24739     1950.0           293620.0  "
      ]
     },
     "execution_count": 24,
     "metadata": {},
     "output_type": "execute_result"
    }
   ],
   "source": [
    "train.head()"
   ]
  },
  {
   "cell_type": "markdown",
   "id": "b3267bf0",
   "metadata": {},
   "source": [
    "## Min Max Scaler"
   ]
  },
  {
   "cell_type": "code",
   "execution_count": 25,
   "id": "393f343b",
   "metadata": {},
   "outputs": [
    {
     "data": {
      "text/plain": [
       "Text(0.5, 1.0, 'Scaled')"
      ]
     },
     "execution_count": 25,
     "metadata": {},
     "output_type": "execute_result"
    },
    {
     "data": {
      "image/png": "[encoded data removed]",
      "text/plain": [
       "<Figure size 936x432 with 2 Axes>"
      ]
     },
     "metadata": {
      "needs_background": "light"
     },
     "output_type": "display_data"
    }
   ],
   "source": [
    "scaler = sklearn.preprocessing.MinMaxScaler()\n",
    "# Note that we only call .fit with the training data,\n",
    "# but we use .transform to apply the scaling to all the data splits.\n",
    "scaler.fit(train)\n",
    "\n",
    "x_train_scaled = scaler.transform(train)\n",
    "x_validate_scaled = scaler.transform(validate)\n",
    "x_test_scaled = scaler.transform(test)\n",
    "\n",
    "plt.figure(figsize=(13, 6))\n",
    "plt.subplot(121)\n",
    "plt.hist(train, bins=10, ec='black')\n",
    "plt.title('Original')\n",
    "plt.subplot(122)\n",
    "plt.hist(x_train_scaled, bins=10, ec='black')\n",
    "plt.title('Scaled')\n",
    "#has the most change in outliers"
   ]
  },
  {
   "cell_type": "code",
   "execution_count": 26,
   "id": "612c7476",
   "metadata": {},
   "outputs": [],
   "source": [
    "x_train_and_validate, x_test = train_test_split(train)\n",
    "x_train, x_validate = train_test_split(x_train_and_validate)"
   ]
  },
  {
   "cell_type": "code",
   "execution_count": 27,
   "id": "b5f7a808",
   "metadata": {},
   "outputs": [
    {
     "data": {
      "text/html": [
       "<div>\n",
       "<style scoped>\n",
       "    .dataframe tbody tr th:only-of-type {\n",
       "        vertical-align: middle;\n",
       "    }\n",
       "\n",
       "    .dataframe tbody tr th {\n",
       "        vertical-align: top;\n",
       "    }\n",
       "\n",
       "    .dataframe thead th {\n",
       "        text-align: right;\n",
       "    }\n",
       "</style>\n",
       "<table border=\"1\" class=\"dataframe\">\n",
       "  <thead>\n",
       "    <tr style=\"text-align: right;\">\n",
       "      <th></th>\n",
       "      <th>bathroomcnt</th>\n",
       "      <th>bedroomcnt</th>\n",
       "      <th>calculatedfinishedsquarefeet</th>\n",
       "      <th>fips</th>\n",
       "      <th>yearbuilt</th>\n",
       "      <th>taxvaluedollarcnt</th>\n",
       "    </tr>\n",
       "  </thead>\n",
       "  <tbody>\n",
       "    <tr>\n",
       "      <th>26274</th>\n",
       "      <td>2.0</td>\n",
       "      <td>4.0</td>\n",
       "      <td>1770.0</td>\n",
       "      <td>6059.0</td>\n",
       "      <td>1962.0</td>\n",
       "      <td>435025.0</td>\n",
       "    </tr>\n",
       "    <tr>\n",
       "      <th>32524</th>\n",
       "      <td>1.0</td>\n",
       "      <td>2.0</td>\n",
       "      <td>1326.0</td>\n",
       "      <td>6037.0</td>\n",
       "      <td>1951.0</td>\n",
       "      <td>292396.0</td>\n",
       "    </tr>\n",
       "    <tr>\n",
       "      <th>19029</th>\n",
       "      <td>2.0</td>\n",
       "      <td>3.0</td>\n",
       "      <td>2540.0</td>\n",
       "      <td>6037.0</td>\n",
       "      <td>1924.0</td>\n",
       "      <td>177234.0</td>\n",
       "    </tr>\n",
       "    <tr>\n",
       "      <th>39945</th>\n",
       "      <td>3.0</td>\n",
       "      <td>3.0</td>\n",
       "      <td>2222.0</td>\n",
       "      <td>6037.0</td>\n",
       "      <td>1949.0</td>\n",
       "      <td>254176.0</td>\n",
       "    </tr>\n",
       "    <tr>\n",
       "      <th>24739</th>\n",
       "      <td>2.0</td>\n",
       "      <td>3.0</td>\n",
       "      <td>1605.0</td>\n",
       "      <td>6037.0</td>\n",
       "      <td>1950.0</td>\n",
       "      <td>293620.0</td>\n",
       "    </tr>\n",
       "  </tbody>\n",
       "</table>\n",
       "</div>"
      ],
      "text/plain": [
       "       bathroomcnt  bedroomcnt  calculatedfinishedsquarefeet    fips  \\\n",
       "26274          2.0         4.0                        1770.0  6059.0   \n",
       "32524          1.0         2.0                        1326.0  6037.0   \n",
       "19029          2.0         3.0                        2540.0  6037.0   \n",
       "39945          3.0         3.0                        2222.0  6037.0   \n",
       "24739          2.0         3.0                        1605.0  6037.0   \n",
       "\n",
       "       yearbuilt  taxvaluedollarcnt  \n",
       "26274     1962.0           435025.0  \n",
       "32524     1951.0           292396.0  \n",
       "19029     1924.0           177234.0  \n",
       "39945     1949.0           254176.0  \n",
       "24739     1950.0           293620.0  "
      ]
     },
     "execution_count": 27,
     "metadata": {},
     "output_type": "execute_result"
    }
   ],
   "source": [
    "train.head()"
   ]
  },
  {
   "cell_type": "code",
   "execution_count": 28,
   "id": "edfb980b",
   "metadata": {},
   "outputs": [
    {
     "data": {
      "text/html": [
       "<div>\n",
       "<style scoped>\n",
       "    .dataframe tbody tr th:only-of-type {\n",
       "        vertical-align: middle;\n",
       "    }\n",
       "\n",
       "    .dataframe tbody tr th {\n",
       "        vertical-align: top;\n",
       "    }\n",
       "\n",
       "    .dataframe thead th {\n",
       "        text-align: right;\n",
       "    }\n",
       "</style>\n",
       "<table border=\"1\" class=\"dataframe\">\n",
       "  <thead>\n",
       "    <tr style=\"text-align: right;\">\n",
       "      <th></th>\n",
       "      <th>0</th>\n",
       "      <th>1</th>\n",
       "      <th>2</th>\n",
       "      <th>3</th>\n",
       "      <th>4</th>\n",
       "      <th>5</th>\n",
       "    </tr>\n",
       "  </thead>\n",
       "  <tbody>\n",
       "    <tr>\n",
       "      <th>0</th>\n",
       "      <td>0.2</td>\n",
       "      <td>0.6</td>\n",
       "      <td>0.184882</td>\n",
       "      <td>0.297297</td>\n",
       "      <td>0.608696</td>\n",
       "      <td>0.216535</td>\n",
       "    </tr>\n",
       "    <tr>\n",
       "      <th>1</th>\n",
       "      <td>0.0</td>\n",
       "      <td>0.2</td>\n",
       "      <td>0.129040</td>\n",
       "      <td>0.000000</td>\n",
       "      <td>0.528986</td>\n",
       "      <td>0.145006</td>\n",
       "    </tr>\n",
       "    <tr>\n",
       "      <th>2</th>\n",
       "      <td>0.2</td>\n",
       "      <td>0.4</td>\n",
       "      <td>0.281726</td>\n",
       "      <td>0.000000</td>\n",
       "      <td>0.333333</td>\n",
       "      <td>0.087252</td>\n",
       "    </tr>\n",
       "    <tr>\n",
       "      <th>3</th>\n",
       "      <td>0.4</td>\n",
       "      <td>0.4</td>\n",
       "      <td>0.241731</td>\n",
       "      <td>0.000000</td>\n",
       "      <td>0.514493</td>\n",
       "      <td>0.125839</td>\n",
       "    </tr>\n",
       "    <tr>\n",
       "      <th>4</th>\n",
       "      <td>0.2</td>\n",
       "      <td>0.4</td>\n",
       "      <td>0.164130</td>\n",
       "      <td>0.000000</td>\n",
       "      <td>0.521739</td>\n",
       "      <td>0.145620</td>\n",
       "    </tr>\n",
       "    <tr>\n",
       "      <th>...</th>\n",
       "      <td>...</td>\n",
       "      <td>...</td>\n",
       "      <td>...</td>\n",
       "      <td>...</td>\n",
       "      <td>...</td>\n",
       "      <td>...</td>\n",
       "    </tr>\n",
       "    <tr>\n",
       "      <th>28400</th>\n",
       "      <td>0.3</td>\n",
       "      <td>0.6</td>\n",
       "      <td>0.275311</td>\n",
       "      <td>0.297297</td>\n",
       "      <td>0.630435</td>\n",
       "      <td>0.052435</td>\n",
       "    </tr>\n",
       "    <tr>\n",
       "      <th>28401</th>\n",
       "      <td>0.0</td>\n",
       "      <td>0.4</td>\n",
       "      <td>0.116212</td>\n",
       "      <td>0.000000</td>\n",
       "      <td>0.492754</td>\n",
       "      <td>0.099747</td>\n",
       "    </tr>\n",
       "    <tr>\n",
       "      <th>28402</th>\n",
       "      <td>0.4</td>\n",
       "      <td>0.8</td>\n",
       "      <td>0.270029</td>\n",
       "      <td>0.000000</td>\n",
       "      <td>0.666667</td>\n",
       "      <td>0.160709</td>\n",
       "    </tr>\n",
       "    <tr>\n",
       "      <th>28403</th>\n",
       "      <td>0.4</td>\n",
       "      <td>0.4</td>\n",
       "      <td>0.146271</td>\n",
       "      <td>0.000000</td>\n",
       "      <td>0.797101</td>\n",
       "      <td>0.162783</td>\n",
       "    </tr>\n",
       "    <tr>\n",
       "      <th>28404</th>\n",
       "      <td>0.3</td>\n",
       "      <td>0.6</td>\n",
       "      <td>0.274054</td>\n",
       "      <td>0.297297</td>\n",
       "      <td>0.811594</td>\n",
       "      <td>0.307793</td>\n",
       "    </tr>\n",
       "  </tbody>\n",
       "</table>\n",
       "<p>28405 rows × 6 columns</p>\n",
       "</div>"
      ],
      "text/plain": [
       "         0    1         2         3         4         5\n",
       "0      0.2  0.6  0.184882  0.297297  0.608696  0.216535\n",
       "1      0.0  0.2  0.129040  0.000000  0.528986  0.145006\n",
       "2      0.2  0.4  0.281726  0.000000  0.333333  0.087252\n",
       "3      0.4  0.4  0.241731  0.000000  0.514493  0.125839\n",
       "4      0.2  0.4  0.164130  0.000000  0.521739  0.145620\n",
       "...    ...  ...       ...       ...       ...       ...\n",
       "28400  0.3  0.6  0.275311  0.297297  0.630435  0.052435\n",
       "28401  0.0  0.4  0.116212  0.000000  0.492754  0.099747\n",
       "28402  0.4  0.8  0.270029  0.000000  0.666667  0.160709\n",
       "28403  0.4  0.4  0.146271  0.000000  0.797101  0.162783\n",
       "28404  0.3  0.6  0.274054  0.297297  0.811594  0.307793\n",
       "\n",
       "[28405 rows x 6 columns]"
      ]
     },
     "execution_count": 28,
     "metadata": {},
     "output_type": "execute_result"
    }
   ],
   "source": [
    "pd.DataFrame(x_train_scaled)\n",
    "#not what we want but a step in the right direction\n",
    "#we typically scale one feature at a time"
   ]
  },
  {
   "cell_type": "markdown",
   "id": "08841eb7",
   "metadata": {},
   "source": [
    "## Standard  Scaler"
   ]
  },
  {
   "cell_type": "code",
   "execution_count": 29,
   "id": "67232884",
   "metadata": {},
   "outputs": [
    {
     "data": {
      "text/plain": [
       "Text(0.5, 1.0, 'Scaled')"
      ]
     },
     "execution_count": 29,
     "metadata": {},
     "output_type": "execute_result"
    },
    {
     "data": {
      "image/png": "[encoded data removed]",
      "text/plain": [
       "<Figure size 936x432 with 2 Axes>"
      ]
     },
     "metadata": {
      "needs_background": "light"
     },
     "output_type": "display_data"
    }
   ],
   "source": [
    "scaler = sklearn.preprocessing.StandardScaler()\n",
    "# Note that we only call .fit with the training data,\n",
    "# but we use .transform to apply the scaling to all the data splits.\n",
    "scaler.fit(train)\n",
    "\n",
    "x_train_scaled = scaler.transform(train)\n",
    "x_validate_scaled = scaler.transform(validate)\n",
    "x_test_scaled = scaler.transform(test)\n",
    "\n",
    "plt.figure(figsize=(13, 6))\n",
    "plt.subplot(121)\n",
    "plt.hist(train, bins=10, ec='black')\n",
    "plt.title('Original')\n",
    "plt.subplot(122)\n",
    "plt.hist(x_train_scaled, bins=10, ec='black')\n",
    "plt.title('Scaled')"
   ]
  },
  {
   "cell_type": "markdown",
   "id": "3644b4ed",
   "metadata": {},
   "source": [
    "## Robust Scaler"
   ]
  },
  {
   "cell_type": "code",
   "execution_count": 30,
   "id": "138690fc",
   "metadata": {},
   "outputs": [
    {
     "data": {
      "text/plain": [
       "Text(0.5, 1.0, 'Scaled')"
      ]
     },
     "execution_count": 30,
     "metadata": {},
     "output_type": "execute_result"
    },
    {
     "data": {
      "image/png": "[encoded data removed]",
      "text/plain": [
       "<Figure size 936x432 with 2 Axes>"
      ]
     },
     "metadata": {
      "needs_background": "light"
     },
     "output_type": "display_data"
    }
   ],
   "source": [
    "scaler = sklearn.preprocessing.RobustScaler()\n",
    "# Note that we only call .fit with the training data,\n",
    "# but we use .transform to apply the scaling to all the data splits.\n",
    "scaler.fit(train)\n",
    "\n",
    "x_train_scaled = scaler.transform(train)\n",
    "x_validate_scaled = scaler.transform(validate)\n",
    "x_test_scaled = scaler.transform(test)\n",
    "\n",
    "plt.figure(figsize=(13, 6))\n",
    "plt.subplot(121)\n",
    "plt.hist(x_train, bins=10, ec='black')\n",
    "plt.title('Original')\n",
    "plt.subplot(122)\n",
    "plt.hist(x_train_scaled, bins=10, ec='black')\n",
    "plt.title('Scaled')"
   ]
  },
  {
   "cell_type": "markdown",
   "id": "82400463",
   "metadata": {},
   "source": [
    "Takeaways:\n",
    "- That there are some visual changes to the layout of the graphs but is due to bins"
   ]
  },
  {
   "cell_type": "markdown",
   "id": "9b8754de",
   "metadata": {},
   "source": [
    "## Wokring with scaled data"
   ]
  },
  {
   "cell_type": "code",
   "execution_count": 31,
   "id": "273cf185",
   "metadata": {},
   "outputs": [],
   "source": [
    "#what am I doing here?\n",
    "# I am testing out how to work with scaled data\n",
    "X_train = train[['calculatedfinishedsquarefeet']]\n",
    "y_train = train['taxvaluedollarcnt']\n",
    "\n",
    "X_validate = validate[['calculatedfinishedsquarefeet']]\n",
    "y_validate = validate['taxvaluedollarcnt']\n",
    "\n",
    "X_test = test[['calculatedfinishedsquarefeet']]\n",
    "y_test = test['taxvaluedollarcnt']"
   ]
  },
  {
   "cell_type": "code",
   "execution_count": 32,
   "id": "cc5d4068",
   "metadata": {},
   "outputs": [
    {
     "data": {
      "text/plain": [
       "3967     411828.0\n",
       "32361     16722.0\n",
       "14938    233022.0\n",
       "9557     865466.0\n",
       "6691     465988.0\n",
       "Name: taxvaluedollarcnt, dtype: float64"
      ]
     },
     "execution_count": 32,
     "metadata": {},
     "output_type": "execute_result"
    }
   ],
   "source": [
    "y_test.head()"
   ]
  },
  {
   "cell_type": "code",
   "execution_count": 33,
   "id": "50337af5",
   "metadata": {},
   "outputs": [
    {
     "data": {
      "text/html": [
       "<div>\n",
       "<style scoped>\n",
       "    .dataframe tbody tr th:only-of-type {\n",
       "        vertical-align: middle;\n",
       "    }\n",
       "\n",
       "    .dataframe tbody tr th {\n",
       "        vertical-align: top;\n",
       "    }\n",
       "\n",
       "    .dataframe thead th {\n",
       "        text-align: right;\n",
       "    }\n",
       "</style>\n",
       "<table border=\"1\" class=\"dataframe\">\n",
       "  <thead>\n",
       "    <tr style=\"text-align: right;\">\n",
       "      <th></th>\n",
       "      <th>calculatedfinishedsquarefeet</th>\n",
       "    </tr>\n",
       "  </thead>\n",
       "  <tbody>\n",
       "    <tr>\n",
       "      <th>26274</th>\n",
       "      <td>1770.0</td>\n",
       "    </tr>\n",
       "    <tr>\n",
       "      <th>32524</th>\n",
       "      <td>1326.0</td>\n",
       "    </tr>\n",
       "    <tr>\n",
       "      <th>19029</th>\n",
       "      <td>2540.0</td>\n",
       "    </tr>\n",
       "    <tr>\n",
       "      <th>39945</th>\n",
       "      <td>2222.0</td>\n",
       "    </tr>\n",
       "    <tr>\n",
       "      <th>24739</th>\n",
       "      <td>1605.0</td>\n",
       "    </tr>\n",
       "    <tr>\n",
       "      <th>...</th>\n",
       "      <td>...</td>\n",
       "    </tr>\n",
       "    <tr>\n",
       "      <th>41307</th>\n",
       "      <td>2489.0</td>\n",
       "    </tr>\n",
       "    <tr>\n",
       "      <th>14084</th>\n",
       "      <td>1224.0</td>\n",
       "    </tr>\n",
       "    <tr>\n",
       "      <th>20947</th>\n",
       "      <td>2447.0</td>\n",
       "    </tr>\n",
       "    <tr>\n",
       "      <th>4859</th>\n",
       "      <td>1463.0</td>\n",
       "    </tr>\n",
       "    <tr>\n",
       "      <th>31937</th>\n",
       "      <td>2479.0</td>\n",
       "    </tr>\n",
       "  </tbody>\n",
       "</table>\n",
       "<p>28405 rows × 1 columns</p>\n",
       "</div>"
      ],
      "text/plain": [
       "       calculatedfinishedsquarefeet\n",
       "26274                        1770.0\n",
       "32524                        1326.0\n",
       "19029                        2540.0\n",
       "39945                        2222.0\n",
       "24739                        1605.0\n",
       "...                             ...\n",
       "41307                        2489.0\n",
       "14084                        1224.0\n",
       "20947                        2447.0\n",
       "4859                         1463.0\n",
       "31937                        2479.0\n",
       "\n",
       "[28405 rows x 1 columns]"
      ]
     },
     "execution_count": 33,
     "metadata": {},
     "output_type": "execute_result"
    }
   ],
   "source": [
    "X_train"
   ]
  },
  {
   "cell_type": "code",
   "execution_count": 34,
   "id": "c47bc821",
   "metadata": {},
   "outputs": [],
   "source": [
    "#need baseline RMSE\n",
    "#take the average or median\n",
    "#and compare the RMSE"
   ]
  },
  {
   "cell_type": "code",
   "execution_count": 35,
   "id": "b4ff9a08",
   "metadata": {},
   "outputs": [
    {
     "data": {
      "text/plain": [
       "444749.31364196446"
      ]
     },
     "execution_count": 35,
     "metadata": {},
     "output_type": "execute_result"
    }
   ],
   "source": [
    "baseline = train.taxvaluedollarcnt.mean()\n",
    "baseline"
   ]
  },
  {
   "cell_type": "code",
   "execution_count": 36,
   "id": "471c1df9",
   "metadata": {},
   "outputs": [
    {
     "data": {
      "text/html": [
       "<div>\n",
       "<style scoped>\n",
       "    .dataframe tbody tr th:only-of-type {\n",
       "        vertical-align: middle;\n",
       "    }\n",
       "\n",
       "    .dataframe tbody tr th {\n",
       "        vertical-align: top;\n",
       "    }\n",
       "\n",
       "    .dataframe thead th {\n",
       "        text-align: right;\n",
       "    }\n",
       "</style>\n",
       "<table border=\"1\" class=\"dataframe\">\n",
       "  <thead>\n",
       "    <tr style=\"text-align: right;\">\n",
       "      <th></th>\n",
       "      <th>bathroomcnt</th>\n",
       "      <th>bedroomcnt</th>\n",
       "      <th>calculatedfinishedsquarefeet</th>\n",
       "      <th>fips</th>\n",
       "      <th>yearbuilt</th>\n",
       "      <th>taxvaluedollarcnt</th>\n",
       "      <th>baseline</th>\n",
       "    </tr>\n",
       "  </thead>\n",
       "  <tbody>\n",
       "    <tr>\n",
       "      <th>26274</th>\n",
       "      <td>2.0</td>\n",
       "      <td>4.0</td>\n",
       "      <td>1770.0</td>\n",
       "      <td>6059.0</td>\n",
       "      <td>1962.0</td>\n",
       "      <td>435025.0</td>\n",
       "      <td>444749.313642</td>\n",
       "    </tr>\n",
       "    <tr>\n",
       "      <th>32524</th>\n",
       "      <td>1.0</td>\n",
       "      <td>2.0</td>\n",
       "      <td>1326.0</td>\n",
       "      <td>6037.0</td>\n",
       "      <td>1951.0</td>\n",
       "      <td>292396.0</td>\n",
       "      <td>444749.313642</td>\n",
       "    </tr>\n",
       "    <tr>\n",
       "      <th>19029</th>\n",
       "      <td>2.0</td>\n",
       "      <td>3.0</td>\n",
       "      <td>2540.0</td>\n",
       "      <td>6037.0</td>\n",
       "      <td>1924.0</td>\n",
       "      <td>177234.0</td>\n",
       "      <td>444749.313642</td>\n",
       "    </tr>\n",
       "    <tr>\n",
       "      <th>39945</th>\n",
       "      <td>3.0</td>\n",
       "      <td>3.0</td>\n",
       "      <td>2222.0</td>\n",
       "      <td>6037.0</td>\n",
       "      <td>1949.0</td>\n",
       "      <td>254176.0</td>\n",
       "      <td>444749.313642</td>\n",
       "    </tr>\n",
       "    <tr>\n",
       "      <th>24739</th>\n",
       "      <td>2.0</td>\n",
       "      <td>3.0</td>\n",
       "      <td>1605.0</td>\n",
       "      <td>6037.0</td>\n",
       "      <td>1950.0</td>\n",
       "      <td>293620.0</td>\n",
       "      <td>444749.313642</td>\n",
       "    </tr>\n",
       "  </tbody>\n",
       "</table>\n",
       "</div>"
      ],
      "text/plain": [
       "       bathroomcnt  bedroomcnt  calculatedfinishedsquarefeet    fips  \\\n",
       "26274          2.0         4.0                        1770.0  6059.0   \n",
       "32524          1.0         2.0                        1326.0  6037.0   \n",
       "19029          2.0         3.0                        2540.0  6037.0   \n",
       "39945          3.0         3.0                        2222.0  6037.0   \n",
       "24739          2.0         3.0                        1605.0  6037.0   \n",
       "\n",
       "       yearbuilt  taxvaluedollarcnt       baseline  \n",
       "26274     1962.0           435025.0  444749.313642  \n",
       "32524     1951.0           292396.0  444749.313642  \n",
       "19029     1924.0           177234.0  444749.313642  \n",
       "39945     1949.0           254176.0  444749.313642  \n",
       "24739     1950.0           293620.0  444749.313642  "
      ]
     },
     "execution_count": 36,
     "metadata": {},
     "output_type": "execute_result"
    }
   ],
   "source": [
    "train['baseline'] = train.taxvaluedollarcnt.mean()\n",
    "train.head()"
   ]
  },
  {
   "cell_type": "code",
   "execution_count": 37,
   "id": "d9c7aeca",
   "metadata": {},
   "outputs": [
    {
     "data": {
      "image/png": "[encoded data removed]",
      "text/plain": [
       "<Figure size 432x288 with 1 Axes>"
      ]
     },
     "metadata": {
      "needs_background": "light"
     },
     "output_type": "display_data"
    }
   ],
   "source": [
    "#plotting against the mean of the data\n",
    "plt.scatter(train.calculatedfinishedsquarefeet, train.taxvaluedollarcnt)\n",
    "plt.axhline(train.taxvaluedollarcnt.mean(), ls = ':')\n",
    "plt.xlabel('x = Square Feet')\n",
    "plt.ylabel('y = Tax Assessed Value')\n",
    "plt.title('Baseline model');"
   ]
  },
  {
   "cell_type": "code",
   "execution_count": 38,
   "id": "cbd261ec",
   "metadata": {},
   "outputs": [],
   "source": [
    "from sklearn.linear_model import LinearRegression"
   ]
  },
  {
   "cell_type": "code",
   "execution_count": 39,
   "id": "29eb1b3b",
   "metadata": {},
   "outputs": [],
   "source": [
    "model = LinearRegression().fit(X_train, y_train)\n",
    "predictions = model.predict(X_train)"
   ]
  },
  {
   "cell_type": "code",
   "execution_count": 40,
   "id": "dfc9864c",
   "metadata": {},
   "outputs": [],
   "source": [
    "train['yhat'] = predictions"
   ]
  },
  {
   "cell_type": "code",
   "execution_count": 41,
   "id": "cdfbe165",
   "metadata": {},
   "outputs": [
    {
     "data": {
      "text/html": [
       "<div>\n",
       "<style scoped>\n",
       "    .dataframe tbody tr th:only-of-type {\n",
       "        vertical-align: middle;\n",
       "    }\n",
       "\n",
       "    .dataframe tbody tr th {\n",
       "        vertical-align: top;\n",
       "    }\n",
       "\n",
       "    .dataframe thead th {\n",
       "        text-align: right;\n",
       "    }\n",
       "</style>\n",
       "<table border=\"1\" class=\"dataframe\">\n",
       "  <thead>\n",
       "    <tr style=\"text-align: right;\">\n",
       "      <th></th>\n",
       "      <th>bathroomcnt</th>\n",
       "      <th>bedroomcnt</th>\n",
       "      <th>calculatedfinishedsquarefeet</th>\n",
       "      <th>fips</th>\n",
       "      <th>yearbuilt</th>\n",
       "      <th>taxvaluedollarcnt</th>\n",
       "      <th>baseline</th>\n",
       "      <th>yhat</th>\n",
       "    </tr>\n",
       "  </thead>\n",
       "  <tbody>\n",
       "    <tr>\n",
       "      <th>26274</th>\n",
       "      <td>2.0</td>\n",
       "      <td>4.0</td>\n",
       "      <td>1770.0</td>\n",
       "      <td>6059.0</td>\n",
       "      <td>1962.0</td>\n",
       "      <td>435025.0</td>\n",
       "      <td>444749.313642</td>\n",
       "      <td>427905.123037</td>\n",
       "    </tr>\n",
       "    <tr>\n",
       "      <th>32524</th>\n",
       "      <td>1.0</td>\n",
       "      <td>2.0</td>\n",
       "      <td>1326.0</td>\n",
       "      <td>6037.0</td>\n",
       "      <td>1951.0</td>\n",
       "      <td>292396.0</td>\n",
       "      <td>444749.313642</td>\n",
       "      <td>317515.321687</td>\n",
       "    </tr>\n",
       "    <tr>\n",
       "      <th>19029</th>\n",
       "      <td>2.0</td>\n",
       "      <td>3.0</td>\n",
       "      <td>2540.0</td>\n",
       "      <td>6037.0</td>\n",
       "      <td>1924.0</td>\n",
       "      <td>177234.0</td>\n",
       "      <td>444749.313642</td>\n",
       "      <td>619346.895648</td>\n",
       "    </tr>\n",
       "    <tr>\n",
       "      <th>39945</th>\n",
       "      <td>3.0</td>\n",
       "      <td>3.0</td>\n",
       "      <td>2222.0</td>\n",
       "      <td>6037.0</td>\n",
       "      <td>1949.0</td>\n",
       "      <td>254176.0</td>\n",
       "      <td>444749.313642</td>\n",
       "      <td>540283.929817</td>\n",
       "    </tr>\n",
       "    <tr>\n",
       "      <th>24739</th>\n",
       "      <td>2.0</td>\n",
       "      <td>3.0</td>\n",
       "      <td>1605.0</td>\n",
       "      <td>6037.0</td>\n",
       "      <td>1950.0</td>\n",
       "      <td>293620.0</td>\n",
       "      <td>444749.313642</td>\n",
       "      <td>386881.886049</td>\n",
       "    </tr>\n",
       "  </tbody>\n",
       "</table>\n",
       "</div>"
      ],
      "text/plain": [
       "       bathroomcnt  bedroomcnt  calculatedfinishedsquarefeet    fips  \\\n",
       "26274          2.0         4.0                        1770.0  6059.0   \n",
       "32524          1.0         2.0                        1326.0  6037.0   \n",
       "19029          2.0         3.0                        2540.0  6037.0   \n",
       "39945          3.0         3.0                        2222.0  6037.0   \n",
       "24739          2.0         3.0                        1605.0  6037.0   \n",
       "\n",
       "       yearbuilt  taxvaluedollarcnt       baseline           yhat  \n",
       "26274     1962.0           435025.0  444749.313642  427905.123037  \n",
       "32524     1951.0           292396.0  444749.313642  317515.321687  \n",
       "19029     1924.0           177234.0  444749.313642  619346.895648  \n",
       "39945     1949.0           254176.0  444749.313642  540283.929817  \n",
       "24739     1950.0           293620.0  444749.313642  386881.886049  "
      ]
     },
     "execution_count": 41,
     "metadata": {},
     "output_type": "execute_result"
    }
   ],
   "source": [
    "train.head()"
   ]
  },
  {
   "cell_type": "code",
   "execution_count": 42,
   "id": "ecb1dbad",
   "metadata": {},
   "outputs": [
    {
     "data": {
      "image/png": "[encoded data removed]",
      "text/plain": [
       "<Figure size 432x288 with 1 Axes>"
      ]
     },
     "metadata": {
      "needs_background": "light"
     },
     "output_type": "display_data"
    }
   ],
   "source": [
    "# visualize the line of best fit from OLS linear model\n",
    "plt.scatter(train.calculatedfinishedsquarefeet, train.taxvaluedollarcnt)\n",
    "plt.plot(train.calculatedfinishedsquarefeet, train.yhat)\n",
    "plt.xlabel('x = Square Feet')\n",
    "plt.ylabel('y = Tax Assessed Value')\n",
    "plt.title('OLS linear model');"
   ]
  },
  {
   "cell_type": "markdown",
   "id": "f489f9c3",
   "metadata": {},
   "source": [
    "# Modeling"
   ]
  },
  {
   "cell_type": "markdown",
   "id": "fdd44b70",
   "metadata": {},
   "source": [
    "This may take some time, maybe more time then I know of.\n",
    "\n",
    "My confidence is not the highest coming into this but I will surely build out some models"
   ]
  },
  {
   "cell_type": "code",
   "execution_count": 43,
   "id": "99411290",
   "metadata": {},
   "outputs": [],
   "source": [
    "import pandas as pd\n",
    "import numpy as np\n",
    "import wrangle\n",
    "import matplotlib.pyplot as plt\n",
    "\n",
    "# modeling methods\n",
    "from sklearn.metrics import mean_squared_error\n",
    "from sklearn.linear_model import LinearRegression, LassoLars, TweedieRegressor\n",
    "from sklearn.preprocessing import PolynomialFeatures\n",
    "\n",
    "import warnings\n",
    "warnings.filterwarnings(\"ignore\")"
   ]
  },
  {
   "cell_type": "code",
   "execution_count": 44,
   "id": "0cb96518",
   "metadata": {},
   "outputs": [
    {
     "name": "stdout",
     "output_type": "stream",
     "text": [
      "RMSE using Mean\n",
      "Train/In-Sample:  355302.21 \n",
      "Validate/Out-of-Sample:  351801.88\n",
      "RMSE using Median\n",
      "Train/In-Sample:  364345.33 \n",
      "Validate/Out-of-Sample:  361109.96\n"
     ]
    }
   ],
   "source": [
    "# We need y_train and y_validate to be dataframes to append the new columns with predicted values. \n",
    "y_train = pd.DataFrame(train.taxvaluedollarcnt)\n",
    "y_validate = pd.DataFrame(validate.taxvaluedollarcnt)\n",
    "\n",
    "# 1. Predict price_pred_mean\n",
    "price_pred_mean = y_train['taxvaluedollarcnt'].mean()\n",
    "y_train['price_pred_mean'] = price_pred_mean\n",
    "y_validate['price_pred_mean'] = price_pred_mean\n",
    "\n",
    "# 2. compute price_pred_median\n",
    "price_pred_median = y_train['taxvaluedollarcnt'].median()\n",
    "y_train['price_pred_median'] = price_pred_median\n",
    "y_validate['price_pred_median'] = price_pred_median\n",
    "\n",
    "# 3. RMSE of price_pred_mean\n",
    "rmse_train = mean_squared_error(y_train.taxvaluedollarcnt, y_train.price_pred_mean)**(1/2)\n",
    "rmse_validate = mean_squared_error(y_validate.taxvaluedollarcnt, y_validate.price_pred_mean)**(1/2)\n",
    "\n",
    "print(\"RMSE using Mean\\nTrain/In-Sample: \", round(rmse_train, 2), \n",
    "      \"\\nValidate/Out-of-Sample: \", round(rmse_validate, 2))\n",
    "\n",
    "# 4. RMSE of G3_pred_median\n",
    "rmse_train = mean_squared_error(y_train.taxvaluedollarcnt, y_train.price_pred_median)**(1/2)\n",
    "rmse_validate = mean_squared_error(y_validate.taxvaluedollarcnt, y_validate.price_pred_median)**(1/2)\n",
    "\n",
    "print(\"RMSE using Median\\nTrain/In-Sample: \", round(rmse_train, 2), \n",
    "      \"\\nValidate/Out-of-Sample: \", round(rmse_validate, 2))"
   ]
  },
  {
   "cell_type": "code",
   "execution_count": 45,
   "id": "1cc09be0",
   "metadata": {},
   "outputs": [
    {
     "data": {
      "image/png": "[encoded data removed]",
      "text/plain": [
       "<Figure size 432x288 with 1 Axes>"
      ]
     },
     "metadata": {
      "needs_background": "light"
     },
     "output_type": "display_data"
    }
   ],
   "source": [
    "plt.hist(y_train.taxvaluedollarcnt, color='blue', alpha=.5, label=\"Houses Prices\")\n",
    "plt.hist(y_train.price_pred_mean, bins=1, color='red', alpha=.5, rwidth=100, label=\"Price - Mean\")\n",
    "plt.hist(y_train.price_pred_median, bins=1, color='orange', alpha=.5, rwidth=100, label=\"Price - Median\")\n",
    "plt.xlabel(\"Amount of homes\")\n",
    "plt.ylabel(\"House Prices\")\n",
    "plt.legend()\n",
    "plt.show()"
   ]
  },
  {
   "cell_type": "code",
   "execution_count": 46,
   "id": "fa438e84",
   "metadata": {},
   "outputs": [],
   "source": [
    "#scales my data\n",
    "def scaler_min_max(df, col_list):\n",
    "    #scaled_col_name = [col_name + \"_scaled\" for col_name in col_list]\n",
    "    #creates a datafrmae from my columns\n",
    "    df_2 = df[col_list]\n",
    "    # What to alias this to be able to add column with different name\n",
    "    df = df.drop(columns = col_list)\n",
    "    #then it will drop the columns I've inputed as arguements\n",
    "    scaler = MinMaxScaler(copy=True, feature_range=(0,1)).fit(df_2)\n",
    "    #create scaler object \"minmaxscaler here\"\n",
    "    df_2 = pd.DataFrame(scaler.transform(df_2), columns=df_2.columns.values).set_index([df_2.index.values])\n",
    "    #apply  scaler object to dataframe using my columns I inputed\n",
    "    df = df.join(df_2)\n",
    "    #adding column back to original dataframe\n",
    "    return df"
   ]
  },
  {
   "cell_type": "markdown",
   "id": "354fd252",
   "metadata": {},
   "source": [
    "Commenting styles differe from poeple and places"
   ]
  },
  {
   "cell_type": "code",
   "execution_count": 47,
   "id": "1307d5c5",
   "metadata": {},
   "outputs": [],
   "source": [
    "import matplotlib.pyplot as plt\n",
    "import numpy as np\n",
    "from scipy import stats\n",
    "import sklearn.preprocessing\n",
    "from sklearn.model_selection import train_test_split\n",
    "from sklearn.preprocessing import MinMaxScaler\n",
    "import pandas as pd"
   ]
  },
  {
   "cell_type": "code",
   "execution_count": 48,
   "id": "62b0e8e1",
   "metadata": {},
   "outputs": [
    {
     "data": {
      "text/html": [
       "<div>\n",
       "<style scoped>\n",
       "    .dataframe tbody tr th:only-of-type {\n",
       "        vertical-align: middle;\n",
       "    }\n",
       "\n",
       "    .dataframe tbody tr th {\n",
       "        vertical-align: top;\n",
       "    }\n",
       "\n",
       "    .dataframe thead th {\n",
       "        text-align: right;\n",
       "    }\n",
       "</style>\n",
       "<table border=\"1\" class=\"dataframe\">\n",
       "  <thead>\n",
       "    <tr style=\"text-align: right;\">\n",
       "      <th></th>\n",
       "      <th>bathroomcnt</th>\n",
       "      <th>bedroomcnt</th>\n",
       "      <th>fips</th>\n",
       "      <th>yearbuilt</th>\n",
       "      <th>taxvaluedollarcnt</th>\n",
       "      <th>baseline</th>\n",
       "      <th>yhat</th>\n",
       "      <th>calculatedfinishedsquarefeet</th>\n",
       "    </tr>\n",
       "  </thead>\n",
       "  <tbody>\n",
       "    <tr>\n",
       "      <th>26274</th>\n",
       "      <td>2.0</td>\n",
       "      <td>4.0</td>\n",
       "      <td>6059.0</td>\n",
       "      <td>1962.0</td>\n",
       "      <td>435025.0</td>\n",
       "      <td>444749.313642</td>\n",
       "      <td>427905.123037</td>\n",
       "      <td>0.184882</td>\n",
       "    </tr>\n",
       "    <tr>\n",
       "      <th>32524</th>\n",
       "      <td>1.0</td>\n",
       "      <td>2.0</td>\n",
       "      <td>6037.0</td>\n",
       "      <td>1951.0</td>\n",
       "      <td>292396.0</td>\n",
       "      <td>444749.313642</td>\n",
       "      <td>317515.321687</td>\n",
       "      <td>0.129040</td>\n",
       "    </tr>\n",
       "    <tr>\n",
       "      <th>19029</th>\n",
       "      <td>2.0</td>\n",
       "      <td>3.0</td>\n",
       "      <td>6037.0</td>\n",
       "      <td>1924.0</td>\n",
       "      <td>177234.0</td>\n",
       "      <td>444749.313642</td>\n",
       "      <td>619346.895648</td>\n",
       "      <td>0.281726</td>\n",
       "    </tr>\n",
       "    <tr>\n",
       "      <th>39945</th>\n",
       "      <td>3.0</td>\n",
       "      <td>3.0</td>\n",
       "      <td>6037.0</td>\n",
       "      <td>1949.0</td>\n",
       "      <td>254176.0</td>\n",
       "      <td>444749.313642</td>\n",
       "      <td>540283.929817</td>\n",
       "      <td>0.241731</td>\n",
       "    </tr>\n",
       "    <tr>\n",
       "      <th>24739</th>\n",
       "      <td>2.0</td>\n",
       "      <td>3.0</td>\n",
       "      <td>6037.0</td>\n",
       "      <td>1950.0</td>\n",
       "      <td>293620.0</td>\n",
       "      <td>444749.313642</td>\n",
       "      <td>386881.886049</td>\n",
       "      <td>0.164130</td>\n",
       "    </tr>\n",
       "    <tr>\n",
       "      <th>...</th>\n",
       "      <td>...</td>\n",
       "      <td>...</td>\n",
       "      <td>...</td>\n",
       "      <td>...</td>\n",
       "      <td>...</td>\n",
       "      <td>...</td>\n",
       "      <td>...</td>\n",
       "      <td>...</td>\n",
       "    </tr>\n",
       "    <tr>\n",
       "      <th>41307</th>\n",
       "      <td>2.5</td>\n",
       "      <td>4.0</td>\n",
       "      <td>6059.0</td>\n",
       "      <td>1965.0</td>\n",
       "      <td>107810.0</td>\n",
       "      <td>444749.313642</td>\n",
       "      <td>606666.986034</td>\n",
       "      <td>0.275311</td>\n",
       "    </tr>\n",
       "    <tr>\n",
       "      <th>14084</th>\n",
       "      <td>1.0</td>\n",
       "      <td>3.0</td>\n",
       "      <td>6037.0</td>\n",
       "      <td>1946.0</td>\n",
       "      <td>202149.0</td>\n",
       "      <td>444749.313642</td>\n",
       "      <td>292155.502458</td>\n",
       "      <td>0.116212</td>\n",
       "    </tr>\n",
       "    <tr>\n",
       "      <th>20947</th>\n",
       "      <td>3.0</td>\n",
       "      <td>5.0</td>\n",
       "      <td>6037.0</td>\n",
       "      <td>1970.0</td>\n",
       "      <td>323707.0</td>\n",
       "      <td>444749.313642</td>\n",
       "      <td>596224.707528</td>\n",
       "      <td>0.270029</td>\n",
       "    </tr>\n",
       "    <tr>\n",
       "      <th>4859</th>\n",
       "      <td>3.0</td>\n",
       "      <td>3.0</td>\n",
       "      <td>6037.0</td>\n",
       "      <td>1988.0</td>\n",
       "      <td>327843.0</td>\n",
       "      <td>444749.313642</td>\n",
       "      <td>351577.039671</td>\n",
       "      <td>0.146271</td>\n",
       "    </tr>\n",
       "    <tr>\n",
       "      <th>31937</th>\n",
       "      <td>2.5</td>\n",
       "      <td>4.0</td>\n",
       "      <td>6059.0</td>\n",
       "      <td>1990.0</td>\n",
       "      <td>616993.0</td>\n",
       "      <td>444749.313642</td>\n",
       "      <td>604180.729247</td>\n",
       "      <td>0.274054</td>\n",
       "    </tr>\n",
       "  </tbody>\n",
       "</table>\n",
       "<p>28405 rows × 8 columns</p>\n",
       "</div>"
      ],
      "text/plain": [
       "       bathroomcnt  bedroomcnt    fips  yearbuilt  taxvaluedollarcnt  \\\n",
       "26274          2.0         4.0  6059.0     1962.0           435025.0   \n",
       "32524          1.0         2.0  6037.0     1951.0           292396.0   \n",
       "19029          2.0         3.0  6037.0     1924.0           177234.0   \n",
       "39945          3.0         3.0  6037.0     1949.0           254176.0   \n",
       "24739          2.0         3.0  6037.0     1950.0           293620.0   \n",
       "...            ...         ...     ...        ...                ...   \n",
       "41307          2.5         4.0  6059.0     1965.0           107810.0   \n",
       "14084          1.0         3.0  6037.0     1946.0           202149.0   \n",
       "20947          3.0         5.0  6037.0     1970.0           323707.0   \n",
       "4859           3.0         3.0  6037.0     1988.0           327843.0   \n",
       "31937          2.5         4.0  6059.0     1990.0           616993.0   \n",
       "\n",
       "            baseline           yhat  calculatedfinishedsquarefeet  \n",
       "26274  444749.313642  427905.123037                      0.184882  \n",
       "32524  444749.313642  317515.321687                      0.129040  \n",
       "19029  444749.313642  619346.895648                      0.281726  \n",
       "39945  444749.313642  540283.929817                      0.241731  \n",
       "24739  444749.313642  386881.886049                      0.164130  \n",
       "...              ...            ...                           ...  \n",
       "41307  444749.313642  606666.986034                      0.275311  \n",
       "14084  444749.313642  292155.502458                      0.116212  \n",
       "20947  444749.313642  596224.707528                      0.270029  \n",
       "4859   444749.313642  351577.039671                      0.146271  \n",
       "31937  444749.313642  604180.729247                      0.274054  \n",
       "\n",
       "[28405 rows x 8 columns]"
      ]
     },
     "execution_count": 48,
     "metadata": {},
     "output_type": "execute_result"
    }
   ],
   "source": [
    "z = scaler_min_max(train, [\"calculatedfinishedsquarefeet\"])\n",
    "z"
   ]
  },
  {
   "cell_type": "code",
   "execution_count": 49,
   "id": "b5a7a8ff",
   "metadata": {},
   "outputs": [
    {
     "data": {
      "text/html": [
       "<div>\n",
       "<style scoped>\n",
       "    .dataframe tbody tr th:only-of-type {\n",
       "        vertical-align: middle;\n",
       "    }\n",
       "\n",
       "    .dataframe tbody tr th {\n",
       "        vertical-align: top;\n",
       "    }\n",
       "\n",
       "    .dataframe thead th {\n",
       "        text-align: right;\n",
       "    }\n",
       "</style>\n",
       "<table border=\"1\" class=\"dataframe\">\n",
       "  <thead>\n",
       "    <tr style=\"text-align: right;\">\n",
       "      <th></th>\n",
       "      <th>calculatedfinishedsquarefeet</th>\n",
       "    </tr>\n",
       "  </thead>\n",
       "  <tbody>\n",
       "    <tr>\n",
       "      <th>26274</th>\n",
       "      <td>0.184882</td>\n",
       "    </tr>\n",
       "    <tr>\n",
       "      <th>32524</th>\n",
       "      <td>0.129040</td>\n",
       "    </tr>\n",
       "    <tr>\n",
       "      <th>19029</th>\n",
       "      <td>0.281726</td>\n",
       "    </tr>\n",
       "    <tr>\n",
       "      <th>39945</th>\n",
       "      <td>0.241731</td>\n",
       "    </tr>\n",
       "    <tr>\n",
       "      <th>24739</th>\n",
       "      <td>0.164130</td>\n",
       "    </tr>\n",
       "    <tr>\n",
       "      <th>...</th>\n",
       "      <td>...</td>\n",
       "    </tr>\n",
       "    <tr>\n",
       "      <th>41307</th>\n",
       "      <td>0.275311</td>\n",
       "    </tr>\n",
       "    <tr>\n",
       "      <th>14084</th>\n",
       "      <td>0.116212</td>\n",
       "    </tr>\n",
       "    <tr>\n",
       "      <th>20947</th>\n",
       "      <td>0.270029</td>\n",
       "    </tr>\n",
       "    <tr>\n",
       "      <th>4859</th>\n",
       "      <td>0.146271</td>\n",
       "    </tr>\n",
       "    <tr>\n",
       "      <th>31937</th>\n",
       "      <td>0.274054</td>\n",
       "    </tr>\n",
       "  </tbody>\n",
       "</table>\n",
       "<p>28405 rows × 1 columns</p>\n",
       "</div>"
      ],
      "text/plain": [
       "       calculatedfinishedsquarefeet\n",
       "26274                      0.184882\n",
       "32524                      0.129040\n",
       "19029                      0.281726\n",
       "39945                      0.241731\n",
       "24739                      0.164130\n",
       "...                             ...\n",
       "41307                      0.275311\n",
       "14084                      0.116212\n",
       "20947                      0.270029\n",
       "4859                       0.146271\n",
       "31937                      0.274054\n",
       "\n",
       "[28405 rows x 1 columns]"
      ]
     },
     "execution_count": 49,
     "metadata": {},
     "output_type": "execute_result"
    }
   ],
   "source": [
    "z = z.drop(columns=[\"bathroomcnt\",\"bedroomcnt\",\"fips\",\"yearbuilt\",\"baseline\",\"yhat\",\"taxvaluedollarcnt\"])\n",
    "z"
   ]
  },
  {
   "cell_type": "code",
   "execution_count": 50,
   "id": "aa25ec8a",
   "metadata": {},
   "outputs": [
    {
     "data": {
      "text/html": [
       "<div>\n",
       "<style scoped>\n",
       "    .dataframe tbody tr th:only-of-type {\n",
       "        vertical-align: middle;\n",
       "    }\n",
       "\n",
       "    .dataframe tbody tr th {\n",
       "        vertical-align: top;\n",
       "    }\n",
       "\n",
       "    .dataframe thead th {\n",
       "        text-align: right;\n",
       "    }\n",
       "</style>\n",
       "<table border=\"1\" class=\"dataframe\">\n",
       "  <thead>\n",
       "    <tr style=\"text-align: right;\">\n",
       "      <th></th>\n",
       "      <th>bathroomcnt</th>\n",
       "      <th>bedroomcnt</th>\n",
       "      <th>calculatedfinishedsquarefeet</th>\n",
       "      <th>fips</th>\n",
       "      <th>yearbuilt</th>\n",
       "      <th>taxvaluedollarcnt</th>\n",
       "      <th>baseline</th>\n",
       "      <th>yhat</th>\n",
       "      <th>scaled_squarefeet</th>\n",
       "    </tr>\n",
       "  </thead>\n",
       "  <tbody>\n",
       "    <tr>\n",
       "      <th>26274</th>\n",
       "      <td>2.0</td>\n",
       "      <td>4.0</td>\n",
       "      <td>1770.0</td>\n",
       "      <td>6059.0</td>\n",
       "      <td>1962.0</td>\n",
       "      <td>435025.0</td>\n",
       "      <td>444749.313642</td>\n",
       "      <td>427905.123037</td>\n",
       "      <td>0.184882</td>\n",
       "    </tr>\n",
       "    <tr>\n",
       "      <th>32524</th>\n",
       "      <td>1.0</td>\n",
       "      <td>2.0</td>\n",
       "      <td>1326.0</td>\n",
       "      <td>6037.0</td>\n",
       "      <td>1951.0</td>\n",
       "      <td>292396.0</td>\n",
       "      <td>444749.313642</td>\n",
       "      <td>317515.321687</td>\n",
       "      <td>0.129040</td>\n",
       "    </tr>\n",
       "    <tr>\n",
       "      <th>19029</th>\n",
       "      <td>2.0</td>\n",
       "      <td>3.0</td>\n",
       "      <td>2540.0</td>\n",
       "      <td>6037.0</td>\n",
       "      <td>1924.0</td>\n",
       "      <td>177234.0</td>\n",
       "      <td>444749.313642</td>\n",
       "      <td>619346.895648</td>\n",
       "      <td>0.281726</td>\n",
       "    </tr>\n",
       "    <tr>\n",
       "      <th>39945</th>\n",
       "      <td>3.0</td>\n",
       "      <td>3.0</td>\n",
       "      <td>2222.0</td>\n",
       "      <td>6037.0</td>\n",
       "      <td>1949.0</td>\n",
       "      <td>254176.0</td>\n",
       "      <td>444749.313642</td>\n",
       "      <td>540283.929817</td>\n",
       "      <td>0.241731</td>\n",
       "    </tr>\n",
       "    <tr>\n",
       "      <th>24739</th>\n",
       "      <td>2.0</td>\n",
       "      <td>3.0</td>\n",
       "      <td>1605.0</td>\n",
       "      <td>6037.0</td>\n",
       "      <td>1950.0</td>\n",
       "      <td>293620.0</td>\n",
       "      <td>444749.313642</td>\n",
       "      <td>386881.886049</td>\n",
       "      <td>0.164130</td>\n",
       "    </tr>\n",
       "    <tr>\n",
       "      <th>...</th>\n",
       "      <td>...</td>\n",
       "      <td>...</td>\n",
       "      <td>...</td>\n",
       "      <td>...</td>\n",
       "      <td>...</td>\n",
       "      <td>...</td>\n",
       "      <td>...</td>\n",
       "      <td>...</td>\n",
       "      <td>...</td>\n",
       "    </tr>\n",
       "    <tr>\n",
       "      <th>41307</th>\n",
       "      <td>2.5</td>\n",
       "      <td>4.0</td>\n",
       "      <td>2489.0</td>\n",
       "      <td>6059.0</td>\n",
       "      <td>1965.0</td>\n",
       "      <td>107810.0</td>\n",
       "      <td>444749.313642</td>\n",
       "      <td>606666.986034</td>\n",
       "      <td>0.275311</td>\n",
       "    </tr>\n",
       "    <tr>\n",
       "      <th>14084</th>\n",
       "      <td>1.0</td>\n",
       "      <td>3.0</td>\n",
       "      <td>1224.0</td>\n",
       "      <td>6037.0</td>\n",
       "      <td>1946.0</td>\n",
       "      <td>202149.0</td>\n",
       "      <td>444749.313642</td>\n",
       "      <td>292155.502458</td>\n",
       "      <td>0.116212</td>\n",
       "    </tr>\n",
       "    <tr>\n",
       "      <th>20947</th>\n",
       "      <td>3.0</td>\n",
       "      <td>5.0</td>\n",
       "      <td>2447.0</td>\n",
       "      <td>6037.0</td>\n",
       "      <td>1970.0</td>\n",
       "      <td>323707.0</td>\n",
       "      <td>444749.313642</td>\n",
       "      <td>596224.707528</td>\n",
       "      <td>0.270029</td>\n",
       "    </tr>\n",
       "    <tr>\n",
       "      <th>4859</th>\n",
       "      <td>3.0</td>\n",
       "      <td>3.0</td>\n",
       "      <td>1463.0</td>\n",
       "      <td>6037.0</td>\n",
       "      <td>1988.0</td>\n",
       "      <td>327843.0</td>\n",
       "      <td>444749.313642</td>\n",
       "      <td>351577.039671</td>\n",
       "      <td>0.146271</td>\n",
       "    </tr>\n",
       "    <tr>\n",
       "      <th>31937</th>\n",
       "      <td>2.5</td>\n",
       "      <td>4.0</td>\n",
       "      <td>2479.0</td>\n",
       "      <td>6059.0</td>\n",
       "      <td>1990.0</td>\n",
       "      <td>616993.0</td>\n",
       "      <td>444749.313642</td>\n",
       "      <td>604180.729247</td>\n",
       "      <td>0.274054</td>\n",
       "    </tr>\n",
       "  </tbody>\n",
       "</table>\n",
       "<p>28405 rows × 9 columns</p>\n",
       "</div>"
      ],
      "text/plain": [
       "       bathroomcnt  bedroomcnt  calculatedfinishedsquarefeet    fips  \\\n",
       "26274          2.0         4.0                        1770.0  6059.0   \n",
       "32524          1.0         2.0                        1326.0  6037.0   \n",
       "19029          2.0         3.0                        2540.0  6037.0   \n",
       "39945          3.0         3.0                        2222.0  6037.0   \n",
       "24739          2.0         3.0                        1605.0  6037.0   \n",
       "...            ...         ...                           ...     ...   \n",
       "41307          2.5         4.0                        2489.0  6059.0   \n",
       "14084          1.0         3.0                        1224.0  6037.0   \n",
       "20947          3.0         5.0                        2447.0  6037.0   \n",
       "4859           3.0         3.0                        1463.0  6037.0   \n",
       "31937          2.5         4.0                        2479.0  6059.0   \n",
       "\n",
       "       yearbuilt  taxvaluedollarcnt       baseline           yhat  \\\n",
       "26274     1962.0           435025.0  444749.313642  427905.123037   \n",
       "32524     1951.0           292396.0  444749.313642  317515.321687   \n",
       "19029     1924.0           177234.0  444749.313642  619346.895648   \n",
       "39945     1949.0           254176.0  444749.313642  540283.929817   \n",
       "24739     1950.0           293620.0  444749.313642  386881.886049   \n",
       "...          ...                ...            ...            ...   \n",
       "41307     1965.0           107810.0  444749.313642  606666.986034   \n",
       "14084     1946.0           202149.0  444749.313642  292155.502458   \n",
       "20947     1970.0           323707.0  444749.313642  596224.707528   \n",
       "4859      1988.0           327843.0  444749.313642  351577.039671   \n",
       "31937     1990.0           616993.0  444749.313642  604180.729247   \n",
       "\n",
       "       scaled_squarefeet  \n",
       "26274           0.184882  \n",
       "32524           0.129040  \n",
       "19029           0.281726  \n",
       "39945           0.241731  \n",
       "24739           0.164130  \n",
       "...                  ...  \n",
       "41307           0.275311  \n",
       "14084           0.116212  \n",
       "20947           0.270029  \n",
       "4859            0.146271  \n",
       "31937           0.274054  \n",
       "\n",
       "[28405 rows x 9 columns]"
      ]
     },
     "execution_count": 50,
     "metadata": {},
     "output_type": "execute_result"
    }
   ],
   "source": [
    "train[\"scaled_squarefeet\"] = z\n",
    "train"
   ]
  },
  {
   "cell_type": "code",
   "execution_count": 51,
   "id": "ba7a9e21",
   "metadata": {},
   "outputs": [
    {
     "data": {
      "text/html": [
       "<div>\n",
       "<style scoped>\n",
       "    .dataframe tbody tr th:only-of-type {\n",
       "        vertical-align: middle;\n",
       "    }\n",
       "\n",
       "    .dataframe tbody tr th {\n",
       "        vertical-align: top;\n",
       "    }\n",
       "\n",
       "    .dataframe thead th {\n",
       "        text-align: right;\n",
       "    }\n",
       "</style>\n",
       "<table border=\"1\" class=\"dataframe\">\n",
       "  <thead>\n",
       "    <tr style=\"text-align: right;\">\n",
       "      <th></th>\n",
       "      <th>bathroomcnt</th>\n",
       "      <th>bedroomcnt</th>\n",
       "      <th>calculatedfinishedsquarefeet</th>\n",
       "      <th>fips</th>\n",
       "      <th>yearbuilt</th>\n",
       "      <th>taxvaluedollarcnt</th>\n",
       "      <th>baseline</th>\n",
       "      <th>yhat</th>\n",
       "      <th>scaled_squarefeet</th>\n",
       "    </tr>\n",
       "  </thead>\n",
       "  <tbody>\n",
       "    <tr>\n",
       "      <th>26274</th>\n",
       "      <td>2.0</td>\n",
       "      <td>4.0</td>\n",
       "      <td>1770.0</td>\n",
       "      <td>6059.0</td>\n",
       "      <td>1962.0</td>\n",
       "      <td>435025.0</td>\n",
       "      <td>444749.313642</td>\n",
       "      <td>427905.123037</td>\n",
       "      <td>0.184882</td>\n",
       "    </tr>\n",
       "    <tr>\n",
       "      <th>32524</th>\n",
       "      <td>1.0</td>\n",
       "      <td>2.0</td>\n",
       "      <td>1326.0</td>\n",
       "      <td>6037.0</td>\n",
       "      <td>1951.0</td>\n",
       "      <td>292396.0</td>\n",
       "      <td>444749.313642</td>\n",
       "      <td>317515.321687</td>\n",
       "      <td>0.129040</td>\n",
       "    </tr>\n",
       "    <tr>\n",
       "      <th>19029</th>\n",
       "      <td>2.0</td>\n",
       "      <td>3.0</td>\n",
       "      <td>2540.0</td>\n",
       "      <td>6037.0</td>\n",
       "      <td>1924.0</td>\n",
       "      <td>177234.0</td>\n",
       "      <td>444749.313642</td>\n",
       "      <td>619346.895648</td>\n",
       "      <td>0.281726</td>\n",
       "    </tr>\n",
       "    <tr>\n",
       "      <th>39945</th>\n",
       "      <td>3.0</td>\n",
       "      <td>3.0</td>\n",
       "      <td>2222.0</td>\n",
       "      <td>6037.0</td>\n",
       "      <td>1949.0</td>\n",
       "      <td>254176.0</td>\n",
       "      <td>444749.313642</td>\n",
       "      <td>540283.929817</td>\n",
       "      <td>0.241731</td>\n",
       "    </tr>\n",
       "    <tr>\n",
       "      <th>24739</th>\n",
       "      <td>2.0</td>\n",
       "      <td>3.0</td>\n",
       "      <td>1605.0</td>\n",
       "      <td>6037.0</td>\n",
       "      <td>1950.0</td>\n",
       "      <td>293620.0</td>\n",
       "      <td>444749.313642</td>\n",
       "      <td>386881.886049</td>\n",
       "      <td>0.164130</td>\n",
       "    </tr>\n",
       "  </tbody>\n",
       "</table>\n",
       "</div>"
      ],
      "text/plain": [
       "       bathroomcnt  bedroomcnt  calculatedfinishedsquarefeet    fips  \\\n",
       "26274          2.0         4.0                        1770.0  6059.0   \n",
       "32524          1.0         2.0                        1326.0  6037.0   \n",
       "19029          2.0         3.0                        2540.0  6037.0   \n",
       "39945          3.0         3.0                        2222.0  6037.0   \n",
       "24739          2.0         3.0                        1605.0  6037.0   \n",
       "\n",
       "       yearbuilt  taxvaluedollarcnt       baseline           yhat  \\\n",
       "26274     1962.0           435025.0  444749.313642  427905.123037   \n",
       "32524     1951.0           292396.0  444749.313642  317515.321687   \n",
       "19029     1924.0           177234.0  444749.313642  619346.895648   \n",
       "39945     1949.0           254176.0  444749.313642  540283.929817   \n",
       "24739     1950.0           293620.0  444749.313642  386881.886049   \n",
       "\n",
       "       scaled_squarefeet  \n",
       "26274           0.184882  \n",
       "32524           0.129040  \n",
       "19029           0.281726  \n",
       "39945           0.241731  \n",
       "24739           0.164130  "
      ]
     },
     "execution_count": 51,
     "metadata": {},
     "output_type": "execute_result"
    }
   ],
   "source": [
    "train.head()"
   ]
  },
  {
   "cell_type": "markdown",
   "id": "a6c1f697",
   "metadata": {},
   "source": [
    "Target variables usually don't have to be scaled\n",
    "\n",
    "We scale for the machine so that the machince can easily read out the data\n",
    "\n",
    "So that it sees them as a change in one to a change equal to another"
   ]
  },
  {
   "cell_type": "markdown",
   "id": "75b3e1ab",
   "metadata": {},
   "source": [
    "I am going to try to model the data now that I have some scaled stuff"
   ]
  },
  {
   "cell_type": "code",
   "execution_count": 52,
   "id": "4d1f5f0c",
   "metadata": {},
   "outputs": [
    {
     "name": "stdout",
     "output_type": "stream",
     "text": [
      "RMSE using Mean\n",
      "Train/In-Sample:  355302.21 \n",
      "Validate/Out-of-Sample:  351801.88\n",
      "RMSE using Median\n",
      "Train/In-Sample:  364345.33 \n",
      "Validate/Out-of-Sample:  361109.96 \n",
      "Origincal baseline: 444749.31\n"
     ]
    }
   ],
   "source": [
    "# We need y_train and y_validate to be dataframes to append the new columns with predicted values. \n",
    "y_train = pd.DataFrame(train.taxvaluedollarcnt)\n",
    "y_validate = pd.DataFrame(validate.taxvaluedollarcnt)\n",
    "\n",
    "# 1. Predict price_pred_mean\n",
    "price_pred_mean = y_train['taxvaluedollarcnt'].mean()\n",
    "y_train['price_pred_mean'] = price_pred_mean\n",
    "y_validate['price_pred_mean'] = price_pred_mean\n",
    "\n",
    "# 2. compute price_pred_median\n",
    "price_pred_median = y_train['taxvaluedollarcnt'].median()\n",
    "y_train['price_pred_median'] = price_pred_median\n",
    "y_validate['price_pred_median'] = price_pred_median\n",
    "\n",
    "# 3. RMSE of price_pred_mean\n",
    "rmse_train = mean_squared_error(y_train.taxvaluedollarcnt, y_train.price_pred_mean)**(1/2)\n",
    "rmse_validate = mean_squared_error(y_validate.taxvaluedollarcnt, y_validate.price_pred_mean)**(1/2)\n",
    "\n",
    "print(\"RMSE using Mean\\nTrain/In-Sample: \", round(rmse_train, 2), \n",
    "      \"\\nValidate/Out-of-Sample: \", round(rmse_validate, 2))\n",
    "\n",
    "# 4. RMSE of price_pred_median\n",
    "rmse_train = mean_squared_error(y_train.taxvaluedollarcnt, y_train.price_pred_median)**(1/2)\n",
    "rmse_validate = mean_squared_error(y_validate.taxvaluedollarcnt, y_validate.price_pred_median)**(1/2)\n",
    "\n",
    "print(\"RMSE using Median\\nTrain/In-Sample: \", round(rmse_train, 2), \n",
    "      \"\\nValidate/Out-of-Sample: \", round(rmse_validate, 2),\n",
    "     \"\\nOrigincal baseline:\", round(baseline, 2))"
   ]
  },
  {
   "cell_type": "code",
   "execution_count": 53,
   "id": "5f2d5d16",
   "metadata": {},
   "outputs": [
    {
     "data": {
      "text/html": [
       "<div>\n",
       "<style scoped>\n",
       "    .dataframe tbody tr th:only-of-type {\n",
       "        vertical-align: middle;\n",
       "    }\n",
       "\n",
       "    .dataframe tbody tr th {\n",
       "        vertical-align: top;\n",
       "    }\n",
       "\n",
       "    .dataframe thead th {\n",
       "        text-align: right;\n",
       "    }\n",
       "</style>\n",
       "<table border=\"1\" class=\"dataframe\">\n",
       "  <thead>\n",
       "    <tr style=\"text-align: right;\">\n",
       "      <th></th>\n",
       "      <th>calculatedfinishedsquarefeet</th>\n",
       "    </tr>\n",
       "  </thead>\n",
       "  <tbody>\n",
       "    <tr>\n",
       "      <th>26274</th>\n",
       "      <td>1770.0</td>\n",
       "    </tr>\n",
       "    <tr>\n",
       "      <th>32524</th>\n",
       "      <td>1326.0</td>\n",
       "    </tr>\n",
       "    <tr>\n",
       "      <th>19029</th>\n",
       "      <td>2540.0</td>\n",
       "    </tr>\n",
       "    <tr>\n",
       "      <th>39945</th>\n",
       "      <td>2222.0</td>\n",
       "    </tr>\n",
       "    <tr>\n",
       "      <th>24739</th>\n",
       "      <td>1605.0</td>\n",
       "    </tr>\n",
       "  </tbody>\n",
       "</table>\n",
       "</div>"
      ],
      "text/plain": [
       "       calculatedfinishedsquarefeet\n",
       "26274                        1770.0\n",
       "32524                        1326.0\n",
       "19029                        2540.0\n",
       "39945                        2222.0\n",
       "24739                        1605.0"
      ]
     },
     "execution_count": 53,
     "metadata": {},
     "output_type": "execute_result"
    }
   ],
   "source": [
    "X_train.head()"
   ]
  },
  {
   "cell_type": "code",
   "execution_count": 54,
   "id": "f5ec6431",
   "metadata": {},
   "outputs": [
    {
     "name": "stdout",
     "output_type": "stream",
     "text": [
      "RMSE for OLS using LinearRegression\n",
      "Training/In-Sample:  291397.4447750423 \n",
      "Validation/Out-of-Sample:  288308.6220619157\n"
     ]
    }
   ],
   "source": [
    "# create the model object\n",
    "lm = LinearRegression(normalize=True)\n",
    "\n",
    "# fit the model to our training data. We must specify the column in y_train, \n",
    "# since we have converted it to a dataframe from a series! \n",
    "lm.fit(X_train, y_train.taxvaluedollarcnt)\n",
    "\n",
    "# predict train\n",
    "y_train['price_pred_lm'] = lm.predict(X_train)\n",
    "\n",
    "# evaluate: rmse\n",
    "rmse_train = mean_squared_error(y_train.taxvaluedollarcnt, y_train.price_pred_lm)**(1/2)\n",
    "\n",
    "# predict validate\n",
    "y_validate['price_pred_lm'] = lm.predict(X_validate)\n",
    "\n",
    "# evaluate: rmse\n",
    "rmse_validate = mean_squared_error(y_validate.taxvaluedollarcnt, y_validate.price_pred_lm)**(1/2)\n",
    "\n",
    "print(\"RMSE for OLS using LinearRegression\\nTraining/In-Sample: \", rmse_train, \n",
    "      \"\\nValidation/Out-of-Sample: \", rmse_validate)"
   ]
  },
  {
   "cell_type": "code",
   "execution_count": 55,
   "id": "e5160038",
   "metadata": {},
   "outputs": [
    {
     "data": {
      "text/html": [
       "<div>\n",
       "<style scoped>\n",
       "    .dataframe tbody tr th:only-of-type {\n",
       "        vertical-align: middle;\n",
       "    }\n",
       "\n",
       "    .dataframe tbody tr th {\n",
       "        vertical-align: top;\n",
       "    }\n",
       "\n",
       "    .dataframe thead th {\n",
       "        text-align: right;\n",
       "    }\n",
       "</style>\n",
       "<table border=\"1\" class=\"dataframe\">\n",
       "  <thead>\n",
       "    <tr style=\"text-align: right;\">\n",
       "      <th></th>\n",
       "      <th>calculatedfinishedsquarefeet</th>\n",
       "    </tr>\n",
       "  </thead>\n",
       "  <tbody>\n",
       "    <tr>\n",
       "      <th>39322</th>\n",
       "      <td>1585.0</td>\n",
       "    </tr>\n",
       "    <tr>\n",
       "      <th>22723</th>\n",
       "      <td>2556.0</td>\n",
       "    </tr>\n",
       "    <tr>\n",
       "      <th>279</th>\n",
       "      <td>1815.0</td>\n",
       "    </tr>\n",
       "    <tr>\n",
       "      <th>15798</th>\n",
       "      <td>1565.0</td>\n",
       "    </tr>\n",
       "    <tr>\n",
       "      <th>37822</th>\n",
       "      <td>3326.0</td>\n",
       "    </tr>\n",
       "  </tbody>\n",
       "</table>\n",
       "</div>"
      ],
      "text/plain": [
       "       calculatedfinishedsquarefeet\n",
       "39322                        1585.0\n",
       "22723                        2556.0\n",
       "279                          1815.0\n",
       "15798                        1565.0\n",
       "37822                        3326.0"
      ]
     },
     "execution_count": 55,
     "metadata": {},
     "output_type": "execute_result"
    }
   ],
   "source": [
    "X_validate.head()"
   ]
  },
  {
   "cell_type": "code",
   "execution_count": 56,
   "id": "12e727e0",
   "metadata": {},
   "outputs": [
    {
     "data": {
      "text/plain": [
       "(28405, 1)"
      ]
     },
     "execution_count": 56,
     "metadata": {},
     "output_type": "execute_result"
    }
   ],
   "source": [
    "X_train.shape"
   ]
  },
  {
   "cell_type": "code",
   "execution_count": 57,
   "id": "11482c5b",
   "metadata": {},
   "outputs": [
    {
     "data": {
      "text/plain": [
       "(12174, 1)"
      ]
     },
     "execution_count": 57,
     "metadata": {},
     "output_type": "execute_result"
    }
   ],
   "source": [
    "X_validate.shape"
   ]
  },
  {
   "cell_type": "code",
   "execution_count": 58,
   "id": "399a804b",
   "metadata": {},
   "outputs": [
    {
     "data": {
      "text/plain": [
       "(28405, 1)"
      ]
     },
     "execution_count": 58,
     "metadata": {},
     "output_type": "execute_result"
    }
   ],
   "source": [
    "z.shape\n",
    "#this tells us that z is already test split"
   ]
  },
  {
   "cell_type": "code",
   "execution_count": null,
   "id": "7d69ad81",
   "metadata": {},
   "outputs": [],
   "source": []
  },
  {
   "cell_type": "code",
   "execution_count": 59,
   "id": "da6c59fc",
   "metadata": {},
   "outputs": [
    {
     "name": "stdout",
     "output_type": "stream",
     "text": [
      "RMSE for OLS using LinearRegression\n",
      "Training/In-Sample:  291397.4447750423 \n",
      "Validation/Out-of-Sample:  4030897268.7623267\n"
     ]
    }
   ],
   "source": [
    "# create the model object\n",
    "lm = LinearRegression(normalize=True)\n",
    "\n",
    "# fit the model to our training data. We must specify the column in y_train, \n",
    "# since we have converted it to a dataframe from a series! \n",
    "lm.fit(z, y_train.taxvaluedollarcnt)\n",
    "\n",
    "# predict train\n",
    "y_train['price_pred_lm'] = lm.predict(z)\n",
    "\n",
    "# evaluate: rmse\n",
    "rmse_train = mean_squared_error(y_train.taxvaluedollarcnt, y_train.price_pred_lm)**(1/2)\n",
    "\n",
    "# predict validate\n",
    "y_validate['price_pred_lm'] = lm.predict(X_validate)\n",
    "\n",
    "# evaluate: rmse\n",
    "rmse_validate = mean_squared_error(y_validate.taxvaluedollarcnt, y_validate.price_pred_lm)**(1/2)\n",
    "\n",
    "print(\"RMSE for OLS using LinearRegression\\nTraining/In-Sample: \", rmse_train, \n",
    "      \"\\nValidation/Out-of-Sample: \", rmse_validate)"
   ]
  },
  {
   "cell_type": "code",
   "execution_count": 60,
   "id": "91136507",
   "metadata": {},
   "outputs": [],
   "source": [
    "def scale_data(train, \n",
    "               validate, \n",
    "               test, \n",
    "               columns_to_scale=['bedroomcnt', 'bathroomcnt', 'yearbuilt', 'calculatedfinishedsquarefeet'],\n",
    "               return_scaler=False):\n",
    "    '''\n",
    "    Scales the 3 data splits. \n",
    "    Takes in train, validate, and test data splits and returns their scaled counterparts.\n",
    "    If return_scalar is True, the scaler object will be returned as well\n",
    "    '''\n",
    "    train_scaled = train.copy()\n",
    "    validate_scaled = validate.copy()\n",
    "    test_scaled = test.copy()\n",
    "    \n",
    "    scaler = MinMaxScaler()\n",
    "    scaler.fit(train[columns_to_scale])\n",
    "    \n",
    "    train_scaled[columns_to_scale] = pd.DataFrame(scaler.transform(train[columns_to_scale]),\n",
    "                                                  columns=train[columns_to_scale].columns.values).set_index([train.index.values])\n",
    "                                                  \n",
    "    validate_scaled[columns_to_scale] = pd.DataFrame(scaler.transform(validate[columns_to_scale]),\n",
    "                                                  columns=validate[columns_to_scale].columns.values).set_index([validate.index.values])\n",
    "    \n",
    "    test_scaled[columns_to_scale] = pd.DataFrame(scaler.transform(test[columns_to_scale]),\n",
    "                                                 columns=test[columns_to_scale].columns.values).set_index([test.index.values])\n",
    "    \n",
    "    if return_scaler:\n",
    "        return scaler, train_scaled, validate_scaled, test_scaled\n",
    "    else:\n",
    "        return train_scaled, validate_scaled, test_scaled"
   ]
  },
  {
   "cell_type": "code",
   "execution_count": 61,
   "id": "27810b16",
   "metadata": {},
   "outputs": [],
   "source": [
    "scaler, train_scaled, validate_scaled, test_scaled = scale_data(train, validate, test, return_scaler=True)"
   ]
  },
  {
   "cell_type": "code",
   "execution_count": 62,
   "id": "579c65fa",
   "metadata": {},
   "outputs": [
    {
     "data": {
      "text/html": [
       "<div>\n",
       "<style scoped>\n",
       "    .dataframe tbody tr th:only-of-type {\n",
       "        vertical-align: middle;\n",
       "    }\n",
       "\n",
       "    .dataframe tbody tr th {\n",
       "        vertical-align: top;\n",
       "    }\n",
       "\n",
       "    .dataframe thead th {\n",
       "        text-align: right;\n",
       "    }\n",
       "</style>\n",
       "<table border=\"1\" class=\"dataframe\">\n",
       "  <thead>\n",
       "    <tr style=\"text-align: right;\">\n",
       "      <th></th>\n",
       "      <th>bathroomcnt</th>\n",
       "      <th>bedroomcnt</th>\n",
       "      <th>calculatedfinishedsquarefeet</th>\n",
       "      <th>fips</th>\n",
       "      <th>yearbuilt</th>\n",
       "      <th>taxvaluedollarcnt</th>\n",
       "      <th>baseline</th>\n",
       "      <th>yhat</th>\n",
       "      <th>scaled_squarefeet</th>\n",
       "    </tr>\n",
       "  </thead>\n",
       "  <tbody>\n",
       "    <tr>\n",
       "      <th>26274</th>\n",
       "      <td>0.2</td>\n",
       "      <td>0.6</td>\n",
       "      <td>0.184882</td>\n",
       "      <td>6059.0</td>\n",
       "      <td>0.608696</td>\n",
       "      <td>435025.0</td>\n",
       "      <td>444749.313642</td>\n",
       "      <td>427905.123037</td>\n",
       "      <td>0.184882</td>\n",
       "    </tr>\n",
       "    <tr>\n",
       "      <th>32524</th>\n",
       "      <td>0.0</td>\n",
       "      <td>0.2</td>\n",
       "      <td>0.129040</td>\n",
       "      <td>6037.0</td>\n",
       "      <td>0.528986</td>\n",
       "      <td>292396.0</td>\n",
       "      <td>444749.313642</td>\n",
       "      <td>317515.321687</td>\n",
       "      <td>0.129040</td>\n",
       "    </tr>\n",
       "    <tr>\n",
       "      <th>19029</th>\n",
       "      <td>0.2</td>\n",
       "      <td>0.4</td>\n",
       "      <td>0.281726</td>\n",
       "      <td>6037.0</td>\n",
       "      <td>0.333333</td>\n",
       "      <td>177234.0</td>\n",
       "      <td>444749.313642</td>\n",
       "      <td>619346.895648</td>\n",
       "      <td>0.281726</td>\n",
       "    </tr>\n",
       "    <tr>\n",
       "      <th>39945</th>\n",
       "      <td>0.4</td>\n",
       "      <td>0.4</td>\n",
       "      <td>0.241731</td>\n",
       "      <td>6037.0</td>\n",
       "      <td>0.514493</td>\n",
       "      <td>254176.0</td>\n",
       "      <td>444749.313642</td>\n",
       "      <td>540283.929817</td>\n",
       "      <td>0.241731</td>\n",
       "    </tr>\n",
       "    <tr>\n",
       "      <th>24739</th>\n",
       "      <td>0.2</td>\n",
       "      <td>0.4</td>\n",
       "      <td>0.164130</td>\n",
       "      <td>6037.0</td>\n",
       "      <td>0.521739</td>\n",
       "      <td>293620.0</td>\n",
       "      <td>444749.313642</td>\n",
       "      <td>386881.886049</td>\n",
       "      <td>0.164130</td>\n",
       "    </tr>\n",
       "    <tr>\n",
       "      <th>...</th>\n",
       "      <td>...</td>\n",
       "      <td>...</td>\n",
       "      <td>...</td>\n",
       "      <td>...</td>\n",
       "      <td>...</td>\n",
       "      <td>...</td>\n",
       "      <td>...</td>\n",
       "      <td>...</td>\n",
       "      <td>...</td>\n",
       "    </tr>\n",
       "    <tr>\n",
       "      <th>41307</th>\n",
       "      <td>0.3</td>\n",
       "      <td>0.6</td>\n",
       "      <td>0.275311</td>\n",
       "      <td>6059.0</td>\n",
       "      <td>0.630435</td>\n",
       "      <td>107810.0</td>\n",
       "      <td>444749.313642</td>\n",
       "      <td>606666.986034</td>\n",
       "      <td>0.275311</td>\n",
       "    </tr>\n",
       "    <tr>\n",
       "      <th>14084</th>\n",
       "      <td>0.0</td>\n",
       "      <td>0.4</td>\n",
       "      <td>0.116212</td>\n",
       "      <td>6037.0</td>\n",
       "      <td>0.492754</td>\n",
       "      <td>202149.0</td>\n",
       "      <td>444749.313642</td>\n",
       "      <td>292155.502458</td>\n",
       "      <td>0.116212</td>\n",
       "    </tr>\n",
       "    <tr>\n",
       "      <th>20947</th>\n",
       "      <td>0.4</td>\n",
       "      <td>0.8</td>\n",
       "      <td>0.270029</td>\n",
       "      <td>6037.0</td>\n",
       "      <td>0.666667</td>\n",
       "      <td>323707.0</td>\n",
       "      <td>444749.313642</td>\n",
       "      <td>596224.707528</td>\n",
       "      <td>0.270029</td>\n",
       "    </tr>\n",
       "    <tr>\n",
       "      <th>4859</th>\n",
       "      <td>0.4</td>\n",
       "      <td>0.4</td>\n",
       "      <td>0.146271</td>\n",
       "      <td>6037.0</td>\n",
       "      <td>0.797101</td>\n",
       "      <td>327843.0</td>\n",
       "      <td>444749.313642</td>\n",
       "      <td>351577.039671</td>\n",
       "      <td>0.146271</td>\n",
       "    </tr>\n",
       "    <tr>\n",
       "      <th>31937</th>\n",
       "      <td>0.3</td>\n",
       "      <td>0.6</td>\n",
       "      <td>0.274054</td>\n",
       "      <td>6059.0</td>\n",
       "      <td>0.811594</td>\n",
       "      <td>616993.0</td>\n",
       "      <td>444749.313642</td>\n",
       "      <td>604180.729247</td>\n",
       "      <td>0.274054</td>\n",
       "    </tr>\n",
       "  </tbody>\n",
       "</table>\n",
       "<p>28405 rows × 9 columns</p>\n",
       "</div>"
      ],
      "text/plain": [
       "       bathroomcnt  bedroomcnt  calculatedfinishedsquarefeet    fips  \\\n",
       "26274          0.2         0.6                      0.184882  6059.0   \n",
       "32524          0.0         0.2                      0.129040  6037.0   \n",
       "19029          0.2         0.4                      0.281726  6037.0   \n",
       "39945          0.4         0.4                      0.241731  6037.0   \n",
       "24739          0.2         0.4                      0.164130  6037.0   \n",
       "...            ...         ...                           ...     ...   \n",
       "41307          0.3         0.6                      0.275311  6059.0   \n",
       "14084          0.0         0.4                      0.116212  6037.0   \n",
       "20947          0.4         0.8                      0.270029  6037.0   \n",
       "4859           0.4         0.4                      0.146271  6037.0   \n",
       "31937          0.3         0.6                      0.274054  6059.0   \n",
       "\n",
       "       yearbuilt  taxvaluedollarcnt       baseline           yhat  \\\n",
       "26274   0.608696           435025.0  444749.313642  427905.123037   \n",
       "32524   0.528986           292396.0  444749.313642  317515.321687   \n",
       "19029   0.333333           177234.0  444749.313642  619346.895648   \n",
       "39945   0.514493           254176.0  444749.313642  540283.929817   \n",
       "24739   0.521739           293620.0  444749.313642  386881.886049   \n",
       "...          ...                ...            ...            ...   \n",
       "41307   0.630435           107810.0  444749.313642  606666.986034   \n",
       "14084   0.492754           202149.0  444749.313642  292155.502458   \n",
       "20947   0.666667           323707.0  444749.313642  596224.707528   \n",
       "4859    0.797101           327843.0  444749.313642  351577.039671   \n",
       "31937   0.811594           616993.0  444749.313642  604180.729247   \n",
       "\n",
       "       scaled_squarefeet  \n",
       "26274           0.184882  \n",
       "32524           0.129040  \n",
       "19029           0.281726  \n",
       "39945           0.241731  \n",
       "24739           0.164130  \n",
       "...                  ...  \n",
       "41307           0.275311  \n",
       "14084           0.116212  \n",
       "20947           0.270029  \n",
       "4859            0.146271  \n",
       "31937           0.274054  \n",
       "\n",
       "[28405 rows x 9 columns]"
      ]
     },
     "execution_count": 62,
     "metadata": {},
     "output_type": "execute_result"
    }
   ],
   "source": [
    "train_scaled"
   ]
  },
  {
   "cell_type": "markdown",
   "id": "a53072a4",
   "metadata": {},
   "source": [
    "So now I have all of my features scaled apart from year and taxvaluedollar.\n",
    "\n",
    "Now with all of my features scaled to a MinMaxScaler I can now run models on it.\n",
    "\n",
    "I am going to want to split my features from target variable"
   ]
  },
  {
   "cell_type": "code",
   "execution_count": 63,
   "id": "9be53b85",
   "metadata": {},
   "outputs": [
    {
     "name": "stdout",
     "output_type": "stream",
     "text": [
      "RMSE using Mean\n",
      "Train/In-Sample:  355302.21 \n",
      "Validate/Out-of-Sample:  351801.88\n",
      "RMSE using Median\n",
      "Train/In-Sample:  364345.33 \n",
      "Validate/Out-of-Sample:  361109.96 \n",
      "Origincal baseline: 444749.31\n"
     ]
    }
   ],
   "source": [
    "# We need y_train and y_validate to be dataframes to append the new columns with predicted values. \n",
    "y_train = pd.DataFrame(train.taxvaluedollarcnt)\n",
    "y_validate = pd.DataFrame(validate.taxvaluedollarcnt)\n",
    "\n",
    "# 1. Predict price_pred_mean\n",
    "price_pred_mean = y_train['taxvaluedollarcnt'].mean()\n",
    "y_train['price_pred_mean'] = price_pred_mean\n",
    "y_validate['price_pred_mean'] = price_pred_mean\n",
    "\n",
    "# 2. compute price_pred_median\n",
    "price_pred_median = y_train['taxvaluedollarcnt'].median()\n",
    "y_train['price_pred_median'] = price_pred_median\n",
    "y_validate['price_pred_median'] = price_pred_median\n",
    "\n",
    "# 3. RMSE of price_pred_mean\n",
    "rmse_train = mean_squared_error(y_train.taxvaluedollarcnt, y_train.price_pred_mean)**(1/2)\n",
    "rmse_validate = mean_squared_error(y_validate.taxvaluedollarcnt, y_validate.price_pred_mean)**(1/2)\n",
    "\n",
    "print(\"RMSE using Mean\\nTrain/In-Sample: \", round(rmse_train, 2), \n",
    "      \"\\nValidate/Out-of-Sample: \", round(rmse_validate, 2))\n",
    "\n",
    "# 4. RMSE of price_pred_median\n",
    "rmse_train = mean_squared_error(y_train.taxvaluedollarcnt, y_train.price_pred_median)**(1/2)\n",
    "rmse_validate = mean_squared_error(y_validate.taxvaluedollarcnt, y_validate.price_pred_median)**(1/2)\n",
    "\n",
    "print(\"RMSE using Median\\nTrain/In-Sample: \", round(rmse_train, 2), \n",
    "      \"\\nValidate/Out-of-Sample: \", round(rmse_validate, 2),\n",
    "     \"\\nOrigincal baseline:\", round(baseline, 2))"
   ]
  },
  {
   "cell_type": "code",
   "execution_count": 64,
   "id": "a6240ca6",
   "metadata": {},
   "outputs": [],
   "source": [
    "from sklearn.linear_model import LinearRegression"
   ]
  },
  {
   "cell_type": "code",
   "execution_count": 65,
   "id": "d463e6f9",
   "metadata": {},
   "outputs": [],
   "source": [
    "#predicting y from trained data\n",
    "#predict rules\n",
    "model = LinearRegression().fit(train_scaled, train.taxvaluedollarcnt)\n",
    "predictions = model.predict(train_scaled)"
   ]
  },
  {
   "cell_type": "code",
   "execution_count": 66,
   "id": "97368d23",
   "metadata": {},
   "outputs": [],
   "source": [
    "#need error reading such as RMSE"
   ]
  },
  {
   "cell_type": "markdown",
   "id": "3f0a5c4f",
   "metadata": {},
   "source": [
    "From here it would be best practice"
   ]
  },
  {
   "cell_type": "code",
   "execution_count": 67,
   "id": "97f30491",
   "metadata": {},
   "outputs": [
    {
     "data": {
      "text/plain": [
       "3967      411828.0\n",
       "32361      16722.0\n",
       "14938     233022.0\n",
       "9557      865466.0\n",
       "6691      465988.0\n",
       "           ...    \n",
       "45971      91700.0\n",
       "23684     421585.0\n",
       "25367    1034780.0\n",
       "43771     479587.0\n",
       "38763     201136.0\n",
       "Name: taxvaluedollarcnt, Length: 10145, dtype: float64"
      ]
     },
     "execution_count": 67,
     "metadata": {},
     "output_type": "execute_result"
    }
   ],
   "source": [
    "y_test"
   ]
  },
  {
   "cell_type": "code",
   "execution_count": 68,
   "id": "54c5d00e",
   "metadata": {},
   "outputs": [
    {
     "name": "stdout",
     "output_type": "stream",
     "text": [
      "<class 'pandas.core.frame.DataFrame'>\n",
      "Int64Index: 10145 entries, 3967 to 38763\n",
      "Data columns (total 6 columns):\n",
      " #   Column                        Non-Null Count  Dtype  \n",
      "---  ------                        --------------  -----  \n",
      " 0   bathroomcnt                   10145 non-null  float64\n",
      " 1   bedroomcnt                    10145 non-null  float64\n",
      " 2   calculatedfinishedsquarefeet  10145 non-null  float64\n",
      " 3   fips                          10145 non-null  float64\n",
      " 4   yearbuilt                     10145 non-null  float64\n",
      " 5   taxvaluedollarcnt             10145 non-null  float64\n",
      "dtypes: float64(6)\n",
      "memory usage: 554.8 KB\n"
     ]
    }
   ],
   "source": [
    "test.info()"
   ]
  },
  {
   "cell_type": "code",
   "execution_count": 69,
   "id": "c41b9658",
   "metadata": {},
   "outputs": [
    {
     "data": {
      "text/plain": [
       "3967     411828.0\n",
       "32361     16722.0\n",
       "14938    233022.0\n",
       "9557     865466.0\n",
       "6691     465988.0\n",
       "Name: taxvaluedollarcnt, dtype: float64"
      ]
     },
     "execution_count": 69,
     "metadata": {},
     "output_type": "execute_result"
    }
   ],
   "source": [
    "y_test.head()"
   ]
  },
  {
   "cell_type": "code",
   "execution_count": 70,
   "id": "1accaefd",
   "metadata": {},
   "outputs": [
    {
     "data": {
      "text/html": [
       "<div>\n",
       "<style scoped>\n",
       "    .dataframe tbody tr th:only-of-type {\n",
       "        vertical-align: middle;\n",
       "    }\n",
       "\n",
       "    .dataframe tbody tr th {\n",
       "        vertical-align: top;\n",
       "    }\n",
       "\n",
       "    .dataframe thead th {\n",
       "        text-align: right;\n",
       "    }\n",
       "</style>\n",
       "<table border=\"1\" class=\"dataframe\">\n",
       "  <thead>\n",
       "    <tr style=\"text-align: right;\">\n",
       "      <th></th>\n",
       "      <th>taxvaluedollarcnt</th>\n",
       "    </tr>\n",
       "  </thead>\n",
       "  <tbody>\n",
       "    <tr>\n",
       "      <th>3967</th>\n",
       "      <td>411828.0</td>\n",
       "    </tr>\n",
       "    <tr>\n",
       "      <th>32361</th>\n",
       "      <td>16722.0</td>\n",
       "    </tr>\n",
       "    <tr>\n",
       "      <th>14938</th>\n",
       "      <td>233022.0</td>\n",
       "    </tr>\n",
       "    <tr>\n",
       "      <th>9557</th>\n",
       "      <td>865466.0</td>\n",
       "    </tr>\n",
       "    <tr>\n",
       "      <th>6691</th>\n",
       "      <td>465988.0</td>\n",
       "    </tr>\n",
       "    <tr>\n",
       "      <th>...</th>\n",
       "      <td>...</td>\n",
       "    </tr>\n",
       "    <tr>\n",
       "      <th>45971</th>\n",
       "      <td>91700.0</td>\n",
       "    </tr>\n",
       "    <tr>\n",
       "      <th>23684</th>\n",
       "      <td>421585.0</td>\n",
       "    </tr>\n",
       "    <tr>\n",
       "      <th>25367</th>\n",
       "      <td>1034780.0</td>\n",
       "    </tr>\n",
       "    <tr>\n",
       "      <th>43771</th>\n",
       "      <td>479587.0</td>\n",
       "    </tr>\n",
       "    <tr>\n",
       "      <th>38763</th>\n",
       "      <td>201136.0</td>\n",
       "    </tr>\n",
       "  </tbody>\n",
       "</table>\n",
       "<p>10145 rows × 1 columns</p>\n",
       "</div>"
      ],
      "text/plain": [
       "       taxvaluedollarcnt\n",
       "3967            411828.0\n",
       "32361            16722.0\n",
       "14938           233022.0\n",
       "9557            865466.0\n",
       "6691            465988.0\n",
       "...                  ...\n",
       "45971            91700.0\n",
       "23684           421585.0\n",
       "25367          1034780.0\n",
       "43771           479587.0\n",
       "38763           201136.0\n",
       "\n",
       "[10145 rows x 1 columns]"
      ]
     },
     "execution_count": 70,
     "metadata": {},
     "output_type": "execute_result"
    }
   ],
   "source": [
    "y_test = pd.DataFrame(y_test)\n",
    "# y_test.drop(\"G3_pred_lm\")\n",
    "y_test"
   ]
  },
  {
   "cell_type": "code",
   "execution_count": 79,
   "id": "e51e5580",
   "metadata": {},
   "outputs": [
    {
     "name": "stdout",
     "output_type": "stream",
     "text": [
      "RMSE for OLS using LinearRegression\n",
      "Training/In-Sample:  291397.4447750423 \n",
      "Validation/Out-of-Sample:  288308.6220619157 \n",
      "Roomatoid arthritis 286865.45949773426\n"
     ]
    }
   ],
   "source": [
    "# create the model object\n",
    "lm = LinearRegression(normalize=True)\n",
    "\n",
    "# fit the model to our training data. We must specify the column in y_train, \n",
    "# since we have converted it to a dataframe from a series! \n",
    "lm.fit(X_train, y_train.taxvaluedollarcnt)\n",
    "\n",
    "# predict train\n",
    "y_train['G3_pred_lm'] = lm.predict(X_train)\n",
    "\n",
    "# evaluate: rmse\n",
    "rmse_train = mean_squared_error(y_train.taxvaluedollarcnt, y_train.G3_pred_lm)**(1/2)\n",
    "\n",
    "# predict validate\n",
    "y_validate['G3_pred_lm'] = lm.predict(X_validate)\n",
    "\n",
    "# evaluate: rmse\n",
    "rmse_validate = mean_squared_error(y_validate.taxvaluedollarcnt, y_validate.G3_pred_lm)**(1/2)\n",
    "\n",
    "# predict test\n",
    "y_test['G3_pred_lm'] = lm.predict(X_test)\n",
    "\n",
    "rmse_test = mean_squared_error(y_test.taxvaluedollarcnt, y_test.G3_pred_lm)**(1/2)\n",
    "\n",
    "print(\"RMSE for OLS using LinearRegression\\nTraining/In-Sample: \", rmse_train, \n",
    "      \"\\nValidation/Out-of-Sample: \", rmse_validate,\n",
    "     \"\\nRoomatoid arthritis:\", rmse_test)"
   ]
  },
  {
   "cell_type": "markdown",
   "id": "b01746ce",
   "metadata": {},
   "source": [
    "Pick best model, run all models then choose 1 from there, the chosen one gets the test data set"
   ]
  },
  {
   "cell_type": "code",
   "execution_count": 72,
   "id": "4b4b2492",
   "metadata": {},
   "outputs": [
    {
     "data": {
      "text/html": [
       "<div>\n",
       "<style scoped>\n",
       "    .dataframe tbody tr th:only-of-type {\n",
       "        vertical-align: middle;\n",
       "    }\n",
       "\n",
       "    .dataframe tbody tr th {\n",
       "        vertical-align: top;\n",
       "    }\n",
       "\n",
       "    .dataframe thead th {\n",
       "        text-align: right;\n",
       "    }\n",
       "</style>\n",
       "<table border=\"1\" class=\"dataframe\">\n",
       "  <thead>\n",
       "    <tr style=\"text-align: right;\">\n",
       "      <th></th>\n",
       "      <th>bathroomcnt</th>\n",
       "      <th>bedroomcnt</th>\n",
       "      <th>calculatedfinishedsquarefeet</th>\n",
       "      <th>fips</th>\n",
       "      <th>yearbuilt</th>\n",
       "      <th>taxvaluedollarcnt</th>\n",
       "      <th>baseline</th>\n",
       "      <th>yhat</th>\n",
       "      <th>scaled_squarefeet</th>\n",
       "    </tr>\n",
       "  </thead>\n",
       "  <tbody>\n",
       "    <tr>\n",
       "      <th>26274</th>\n",
       "      <td>2.0</td>\n",
       "      <td>4.0</td>\n",
       "      <td>1770.0</td>\n",
       "      <td>6059.0</td>\n",
       "      <td>1962.0</td>\n",
       "      <td>435025.0</td>\n",
       "      <td>444749.313642</td>\n",
       "      <td>427905.123037</td>\n",
       "      <td>0.184882</td>\n",
       "    </tr>\n",
       "    <tr>\n",
       "      <th>32524</th>\n",
       "      <td>1.0</td>\n",
       "      <td>2.0</td>\n",
       "      <td>1326.0</td>\n",
       "      <td>6037.0</td>\n",
       "      <td>1951.0</td>\n",
       "      <td>292396.0</td>\n",
       "      <td>444749.313642</td>\n",
       "      <td>317515.321687</td>\n",
       "      <td>0.129040</td>\n",
       "    </tr>\n",
       "    <tr>\n",
       "      <th>19029</th>\n",
       "      <td>2.0</td>\n",
       "      <td>3.0</td>\n",
       "      <td>2540.0</td>\n",
       "      <td>6037.0</td>\n",
       "      <td>1924.0</td>\n",
       "      <td>177234.0</td>\n",
       "      <td>444749.313642</td>\n",
       "      <td>619346.895648</td>\n",
       "      <td>0.281726</td>\n",
       "    </tr>\n",
       "    <tr>\n",
       "      <th>39945</th>\n",
       "      <td>3.0</td>\n",
       "      <td>3.0</td>\n",
       "      <td>2222.0</td>\n",
       "      <td>6037.0</td>\n",
       "      <td>1949.0</td>\n",
       "      <td>254176.0</td>\n",
       "      <td>444749.313642</td>\n",
       "      <td>540283.929817</td>\n",
       "      <td>0.241731</td>\n",
       "    </tr>\n",
       "    <tr>\n",
       "      <th>24739</th>\n",
       "      <td>2.0</td>\n",
       "      <td>3.0</td>\n",
       "      <td>1605.0</td>\n",
       "      <td>6037.0</td>\n",
       "      <td>1950.0</td>\n",
       "      <td>293620.0</td>\n",
       "      <td>444749.313642</td>\n",
       "      <td>386881.886049</td>\n",
       "      <td>0.164130</td>\n",
       "    </tr>\n",
       "  </tbody>\n",
       "</table>\n",
       "</div>"
      ],
      "text/plain": [
       "       bathroomcnt  bedroomcnt  calculatedfinishedsquarefeet    fips  \\\n",
       "26274          2.0         4.0                        1770.0  6059.0   \n",
       "32524          1.0         2.0                        1326.0  6037.0   \n",
       "19029          2.0         3.0                        2540.0  6037.0   \n",
       "39945          3.0         3.0                        2222.0  6037.0   \n",
       "24739          2.0         3.0                        1605.0  6037.0   \n",
       "\n",
       "       yearbuilt  taxvaluedollarcnt       baseline           yhat  \\\n",
       "26274     1962.0           435025.0  444749.313642  427905.123037   \n",
       "32524     1951.0           292396.0  444749.313642  317515.321687   \n",
       "19029     1924.0           177234.0  444749.313642  619346.895648   \n",
       "39945     1949.0           254176.0  444749.313642  540283.929817   \n",
       "24739     1950.0           293620.0  444749.313642  386881.886049   \n",
       "\n",
       "       scaled_squarefeet  \n",
       "26274           0.184882  \n",
       "32524           0.129040  \n",
       "19029           0.281726  \n",
       "39945           0.241731  \n",
       "24739           0.164130  "
      ]
     },
     "execution_count": 72,
     "metadata": {},
     "output_type": "execute_result"
    }
   ],
   "source": [
    "train.head()"
   ]
  },
  {
   "cell_type": "code",
   "execution_count": 73,
   "id": "6b8cffdf",
   "metadata": {},
   "outputs": [
    {
     "data": {
      "text/html": [
       "<div>\n",
       "<style scoped>\n",
       "    .dataframe tbody tr th:only-of-type {\n",
       "        vertical-align: middle;\n",
       "    }\n",
       "\n",
       "    .dataframe tbody tr th {\n",
       "        vertical-align: top;\n",
       "    }\n",
       "\n",
       "    .dataframe thead th {\n",
       "        text-align: right;\n",
       "    }\n",
       "</style>\n",
       "<table border=\"1\" class=\"dataframe\">\n",
       "  <thead>\n",
       "    <tr style=\"text-align: right;\">\n",
       "      <th></th>\n",
       "      <th>taxvaluedollarcnt</th>\n",
       "      <th>price_pred_mean</th>\n",
       "      <th>price_pred_median</th>\n",
       "      <th>G3_pred_lm</th>\n",
       "    </tr>\n",
       "  </thead>\n",
       "  <tbody>\n",
       "    <tr>\n",
       "      <th>26274</th>\n",
       "      <td>435025.0</td>\n",
       "      <td>444749.313642</td>\n",
       "      <td>364078.0</td>\n",
       "      <td>427905.123037</td>\n",
       "    </tr>\n",
       "    <tr>\n",
       "      <th>32524</th>\n",
       "      <td>292396.0</td>\n",
       "      <td>444749.313642</td>\n",
       "      <td>364078.0</td>\n",
       "      <td>317515.321687</td>\n",
       "    </tr>\n",
       "    <tr>\n",
       "      <th>19029</th>\n",
       "      <td>177234.0</td>\n",
       "      <td>444749.313642</td>\n",
       "      <td>364078.0</td>\n",
       "      <td>619346.895648</td>\n",
       "    </tr>\n",
       "    <tr>\n",
       "      <th>39945</th>\n",
       "      <td>254176.0</td>\n",
       "      <td>444749.313642</td>\n",
       "      <td>364078.0</td>\n",
       "      <td>540283.929817</td>\n",
       "    </tr>\n",
       "    <tr>\n",
       "      <th>24739</th>\n",
       "      <td>293620.0</td>\n",
       "      <td>444749.313642</td>\n",
       "      <td>364078.0</td>\n",
       "      <td>386881.886049</td>\n",
       "    </tr>\n",
       "  </tbody>\n",
       "</table>\n",
       "</div>"
      ],
      "text/plain": [
       "       taxvaluedollarcnt  price_pred_mean  price_pred_median     G3_pred_lm\n",
       "26274           435025.0    444749.313642           364078.0  427905.123037\n",
       "32524           292396.0    444749.313642           364078.0  317515.321687\n",
       "19029           177234.0    444749.313642           364078.0  619346.895648\n",
       "39945           254176.0    444749.313642           364078.0  540283.929817\n",
       "24739           293620.0    444749.313642           364078.0  386881.886049"
      ]
     },
     "execution_count": 73,
     "metadata": {},
     "output_type": "execute_result"
    }
   ],
   "source": [
    "y_train.head()"
   ]
  },
  {
   "cell_type": "code",
   "execution_count": 74,
   "id": "fa2f8cff",
   "metadata": {},
   "outputs": [
    {
     "data": {
      "text/html": [
       "<div>\n",
       "<style scoped>\n",
       "    .dataframe tbody tr th:only-of-type {\n",
       "        vertical-align: middle;\n",
       "    }\n",
       "\n",
       "    .dataframe tbody tr th {\n",
       "        vertical-align: top;\n",
       "    }\n",
       "\n",
       "    .dataframe thead th {\n",
       "        text-align: right;\n",
       "    }\n",
       "</style>\n",
       "<table border=\"1\" class=\"dataframe\">\n",
       "  <thead>\n",
       "    <tr style=\"text-align: right;\">\n",
       "      <th></th>\n",
       "      <th>taxvaluedollarcnt</th>\n",
       "      <th>G3_pred_lm</th>\n",
       "    </tr>\n",
       "  </thead>\n",
       "  <tbody>\n",
       "    <tr>\n",
       "      <th>3967</th>\n",
       "      <td>411828.0</td>\n",
       "      <td>542272.935246</td>\n",
       "    </tr>\n",
       "    <tr>\n",
       "      <th>32361</th>\n",
       "      <td>16722.0</td>\n",
       "      <td>220302.681309</td>\n",
       "    </tr>\n",
       "    <tr>\n",
       "      <th>14938</th>\n",
       "      <td>233022.0</td>\n",
       "      <td>652165.485239</td>\n",
       "    </tr>\n",
       "    <tr>\n",
       "      <th>9557</th>\n",
       "      <td>865466.0</td>\n",
       "      <td>465198.974844</td>\n",
       "    </tr>\n",
       "    <tr>\n",
       "      <th>6691</th>\n",
       "      <td>465988.0</td>\n",
       "      <td>220551.306988</td>\n",
       "    </tr>\n",
       "  </tbody>\n",
       "</table>\n",
       "</div>"
      ],
      "text/plain": [
       "       taxvaluedollarcnt     G3_pred_lm\n",
       "3967            411828.0  542272.935246\n",
       "32361            16722.0  220302.681309\n",
       "14938           233022.0  652165.485239\n",
       "9557            865466.0  465198.974844\n",
       "6691            465988.0  220551.306988"
      ]
     },
     "execution_count": 74,
     "metadata": {},
     "output_type": "execute_result"
    }
   ],
   "source": [
    "y_test.head()"
   ]
  },
  {
   "cell_type": "code",
   "execution_count": 75,
   "id": "79532b36",
   "metadata": {},
   "outputs": [
    {
     "name": "stdout",
     "output_type": "stream",
     "text": [
      "       taxvaluedollarcnt     G3_pred_lm\n",
      "3967            411828.0  542272.935246\n",
      "32361            16722.0  220302.681309\n",
      "14938           233022.0  652165.485239\n",
      "9557            865466.0  465198.974844\n",
      "6691            465988.0  220551.306988\n",
      "       taxvaluedollarcnt     G3_pred_lm         y_test\n",
      "3967            411828.0  542272.935246  542272.935246\n",
      "32361            16722.0  220302.681309  220302.681309\n",
      "14938           233022.0  652165.485239  652165.485239\n",
      "9557            865466.0  465198.974844  465198.974844\n",
      "6691            465988.0  220551.306988  220551.306988\n",
      "RMSE for OLS using LinearRegression\n",
      "Training/In-Sample:  291397.4447750423 \n",
      "Validation/Out-of-Sample:  286865.45949773426        taxvaluedollarcnt     G3_pred_lm         y_test\n",
      "3967            411828.0  542272.935246  542272.935246\n",
      "32361            16722.0  220302.681309  220302.681309\n",
      "14938           233022.0  652165.485239  652165.485239\n",
      "9557            865466.0  465198.974844  465198.974844\n",
      "6691            465988.0  220551.306988  220551.306988\n",
      "...                  ...            ...            ...\n",
      "45971            91700.0  301354.652571  301354.652571\n",
      "23684           421585.0  373704.725077  373704.725077\n",
      "25367          1034780.0  562162.989544  562162.989544\n",
      "43771           479587.0  239446.858570  239446.858570\n",
      "38763           201136.0  243922.120787  243922.120787\n",
      "\n",
      "[10145 rows x 3 columns]\n"
     ]
    }
   ],
   "source": [
    "# create the model object\n",
    "lm = LinearRegression(normalize=True)\n",
    "\n",
    "# fit the model to our training data. We must specify the column in y_train, \n",
    "# since we have converted it to a dataframe from a series! \n",
    "lm.fit(X_train, y_train.taxvaluedollarcnt)\n",
    "\n",
    "# predict train\n",
    "y_train['G3_pred_lm'] = lm.predict(X_train)\n",
    "\n",
    "# evaluate: rmse\n",
    "rmse_train = mean_squared_error(y_train.taxvaluedollarcnt, y_train.G3_pred_lm)**(1/2)\n",
    "\n",
    "# predict validate\n",
    "y_validate['G3_pred_lm'] = lm.predict(X_validate)\n",
    "\n",
    "#test the data\n",
    "print(y_test.head())\n",
    "y_test['y_test'] = lm.predict(X_test)\n",
    "# print(y_test.head())\n",
    "# evaluate: rmse\n",
    "rmse_validate = mean_squared_error(y_validate.taxvaluedollarcnt, y_validate.G3_pred_lm)**(1/2)\n",
    "\n",
    "rmse_validate = mean_squared_error(y_test.taxvaluedollarcnt, y_test.y_test)**(1/2)\n",
    "\n",
    "\n",
    "print(\"RMSE for OLS using LinearRegression\\nTraining/In-Sample: \", rmse_train, \n",
    "      \"\\nValidation/Out-of-Sample: \", rmse_validate, y_test)"
   ]
  },
  {
   "cell_type": "code",
   "execution_count": 76,
   "id": "865d2734",
   "metadata": {},
   "outputs": [
    {
     "data": {
      "text/html": [
       "<div>\n",
       "<style scoped>\n",
       "    .dataframe tbody tr th:only-of-type {\n",
       "        vertical-align: middle;\n",
       "    }\n",
       "\n",
       "    .dataframe tbody tr th {\n",
       "        vertical-align: top;\n",
       "    }\n",
       "\n",
       "    .dataframe thead th {\n",
       "        text-align: right;\n",
       "    }\n",
       "</style>\n",
       "<table border=\"1\" class=\"dataframe\">\n",
       "  <thead>\n",
       "    <tr style=\"text-align: right;\">\n",
       "      <th></th>\n",
       "      <th>taxvaluedollarcnt</th>\n",
       "      <th>G3_pred_lm</th>\n",
       "      <th>y_test</th>\n",
       "    </tr>\n",
       "  </thead>\n",
       "  <tbody>\n",
       "    <tr>\n",
       "      <th>3967</th>\n",
       "      <td>411828.0</td>\n",
       "      <td>542272.935246</td>\n",
       "      <td>542272.935246</td>\n",
       "    </tr>\n",
       "    <tr>\n",
       "      <th>32361</th>\n",
       "      <td>16722.0</td>\n",
       "      <td>220302.681309</td>\n",
       "      <td>220302.681309</td>\n",
       "    </tr>\n",
       "    <tr>\n",
       "      <th>14938</th>\n",
       "      <td>233022.0</td>\n",
       "      <td>652165.485239</td>\n",
       "      <td>652165.485239</td>\n",
       "    </tr>\n",
       "    <tr>\n",
       "      <th>9557</th>\n",
       "      <td>865466.0</td>\n",
       "      <td>465198.974844</td>\n",
       "      <td>465198.974844</td>\n",
       "    </tr>\n",
       "    <tr>\n",
       "      <th>6691</th>\n",
       "      <td>465988.0</td>\n",
       "      <td>220551.306988</td>\n",
       "      <td>220551.306988</td>\n",
       "    </tr>\n",
       "    <tr>\n",
       "      <th>...</th>\n",
       "      <td>...</td>\n",
       "      <td>...</td>\n",
       "      <td>...</td>\n",
       "    </tr>\n",
       "    <tr>\n",
       "      <th>45971</th>\n",
       "      <td>91700.0</td>\n",
       "      <td>301354.652571</td>\n",
       "      <td>301354.652571</td>\n",
       "    </tr>\n",
       "    <tr>\n",
       "      <th>23684</th>\n",
       "      <td>421585.0</td>\n",
       "      <td>373704.725077</td>\n",
       "      <td>373704.725077</td>\n",
       "    </tr>\n",
       "    <tr>\n",
       "      <th>25367</th>\n",
       "      <td>1034780.0</td>\n",
       "      <td>562162.989544</td>\n",
       "      <td>562162.989544</td>\n",
       "    </tr>\n",
       "    <tr>\n",
       "      <th>43771</th>\n",
       "      <td>479587.0</td>\n",
       "      <td>239446.858570</td>\n",
       "      <td>239446.858570</td>\n",
       "    </tr>\n",
       "    <tr>\n",
       "      <th>38763</th>\n",
       "      <td>201136.0</td>\n",
       "      <td>243922.120787</td>\n",
       "      <td>243922.120787</td>\n",
       "    </tr>\n",
       "  </tbody>\n",
       "</table>\n",
       "<p>10145 rows × 3 columns</p>\n",
       "</div>"
      ],
      "text/plain": [
       "       taxvaluedollarcnt     G3_pred_lm         y_test\n",
       "3967            411828.0  542272.935246  542272.935246\n",
       "32361            16722.0  220302.681309  220302.681309\n",
       "14938           233022.0  652165.485239  652165.485239\n",
       "9557            865466.0  465198.974844  465198.974844\n",
       "6691            465988.0  220551.306988  220551.306988\n",
       "...                  ...            ...            ...\n",
       "45971            91700.0  301354.652571  301354.652571\n",
       "23684           421585.0  373704.725077  373704.725077\n",
       "25367          1034780.0  562162.989544  562162.989544\n",
       "43771           479587.0  239446.858570  239446.858570\n",
       "38763           201136.0  243922.120787  243922.120787\n",
       "\n",
       "[10145 rows x 3 columns]"
      ]
     },
     "execution_count": 76,
     "metadata": {},
     "output_type": "execute_result"
    }
   ],
   "source": [
    "y_test"
   ]
  },
  {
   "cell_type": "code",
   "execution_count": 77,
   "id": "2e586a21",
   "metadata": {},
   "outputs": [
    {
     "name": "stdout",
     "output_type": "stream",
     "text": [
      "RMSE for Lasso + Lars\n",
      "Training/In-Sample:  291397.49351431255 \n",
      "Validation/Out-of-Sample:  288305.300274475\n"
     ]
    }
   ],
   "source": [
    "# create the model object\n",
    "lars = LassoLars(alpha=1.0)\n",
    "\n",
    "# fit the model to our training data. We must specify the column in y_train, \n",
    "# since we have converted it to a dataframe from a series! \n",
    "lars.fit(X_train, y_train.taxvaluedollarcnt)\n",
    "\n",
    "# predict train\n",
    "y_train['G3_pred_lars'] = lars.predict(X_train)\n",
    "\n",
    "# evaluate: rmse\n",
    "rmse_train = mean_squared_error(y_train.taxvaluedollarcnt, y_train.G3_pred_lars)**(1/2)\n",
    "\n",
    "# predict validate\n",
    "y_validate['G3_pred_lars'] = lars.predict(X_validate)\n",
    "\n",
    "# evaluate: rmse\n",
    "rmse_validate = mean_squared_error(y_validate.taxvaluedollarcnt, y_validate.G3_pred_lars)**(1/2)\n",
    "\n",
    "print(\"RMSE for Lasso + Lars\\nTraining/In-Sample: \", rmse_train, \n",
    "      \"\\nValidation/Out-of-Sample: \", rmse_validate)"
   ]
  },
  {
   "cell_type": "code",
   "execution_count": 78,
   "id": "08b34286",
   "metadata": {},
   "outputs": [
    {
     "name": "stdout",
     "output_type": "stream",
     "text": [
      "RMSE for GLM using Tweedie, power=1 & alpha=0\n",
      "Training/In-Sample:  355302.21101081825 \n",
      "Validation/Out-of-Sample:  351801.8788287944\n"
     ]
    }
   ],
   "source": [
    "# create the model object\n",
    "glm = TweedieRegressor(power=1, alpha=0)\n",
    "\n",
    "# fit the model to our training data. We must specify the column in y_train, \n",
    "# since we have converted it to a dataframe from a series! \n",
    "glm.fit(X_train, y_train.taxvaluedollarcnt)\n",
    "\n",
    "# predict train\n",
    "y_train['G3_pred_glm'] = glm.predict(X_train)\n",
    "\n",
    "# evaluate: rmse\n",
    "rmse_train = mean_squared_error(y_train.taxvaluedollarcnt, y_train.G3_pred_glm)**(1/2)\n",
    "\n",
    "# predict validate\n",
    "y_validate['G3_pred_glm'] = glm.predict(X_validate)\n",
    "\n",
    "# evaluate: rmse\n",
    "rmse_validate = mean_squared_error(y_validate.taxvaluedollarcnt, y_validate.G3_pred_glm)**(1/2)\n",
    "\n",
    "print(\"RMSE for GLM using Tweedie, power=1 & alpha=0\\nTraining/In-Sample: \", rmse_train, \n",
    "      \"\\nValidation/Out-of-Sample: \", rmse_validate)"
   ]
  },
  {
   "cell_type": "markdown",
   "id": "d85a5286",
   "metadata": {},
   "source": [
    "# Evaluate"
   ]
  },
  {
   "cell_type": "markdown",
   "id": "852e9e92",
   "metadata": {},
   "source": [
    "Of the three machine learning models we have used Linear Regression and Lasso Lars are about the same"
   ]
  },
  {
   "cell_type": "markdown",
   "id": "f869c54b",
   "metadata": {},
   "source": [
    "I would suggest we use the linear regression model to guide the project forward"
   ]
  },
  {
   "cell_type": "markdown",
   "id": "feb27182",
   "metadata": {},
   "source": [
    "### now can run it against the test data set to determine final accuracy"
   ]
  },
  {
   "cell_type": "code",
   "execution_count": null,
   "id": "7baa2f42",
   "metadata": {},
   "outputs": [],
   "source": []
  }
 ],
 "metadata": {
  "kernelspec": {
   "display_name": "Python 3 (ipykernel)",
   "language": "python",
   "name": "python3"
  },
  "language_info": {
   "codemirror_mode": {
    "name": "ipython",
    "version": 3
   },
   "file_extension": ".py",
   "mimetype": "text/x-python",
   "name": "python",
   "nbconvert_exporter": "python",
   "pygments_lexer": "ipython3",
   "version": "3.9.7"
  }
 },
 "nbformat": 4,
 "nbformat_minor": 5
}
