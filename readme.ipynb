{
 "cells": [
  {
   "cell_type": "markdown",
   "id": "e22c141b",
   "metadata": {},
   "source": [
    "# Readme (.md)"
   ]
  },
  {
   "cell_type": "markdown",
   "id": "cb748ffa",
   "metadata": {},
   "source": [
    "## project description with goals"
   ]
  },
  {
   "cell_type": "markdown",
   "id": "004a0aea",
   "metadata": {},
   "source": [
    "This project has come form the team needing my help. That is because they are all BABIES"
   ]
  },
  {
   "cell_type": "markdown",
   "id": "6a392ada",
   "metadata": {},
   "source": [
    "But no in actuality what is really going on is the project description. I have been tasked with (as a junior data scientist) making a better model for the zillow data science team. Through this lens we will spread our regression stat wings and show off what we can do to produce more revenew in the business."
   ]
  },
  {
   "cell_type": "markdown",
   "id": "c63c4028",
   "metadata": {},
   "source": [
    "Project description: we build many models, measure them against each other then choose from the best one."
   ]
  },
  {
   "cell_type": "markdown",
   "id": "87d39187",
   "metadata": {},
   "source": [
    ">We want to be able to predict the property tax assessed values ('taxvaluedollarcnt') of Single Family Properties that had a transaction during 2017.\n",
    "\n",
    ">We have a model already, but we are hoping your insights can help us improve it. I need recommendations on a way to make a better model. Maybe you will create a new feature out of existing ones that works better, try a non-linear regression algorithm, or try to create a different model for each county. Whatever you find that works (or doesn't work) will be useful. Given you have just joined our team, we are excited to see your outside perspective.\n",
    "\n",
    ">One last thing, Zach lost the email that told us where these properties were located. Ugh, Zach :-/. Because property taxes are assessed at the county level, we would like to know what states and counties these are located in."
   ]
  },
  {
   "cell_type": "markdown",
   "id": "178371c2",
   "metadata": {},
   "source": [
    "<b>-- The Zillow Data Science Team</b>"
   ]
  },
  {
   "cell_type": "markdown",
   "id": "31961444",
   "metadata": {},
   "source": [
    "The goals are to sift through the data to find a strong feature that pulls on our target variable the most.\n",
    "Test features to find out the one's with the strongest impact.\n",
    "With those features model them to ellicit some emotional responce to move the company."
   ]
  },
  {
   "cell_type": "markdown",
   "id": "284b6481",
   "metadata": {},
   "source": [
    "## initial hypotheses and/or questions you have of the data, ideas"
   ]
  },
  {
   "cell_type": "markdown",
   "id": "17b92b2d",
   "metadata": {},
   "source": [
    "My initial hypotheses is that the square footage would be the most powerful driver. Meaning that the bedroom count and bathroom count would be second and third most impactful repespectively "
   ]
  },
  {
   "cell_type": "markdown",
   "id": "f468c380",
   "metadata": {},
   "source": [
    "A huge set of questions that I have is about the rest of the features that haven't necessarily been imported"
   ]
  },
  {
   "cell_type": "markdown",
   "id": "9d57d96a",
   "metadata": {},
   "source": [
    "## Data dictionary\n",
    "- bathroomcnt : Number of bathrooms in home including fractional bathrooms\n",
    "- bedroomcnt :  Number of bedrooms in home \n",
    "- calculatedfinishedsquarefeet:  Calculated total finished living area of the home \n",
    "- fips:  Federal Information Processing Standard code -  see https://en.wikipedia.org/wiki/FIPS_county_code for more details\n",
    "- yearbuilt:  The Year the principal residence was built \n",
    "- taxvaluedollarcnt: The total tax assessed value of the parcel\n",
    "- the rest is in my repo"
   ]
  },
  {
   "cell_type": "markdown",
   "id": "8eeeb57f",
   "metadata": {},
   "source": [
    "## project planning"
   ]
  },
  {
   "cell_type": "markdown",
   "id": "79474fcd",
   "metadata": {},
   "source": [
    "The project planning will be split between markdown notes, trello boards, and miro mind map"
   ]
  },
  {
   "cell_type": "markdown",
   "id": "99dc0676",
   "metadata": {},
   "source": [
    "I need to acquire, prepare, explore and preprocessing, modeling and delivery"
   ]
  },
  {
   "cell_type": "markdown",
   "id": "05680af9",
   "metadata": {},
   "source": [
    ">Your readme includes a project plan which helps guide both the user and yourself through the different stages of the pipeline and steps you took to get to your conclusion"
   ]
  },
  {
   "cell_type": "markdown",
   "id": "5d3c5baf",
   "metadata": {},
   "source": [
    "## instructions or an explanation of how someone else can reproduce your project and findings (What would someone need to be able to recreate your project on their own?)"
   ]
  },
  {
   "cell_type": "markdown",
   "id": "077b530b",
   "metadata": {},
   "source": [
    "This will be a link to my complete files"
   ]
  },
  {
   "cell_type": "markdown",
   "id": "68da63a6",
   "metadata": {},
   "source": [
    "## key findings, recommendations, and takeaways from your project."
   ]
  },
  {
   "cell_type": "markdown",
   "id": "4e426470",
   "metadata": {},
   "source": [
    "These will have to be revisited but as far as MVP goes this is complete."
   ]
  },
  {
   "cell_type": "markdown",
   "id": "1f9a16b0",
   "metadata": {},
   "source": [
    "## Steps to recreate"
   ]
  },
  {
   "cell_type": "markdown",
   "id": "6fadebed",
   "metadata": {},
   "source": [
    "<hr>"
   ]
  },
  {
   "cell_type": "markdown",
   "id": "a823ff63",
   "metadata": {},
   "source": [
    "1. Clone this repository\n",
    "2. Acquire the data through https://www.kaggle.com/datasets/kaggle/kaggle-survey-2017\n",
    "3. Put the data in the file containing the cloned repo.\n",
    "4. Run notebook."
   ]
  }
 ],
 "metadata": {
  "kernelspec": {
   "display_name": "Python 3 (ipykernel)",
   "language": "python",
   "name": "python3"
  },
  "language_info": {
   "codemirror_mode": {
    "name": "ipython",
    "version": 3
   },
   "file_extension": ".py",
   "mimetype": "text/x-python",
   "name": "python",
   "nbconvert_exporter": "python",
   "pygments_lexer": "ipython3",
   "version": "3.9.7"
  }
 },
 "nbformat": 4,
 "nbformat_minor": 5
}
